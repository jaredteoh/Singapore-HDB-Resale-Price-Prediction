{
  "nbformat": 4,
  "nbformat_minor": 0,
  "metadata": {
    "interpreter": {
      "hash": "f97b7fe20db23a699bc6779f2eb51ab091916a68e65cb929affbc57669fb3eea"
    },
    "kernelspec": {
      "display_name": "Python 3",
      "language": "python",
      "name": "python3"
    },
    "language_info": {
      "codemirror_mode": {
        "name": "ipython",
        "version": 3
      },
      "file_extension": ".py",
      "mimetype": "text/x-python",
      "name": "python",
      "nbconvert_exporter": "python",
      "pygments_lexer": "ipython3",
      "version": "3.6.13"
    },
    "colab": {
      "name": "HDB Resale Price Prediction rev1.ipynb",
      "provenance": [],
      "collapsed_sections": [],
      "include_colab_link": true
    },
    "accelerator": "GPU"
  },
  "cells": [
    {
      "cell_type": "markdown",
      "metadata": {
        "id": "view-in-github",
        "colab_type": "text"
      },
      "source": [
        "<a href=\"https://colab.research.google.com/github/jaredteoh/Singapore-HDB-Resale-Price-Prediction/blob/main/HDB_Resale_Price_Prediction.ipynb\" target=\"_parent\"><img src=\"https://colab.research.google.com/assets/colab-badge.svg\" alt=\"Open In Colab\"/></a>"
      ]
    },
    {
      "cell_type": "markdown",
      "metadata": {
        "id": "Y_71mhHBwxr8"
      },
      "source": [
        "## Introduction"
      ]
    },
    {
      "cell_type": "markdown",
      "metadata": {
        "id": "uiTZNkgsw2eY"
      },
      "source": [
        "The main objective of this project is to make sensible predictions of the resale prices of public housing in Singapore (using the dataset obtained from data.gov.sg). Since the location of housing (e.g., distance from the nearest mrt) is important on determining resale prices, we will derive some additional features that will aid our prediction accuracy, as we will see later.\n",
        "\n",
        "Credits: https://medium.com/@michael.wy.ong/web-scrape-geospatial-data-analyse-singapores-property-price-part-i-276caba320b\n",
        "\n",
        "Reference: Hands-On Machine Learning with Scikit-Learn, Keras, and TensorFlow by Aurelien Geron"
      ]
    },
    {
      "cell_type": "code",
      "metadata": {
        "id": "zpDnum8devNm"
      },
      "source": [
        "import numpy as np\n",
        "import pandas as pd\n",
        "import seaborn as sns\n",
        "import matplotlib.pyplot as plt\n",
        "import requests\n",
        "import math\n",
        "import json\n",
        "import os"
      ],
      "execution_count": 1,
      "outputs": []
    },
    {
      "cell_type": "code",
      "metadata": {
        "colab": {
          "base_uri": "https://localhost:8080/"
        },
        "id": "P7TJWOtopccW",
        "outputId": "53939cf2-63cd-4e83-b9e2-f4111795e833"
      },
      "source": [
        "from google.colab import drive\n",
        "drive.mount('/content/drive')"
      ],
      "execution_count": 2,
      "outputs": [
        {
          "output_type": "stream",
          "text": [
            "Mounted at /content/drive\n"
          ],
          "name": "stdout"
        }
      ]
    },
    {
      "cell_type": "markdown",
      "metadata": {
        "id": "EKrda33vevNr"
      },
      "source": [
        "## Web-scraping Data & Exploratory Data Analysis (EDA)"
      ]
    },
    {
      "cell_type": "markdown",
      "metadata": {
        "id": "ynWvqqreevNs"
      },
      "source": [
        "The resale flat prices can be found on the data.gov.sg website. In this case, we will be using the prices from January 2017 onwards (which has been downloaded beforehand):"
      ]
    },
    {
      "cell_type": "code",
      "metadata": {
        "scrolled": true,
        "id": "fXD1iU_pevNt",
        "colab": {
          "base_uri": "https://localhost:8080/",
          "height": 204
        },
        "outputId": "fc185dd3-c9ce-4b3b-887e-bb0f857695ef"
      },
      "source": [
        "resale_price_path = '/content/drive/MyDrive/Colab Notebooks/Housing/resale-flat-prices-based-on-registration-date-from-jan-2017-onwards.csv'\n",
        "df_resale = pd.read_csv(resale_price_path)\n",
        "df_resale.head()"
      ],
      "execution_count": 3,
      "outputs": [
        {
          "output_type": "execute_result",
          "data": {
            "text/html": [
              "<div>\n",
              "<style scoped>\n",
              "    .dataframe tbody tr th:only-of-type {\n",
              "        vertical-align: middle;\n",
              "    }\n",
              "\n",
              "    .dataframe tbody tr th {\n",
              "        vertical-align: top;\n",
              "    }\n",
              "\n",
              "    .dataframe thead th {\n",
              "        text-align: right;\n",
              "    }\n",
              "</style>\n",
              "<table border=\"1\" class=\"dataframe\">\n",
              "  <thead>\n",
              "    <tr style=\"text-align: right;\">\n",
              "      <th></th>\n",
              "      <th>month</th>\n",
              "      <th>town</th>\n",
              "      <th>flat_type</th>\n",
              "      <th>block</th>\n",
              "      <th>street_name</th>\n",
              "      <th>storey_range</th>\n",
              "      <th>floor_area_sqm</th>\n",
              "      <th>flat_model</th>\n",
              "      <th>lease_commence_date</th>\n",
              "      <th>remaining_lease</th>\n",
              "      <th>resale_price</th>\n",
              "    </tr>\n",
              "  </thead>\n",
              "  <tbody>\n",
              "    <tr>\n",
              "      <th>0</th>\n",
              "      <td>2017-01</td>\n",
              "      <td>ANG MO KIO</td>\n",
              "      <td>2 ROOM</td>\n",
              "      <td>406</td>\n",
              "      <td>ANG MO KIO AVE 10</td>\n",
              "      <td>10 TO 12</td>\n",
              "      <td>44.0</td>\n",
              "      <td>Improved</td>\n",
              "      <td>1979</td>\n",
              "      <td>61 years 04 months</td>\n",
              "      <td>232000.0</td>\n",
              "    </tr>\n",
              "    <tr>\n",
              "      <th>1</th>\n",
              "      <td>2017-01</td>\n",
              "      <td>ANG MO KIO</td>\n",
              "      <td>3 ROOM</td>\n",
              "      <td>108</td>\n",
              "      <td>ANG MO KIO AVE 4</td>\n",
              "      <td>01 TO 03</td>\n",
              "      <td>67.0</td>\n",
              "      <td>New Generation</td>\n",
              "      <td>1978</td>\n",
              "      <td>60 years 07 months</td>\n",
              "      <td>250000.0</td>\n",
              "    </tr>\n",
              "    <tr>\n",
              "      <th>2</th>\n",
              "      <td>2017-01</td>\n",
              "      <td>ANG MO KIO</td>\n",
              "      <td>3 ROOM</td>\n",
              "      <td>602</td>\n",
              "      <td>ANG MO KIO AVE 5</td>\n",
              "      <td>01 TO 03</td>\n",
              "      <td>67.0</td>\n",
              "      <td>New Generation</td>\n",
              "      <td>1980</td>\n",
              "      <td>62 years 05 months</td>\n",
              "      <td>262000.0</td>\n",
              "    </tr>\n",
              "    <tr>\n",
              "      <th>3</th>\n",
              "      <td>2017-01</td>\n",
              "      <td>ANG MO KIO</td>\n",
              "      <td>3 ROOM</td>\n",
              "      <td>465</td>\n",
              "      <td>ANG MO KIO AVE 10</td>\n",
              "      <td>04 TO 06</td>\n",
              "      <td>68.0</td>\n",
              "      <td>New Generation</td>\n",
              "      <td>1980</td>\n",
              "      <td>62 years 01 month</td>\n",
              "      <td>265000.0</td>\n",
              "    </tr>\n",
              "    <tr>\n",
              "      <th>4</th>\n",
              "      <td>2017-01</td>\n",
              "      <td>ANG MO KIO</td>\n",
              "      <td>3 ROOM</td>\n",
              "      <td>601</td>\n",
              "      <td>ANG MO KIO AVE 5</td>\n",
              "      <td>01 TO 03</td>\n",
              "      <td>67.0</td>\n",
              "      <td>New Generation</td>\n",
              "      <td>1980</td>\n",
              "      <td>62 years 05 months</td>\n",
              "      <td>265000.0</td>\n",
              "    </tr>\n",
              "  </tbody>\n",
              "</table>\n",
              "</div>"
            ],
            "text/plain": [
              "     month        town  ...     remaining_lease resale_price\n",
              "0  2017-01  ANG MO KIO  ...  61 years 04 months     232000.0\n",
              "1  2017-01  ANG MO KIO  ...  60 years 07 months     250000.0\n",
              "2  2017-01  ANG MO KIO  ...  62 years 05 months     262000.0\n",
              "3  2017-01  ANG MO KIO  ...   62 years 01 month     265000.0\n",
              "4  2017-01  ANG MO KIO  ...  62 years 05 months     265000.0\n",
              "\n",
              "[5 rows x 11 columns]"
            ]
          },
          "metadata": {},
          "execution_count": 3
        }
      ]
    },
    {
      "cell_type": "markdown",
      "metadata": {
        "id": "c_fzuNrMTdKT"
      },
      "source": [
        "Let's first explore the original dataset a little bit:"
      ]
    },
    {
      "cell_type": "code",
      "metadata": {
        "id": "goE-wcz4TEN9",
        "colab": {
          "base_uri": "https://localhost:8080/"
        },
        "outputId": "190cf4a0-cf13-4ddb-bd59-de13066b81af"
      },
      "source": [
        "df_resale.info()"
      ],
      "execution_count": 4,
      "outputs": [
        {
          "output_type": "stream",
          "text": [
            "<class 'pandas.core.frame.DataFrame'>\n",
            "RangeIndex: 105091 entries, 0 to 105090\n",
            "Data columns (total 11 columns):\n",
            " #   Column               Non-Null Count   Dtype  \n",
            "---  ------               --------------   -----  \n",
            " 0   month                105091 non-null  object \n",
            " 1   town                 105091 non-null  object \n",
            " 2   flat_type            105091 non-null  object \n",
            " 3   block                105091 non-null  object \n",
            " 4   street_name          105091 non-null  object \n",
            " 5   storey_range         105091 non-null  object \n",
            " 6   floor_area_sqm       105091 non-null  float64\n",
            " 7   flat_model           105091 non-null  object \n",
            " 8   lease_commence_date  105091 non-null  int64  \n",
            " 9   remaining_lease      105091 non-null  object \n",
            " 10  resale_price         105091 non-null  float64\n",
            "dtypes: float64(2), int64(1), object(8)\n",
            "memory usage: 8.8+ MB\n"
          ],
          "name": "stdout"
        }
      ]
    },
    {
      "cell_type": "markdown",
      "metadata": {
        "id": "9lB2On-JYf4W"
      },
      "source": [
        "Here we can see that there is no missing data, so we don't have to impute it."
      ]
    },
    {
      "cell_type": "code",
      "metadata": {
        "colab": {
          "base_uri": "https://localhost:8080/",
          "height": 297
        },
        "id": "qtPqmYswTrcl",
        "outputId": "5c1695df-4f4a-440d-acee-20284ef99b4a"
      },
      "source": [
        "df_resale.describe()"
      ],
      "execution_count": 5,
      "outputs": [
        {
          "output_type": "execute_result",
          "data": {
            "text/html": [
              "<div>\n",
              "<style scoped>\n",
              "    .dataframe tbody tr th:only-of-type {\n",
              "        vertical-align: middle;\n",
              "    }\n",
              "\n",
              "    .dataframe tbody tr th {\n",
              "        vertical-align: top;\n",
              "    }\n",
              "\n",
              "    .dataframe thead th {\n",
              "        text-align: right;\n",
              "    }\n",
              "</style>\n",
              "<table border=\"1\" class=\"dataframe\">\n",
              "  <thead>\n",
              "    <tr style=\"text-align: right;\">\n",
              "      <th></th>\n",
              "      <th>floor_area_sqm</th>\n",
              "      <th>lease_commence_date</th>\n",
              "      <th>resale_price</th>\n",
              "    </tr>\n",
              "  </thead>\n",
              "  <tbody>\n",
              "    <tr>\n",
              "      <th>count</th>\n",
              "      <td>105091.000000</td>\n",
              "      <td>105091.000000</td>\n",
              "      <td>1.050910e+05</td>\n",
              "    </tr>\n",
              "    <tr>\n",
              "      <th>mean</th>\n",
              "      <td>97.825422</td>\n",
              "      <td>1994.806853</td>\n",
              "      <td>4.523932e+05</td>\n",
              "    </tr>\n",
              "    <tr>\n",
              "      <th>std</th>\n",
              "      <td>24.172563</td>\n",
              "      <td>13.282782</td>\n",
              "      <td>1.569404e+05</td>\n",
              "    </tr>\n",
              "    <tr>\n",
              "      <th>min</th>\n",
              "      <td>31.000000</td>\n",
              "      <td>1966.000000</td>\n",
              "      <td>1.400000e+05</td>\n",
              "    </tr>\n",
              "    <tr>\n",
              "      <th>25%</th>\n",
              "      <td>82.000000</td>\n",
              "      <td>1985.000000</td>\n",
              "      <td>3.400000e+05</td>\n",
              "    </tr>\n",
              "    <tr>\n",
              "      <th>50%</th>\n",
              "      <td>95.000000</td>\n",
              "      <td>1995.000000</td>\n",
              "      <td>4.200000e+05</td>\n",
              "    </tr>\n",
              "    <tr>\n",
              "      <th>75%</th>\n",
              "      <td>113.000000</td>\n",
              "      <td>2004.000000</td>\n",
              "      <td>5.300000e+05</td>\n",
              "    </tr>\n",
              "    <tr>\n",
              "      <th>max</th>\n",
              "      <td>249.000000</td>\n",
              "      <td>2019.000000</td>\n",
              "      <td>1.268000e+06</td>\n",
              "    </tr>\n",
              "  </tbody>\n",
              "</table>\n",
              "</div>"
            ],
            "text/plain": [
              "       floor_area_sqm  lease_commence_date  resale_price\n",
              "count   105091.000000        105091.000000  1.050910e+05\n",
              "mean        97.825422          1994.806853  4.523932e+05\n",
              "std         24.172563            13.282782  1.569404e+05\n",
              "min         31.000000          1966.000000  1.400000e+05\n",
              "25%         82.000000          1985.000000  3.400000e+05\n",
              "50%         95.000000          1995.000000  4.200000e+05\n",
              "75%        113.000000          2004.000000  5.300000e+05\n",
              "max        249.000000          2019.000000  1.268000e+06"
            ]
          },
          "metadata": {},
          "execution_count": 5
        }
      ]
    },
    {
      "cell_type": "markdown",
      "metadata": {
        "id": "XbVpNdgqV7aq"
      },
      "source": [
        "There are only two numerical features, which is not enough to give a sensible prediction of the resale prices. We are going to derive our own numerical features later on. But first let's see the correlation of the existing numerical features with the target variable:"
      ]
    },
    {
      "cell_type": "code",
      "metadata": {
        "colab": {
          "base_uri": "https://localhost:8080/",
          "height": 596
        },
        "id": "VzP8aApSVKLB",
        "outputId": "663cab11-0e9e-412b-9400-1d16534684df"
      },
      "source": [
        "plt.figure(figsize=(12, 10))\n",
        "sns.heatmap(df_resale.corr(), annot=True)\n",
        "plt.show()"
      ],
      "execution_count": 6,
      "outputs": [
        {
          "output_type": "display_data",
          "data": {
            "image/png": "[encoded data removed]",
            "text/plain": [
              "<Figure size 864x720 with 2 Axes>"
            ]
          },
          "metadata": {
            "needs_background": "light"
          }
        }
      ]
    },
    {
      "cell_type": "markdown",
      "metadata": {
        "id": "x2oqBRpBVqhU"
      },
      "source": [
        "Looks like 'floor_area_sqm' has a good positive correlation with the target variable (i.e., the resale price), whereas there is little correlation between 'lease_commence_date' with the resale price. Hence, we might consider on dropping the 'lease_commence_date' feature."
      ]
    },
    {
      "cell_type": "code",
      "metadata": {
        "colab": {
          "base_uri": "https://localhost:8080/",
          "height": 400
        },
        "id": "pbjHi5CeYrbX",
        "outputId": "34dfb317-fc75-4622-f9f2-6377b76c29f7"
      },
      "source": [
        "plt.figure(figsize=(24, 6))\n",
        "\n",
        "plt.subplot(1, 2, 1)\n",
        "sns.scatterplot(data=df_resale, x='floor_area_sqm', y='resale_price')\n",
        "\n",
        "plt.subplot(1, 2, 2)\n",
        "sns.scatterplot(data=df_resale, x='lease_commence_date', y='resale_price')\n",
        "plt.show()"
      ],
      "execution_count": 7,
      "outputs": [
        {
          "output_type": "display_data",
          "data": {
            "image/png": "[encoded data removed]",
            "text/plain": [
              "<Figure size 1728x432 with 2 Axes>"
            ]
          },
          "metadata": {
            "needs_background": "light"
          }
        }
      ]
    },
    {
      "cell_type": "markdown",
      "metadata": {
        "id": "ShSlGnO-fjcy"
      },
      "source": [
        "Now we will start to add our own numerical features. The first feature is the distance between the flats and their respective nearest mrt station. We will make use of onemap.sg to find the coordinates (latitude, longitude) and full addresses of the flats by using only their block and street name:"
      ]
    },
    {
      "cell_type": "code",
      "metadata": {
        "id": "FyzmSAc9evNv",
        "colab": {
          "base_uri": "https://localhost:8080/",
          "height": 204
        },
        "outputId": "aad77872-e599-4c53-bfde-7d4982de0db6"
      },
      "source": [
        "df_resale['address'] = df_resale['block'] + ' ' + df_resale['street_name']\n",
        "df_resale.head()"
      ],
      "execution_count": 8,
      "outputs": [
        {
          "output_type": "execute_result",
          "data": {
            "text/html": [
              "<div>\n",
              "<style scoped>\n",
              "    .dataframe tbody tr th:only-of-type {\n",
              "        vertical-align: middle;\n",
              "    }\n",
              "\n",
              "    .dataframe tbody tr th {\n",
              "        vertical-align: top;\n",
              "    }\n",
              "\n",
              "    .dataframe thead th {\n",
              "        text-align: right;\n",
              "    }\n",
              "</style>\n",
              "<table border=\"1\" class=\"dataframe\">\n",
              "  <thead>\n",
              "    <tr style=\"text-align: right;\">\n",
              "      <th></th>\n",
              "      <th>month</th>\n",
              "      <th>town</th>\n",
              "      <th>flat_type</th>\n",
              "      <th>block</th>\n",
              "      <th>street_name</th>\n",
              "      <th>storey_range</th>\n",
              "      <th>floor_area_sqm</th>\n",
              "      <th>flat_model</th>\n",
              "      <th>lease_commence_date</th>\n",
              "      <th>remaining_lease</th>\n",
              "      <th>resale_price</th>\n",
              "      <th>address</th>\n",
              "    </tr>\n",
              "  </thead>\n",
              "  <tbody>\n",
              "    <tr>\n",
              "      <th>0</th>\n",
              "      <td>2017-01</td>\n",
              "      <td>ANG MO KIO</td>\n",
              "      <td>2 ROOM</td>\n",
              "      <td>406</td>\n",
              "      <td>ANG MO KIO AVE 10</td>\n",
              "      <td>10 TO 12</td>\n",
              "      <td>44.0</td>\n",
              "      <td>Improved</td>\n",
              "      <td>1979</td>\n",
              "      <td>61 years 04 months</td>\n",
              "      <td>232000.0</td>\n",
              "      <td>406 ANG MO KIO AVE 10</td>\n",
              "    </tr>\n",
              "    <tr>\n",
              "      <th>1</th>\n",
              "      <td>2017-01</td>\n",
              "      <td>ANG MO KIO</td>\n",
              "      <td>3 ROOM</td>\n",
              "      <td>108</td>\n",
              "      <td>ANG MO KIO AVE 4</td>\n",
              "      <td>01 TO 03</td>\n",
              "      <td>67.0</td>\n",
              "      <td>New Generation</td>\n",
              "      <td>1978</td>\n",
              "      <td>60 years 07 months</td>\n",
              "      <td>250000.0</td>\n",
              "      <td>108 ANG MO KIO AVE 4</td>\n",
              "    </tr>\n",
              "    <tr>\n",
              "      <th>2</th>\n",
              "      <td>2017-01</td>\n",
              "      <td>ANG MO KIO</td>\n",
              "      <td>3 ROOM</td>\n",
              "      <td>602</td>\n",
              "      <td>ANG MO KIO AVE 5</td>\n",
              "      <td>01 TO 03</td>\n",
              "      <td>67.0</td>\n",
              "      <td>New Generation</td>\n",
              "      <td>1980</td>\n",
              "      <td>62 years 05 months</td>\n",
              "      <td>262000.0</td>\n",
              "      <td>602 ANG MO KIO AVE 5</td>\n",
              "    </tr>\n",
              "    <tr>\n",
              "      <th>3</th>\n",
              "      <td>2017-01</td>\n",
              "      <td>ANG MO KIO</td>\n",
              "      <td>3 ROOM</td>\n",
              "      <td>465</td>\n",
              "      <td>ANG MO KIO AVE 10</td>\n",
              "      <td>04 TO 06</td>\n",
              "      <td>68.0</td>\n",
              "      <td>New Generation</td>\n",
              "      <td>1980</td>\n",
              "      <td>62 years 01 month</td>\n",
              "      <td>265000.0</td>\n",
              "      <td>465 ANG MO KIO AVE 10</td>\n",
              "    </tr>\n",
              "    <tr>\n",
              "      <th>4</th>\n",
              "      <td>2017-01</td>\n",
              "      <td>ANG MO KIO</td>\n",
              "      <td>3 ROOM</td>\n",
              "      <td>601</td>\n",
              "      <td>ANG MO KIO AVE 5</td>\n",
              "      <td>01 TO 03</td>\n",
              "      <td>67.0</td>\n",
              "      <td>New Generation</td>\n",
              "      <td>1980</td>\n",
              "      <td>62 years 05 months</td>\n",
              "      <td>265000.0</td>\n",
              "      <td>601 ANG MO KIO AVE 5</td>\n",
              "    </tr>\n",
              "  </tbody>\n",
              "</table>\n",
              "</div>"
            ],
            "text/plain": [
              "     month        town  ... resale_price                address\n",
              "0  2017-01  ANG MO KIO  ...     232000.0  406 ANG MO KIO AVE 10\n",
              "1  2017-01  ANG MO KIO  ...     250000.0   108 ANG MO KIO AVE 4\n",
              "2  2017-01  ANG MO KIO  ...     262000.0   602 ANG MO KIO AVE 5\n",
              "3  2017-01  ANG MO KIO  ...     265000.0  465 ANG MO KIO AVE 10\n",
              "4  2017-01  ANG MO KIO  ...     265000.0   601 ANG MO KIO AVE 5\n",
              "\n",
              "[5 rows x 12 columns]"
            ]
          },
          "metadata": {},
          "execution_count": 8
        }
      ]
    },
    {
      "cell_type": "code",
      "metadata": {
        "id": "9d6RBH1VevNw",
        "colab": {
          "base_uri": "https://localhost:8080/"
        },
        "outputId": "7e7043a4-41ba-4faf-ca49-9e0879f31a39"
      },
      "source": [
        "all_address = list(df_resale['address'])\n",
        "unique_address = list(set(all_address))\n",
        "print('There are {} unique addresses out of {} housing transactions.'.format(len(unique_address), len(df_resale)))"
      ],
      "execution_count": 9,
      "outputs": [
        {
          "output_type": "stream",
          "text": [
            "There are 9100 unique addresses out of 105091 housing transactions.\n"
          ],
          "name": "stdout"
        }
      ]
    },
    {
      "cell_type": "code",
      "metadata": {
        "id": "P97rLalXqPge"
      },
      "source": [
        "filepath = '/content/drive/MyDrive/Colab Notebooks/Housing/'"
      ],
      "execution_count": 10,
      "outputs": []
    },
    {
      "cell_type": "markdown",
      "metadata": {
        "id": "jEH5IISoFNVt"
      },
      "source": [
        "The function below is defined for reusability in the future on other amenities (e.g., nearest school, nearest food court). It will save the found coordinates and addresses to a csv file:"
      ]
    },
    {
      "cell_type": "code",
      "metadata": {
        "id": "tKZmgQkSevNz"
      },
      "source": [
        "def find_postal(lst, filename):\n",
        "    '''With the block number and street name, get the full address of the hdb flat,\n",
        "    including the postal code, geogaphical coordinates (lat/long)'''\n",
        "    \n",
        "    for index,add in enumerate(lst):\n",
        "        url= \"https://developers.onemap.sg/commonapi/search?returnGeom=Y&getAddrDetails=Y&pageNum=1&searchVal=\"+ add        \n",
        "        if (index + 1) % 100 == 0:\n",
        "          print(index + 1, url)\n",
        "        \n",
        "        # Retrieve information from website\n",
        "        response = requests.get(url)\n",
        "        data = json.loads(response.text) \n",
        "    \n",
        "        temp_df = pd.DataFrame.from_dict(data[\"results\"])\n",
        "        temp_df[\"address\"] = add\n",
        "        \n",
        "        # Create the file with the first row that is read in \n",
        "        if index == 0:\n",
        "            file = temp_df\n",
        "        else:\n",
        "            file = file.append(temp_df)\n",
        "    file.to_csv(filepath + filename + '.csv')"
      ],
      "execution_count": 11,
      "outputs": []
    },
    {
      "cell_type": "code",
      "metadata": {
        "id": "08wqtJ2kevN3",
        "colab": {
          "base_uri": "https://localhost:8080/"
        },
        "outputId": "0a90001b-45e2-49f7-e253-1ee6e474faf7"
      },
      "source": [
        "find_postal(lst=unique_address, filename='full_address')"
      ],
      "execution_count": 13,
      "outputs": [
        {
          "output_type": "stream",
          "text": [
            "100 https://developers.onemap.sg/commonapi/search?returnGeom=Y&getAddrDetails=Y&pageNum=1&searchVal=276 TOH GUAN RD\n",
            "200 https://developers.onemap.sg/commonapi/search?returnGeom=Y&getAddrDetails=Y&pageNum=1&searchVal=312A SUMANG LINK\n",
            "300 https://developers.onemap.sg/commonapi/search?returnGeom=Y&getAddrDetails=Y&pageNum=1&searchVal=188B RIVERVALE DR\n",
            "400 https://developers.onemap.sg/commonapi/search?returnGeom=Y&getAddrDetails=Y&pageNum=1&searchVal=9 SELEGIE RD\n",
            "500 https://developers.onemap.sg/commonapi/search?returnGeom=Y&getAddrDetails=Y&pageNum=1&searchVal=172 BEDOK STH RD\n",
            "600 https://developers.onemap.sg/commonapi/search?returnGeom=Y&getAddrDetails=Y&pageNum=1&searchVal=313 UBI AVE 1\n",
            "700 https://developers.onemap.sg/commonapi/search?returnGeom=Y&getAddrDetails=Y&pageNum=1&searchVal=30 JLN KLINIK\n",
            "800 https://developers.onemap.sg/commonapi/search?returnGeom=Y&getAddrDetails=Y&pageNum=1&searchVal=308C PUNGGOL WALK\n",
            "900 https://developers.onemap.sg/commonapi/search?returnGeom=Y&getAddrDetails=Y&pageNum=1&searchVal=696 JURONG WEST CTRL 1\n",
            "1000 https://developers.onemap.sg/commonapi/search?returnGeom=Y&getAddrDetails=Y&pageNum=1&searchVal=94 LOR 4 TOA PAYOH\n",
            "1100 https://developers.onemap.sg/commonapi/search?returnGeom=Y&getAddrDetails=Y&pageNum=1&searchVal=705 TAMPINES ST 71\n",
            "1200 https://developers.onemap.sg/commonapi/search?returnGeom=Y&getAddrDetails=Y&pageNum=1&searchVal=554 SERANGOON NTH AVE 3\n",
            "1300 https://developers.onemap.sg/commonapi/search?returnGeom=Y&getAddrDetails=Y&pageNum=1&searchVal=359 ADMIRALTY DR\n",
            "1400 https://developers.onemap.sg/commonapi/search?returnGeom=Y&getAddrDetails=Y&pageNum=1&searchVal=110 JURONG EAST ST 13\n",
            "1500 https://developers.onemap.sg/commonapi/search?returnGeom=Y&getAddrDetails=Y&pageNum=1&searchVal=102 GANGSA RD\n",
            "1600 https://developers.onemap.sg/commonapi/search?returnGeom=Y&getAddrDetails=Y&pageNum=1&searchVal=235 BT BATOK EAST AVE 5\n",
            "1700 https://developers.onemap.sg/commonapi/search?returnGeom=Y&getAddrDetails=Y&pageNum=1&searchVal=160 PASIR RIS ST 13\n",
            "1800 https://developers.onemap.sg/commonapi/search?returnGeom=Y&getAddrDetails=Y&pageNum=1&searchVal=862 WOODLANDS ST 83\n",
            "1900 https://developers.onemap.sg/commonapi/search?returnGeom=Y&getAddrDetails=Y&pageNum=1&searchVal=661B JURONG WEST ST 64\n",
            "2000 https://developers.onemap.sg/commonapi/search?returnGeom=Y&getAddrDetails=Y&pageNum=1&searchVal=119 SIMEI ST 1\n",
            "2100 https://developers.onemap.sg/commonapi/search?returnGeom=Y&getAddrDetails=Y&pageNum=1&searchVal=346 UBI AVE 1\n",
            "2200 https://developers.onemap.sg/commonapi/search?returnGeom=Y&getAddrDetails=Y&pageNum=1&searchVal=326 UBI AVE 1\n",
            "2300 https://developers.onemap.sg/commonapi/search?returnGeom=Y&getAddrDetails=Y&pageNum=1&searchVal=713 TAMPINES ST 71\n",
            "2400 https://developers.onemap.sg/commonapi/search?returnGeom=Y&getAddrDetails=Y&pageNum=1&searchVal=171 BEDOK STH RD\n",
            "2500 https://developers.onemap.sg/commonapi/search?returnGeom=Y&getAddrDetails=Y&pageNum=1&searchVal=678 HOUGANG AVE 8\n",
            "2600 https://developers.onemap.sg/commonapi/search?returnGeom=Y&getAddrDetails=Y&pageNum=1&searchVal=219 PASIR RIS ST 21\n",
            "2700 https://developers.onemap.sg/commonapi/search?returnGeom=Y&getAddrDetails=Y&pageNum=1&searchVal=22 BALAM RD\n",
            "2800 https://developers.onemap.sg/commonapi/search?returnGeom=Y&getAddrDetails=Y&pageNum=1&searchVal=114 TECK WHYE LANE\n",
            "2900 https://developers.onemap.sg/commonapi/search?returnGeom=Y&getAddrDetails=Y&pageNum=1&searchVal=206 TOA PAYOH NTH\n",
            "3000 https://developers.onemap.sg/commonapi/search?returnGeom=Y&getAddrDetails=Y&pageNum=1&searchVal=662D EDGEDALE PLAINS\n",
            "3100 https://developers.onemap.sg/commonapi/search?returnGeom=Y&getAddrDetails=Y&pageNum=1&searchVal=210A COMPASSVALE LANE\n",
            "3200 https://developers.onemap.sg/commonapi/search?returnGeom=Y&getAddrDetails=Y&pageNum=1&searchVal=669 WOODLANDS RING RD\n",
            "3300 https://developers.onemap.sg/commonapi/search?returnGeom=Y&getAddrDetails=Y&pageNum=1&searchVal=331A ANCHORVALE ST\n",
            "3400 https://developers.onemap.sg/commonapi/search?returnGeom=Y&getAddrDetails=Y&pageNum=1&searchVal=282 YISHUN AVE 6\n",
            "3500 https://developers.onemap.sg/commonapi/search?returnGeom=Y&getAddrDetails=Y&pageNum=1&searchVal=111 GANGSA RD\n",
            "3600 https://developers.onemap.sg/commonapi/search?returnGeom=Y&getAddrDetails=Y&pageNum=1&searchVal=116C RIVERVALE DR\n",
            "3700 https://developers.onemap.sg/commonapi/search?returnGeom=Y&getAddrDetails=Y&pageNum=1&searchVal=316B PUNGGOL WAY\n",
            "3800 https://developers.onemap.sg/commonapi/search?returnGeom=Y&getAddrDetails=Y&pageNum=1&searchVal=239 TAMPINES ST 21\n",
            "3900 https://developers.onemap.sg/commonapi/search?returnGeom=Y&getAddrDetails=Y&pageNum=1&searchVal=732 WOODLANDS CIRCLE\n",
            "4000 https://developers.onemap.sg/commonapi/search?returnGeom=Y&getAddrDetails=Y&pageNum=1&searchVal=209B PUNGGOL PL\n",
            "4100 https://developers.onemap.sg/commonapi/search?returnGeom=Y&getAddrDetails=Y&pageNum=1&searchVal=602 CHOA CHU KANG ST 62\n",
            "4200 https://developers.onemap.sg/commonapi/search?returnGeom=Y&getAddrDetails=Y&pageNum=1&searchVal=214 PASIR RIS ST 21\n",
            "4300 https://developers.onemap.sg/commonapi/search?returnGeom=Y&getAddrDetails=Y&pageNum=1&searchVal=450 BT PANJANG RING RD\n",
            "4400 https://developers.onemap.sg/commonapi/search?returnGeom=Y&getAddrDetails=Y&pageNum=1&searchVal=94D BEDOK NTH AVE 4\n",
            "4500 https://developers.onemap.sg/commonapi/search?returnGeom=Y&getAddrDetails=Y&pageNum=1&searchVal=185 EDGEFIELD PLAINS\n",
            "4600 https://developers.onemap.sg/commonapi/search?returnGeom=Y&getAddrDetails=Y&pageNum=1&searchVal=217 SERANGOON AVE 4\n",
            "4700 https://developers.onemap.sg/commonapi/search?returnGeom=Y&getAddrDetails=Y&pageNum=1&searchVal=176 BT BATOK WEST AVE 8\n",
            "4800 https://developers.onemap.sg/commonapi/search?returnGeom=Y&getAddrDetails=Y&pageNum=1&searchVal=183 EDGEFIELD PLAINS\n",
            "4900 https://developers.onemap.sg/commonapi/search?returnGeom=Y&getAddrDetails=Y&pageNum=1&searchVal=514 BEDOK NTH AVE 2\n",
            "5000 https://developers.onemap.sg/commonapi/search?returnGeom=Y&getAddrDetails=Y&pageNum=1&searchVal=126C KIM TIAN RD\n",
            "5100 https://developers.onemap.sg/commonapi/search?returnGeom=Y&getAddrDetails=Y&pageNum=1&searchVal=846 TAMPINES ST 82\n",
            "5200 https://developers.onemap.sg/commonapi/search?returnGeom=Y&getAddrDetails=Y&pageNum=1&searchVal=639 BT BATOK CTRL\n",
            "5300 https://developers.onemap.sg/commonapi/search?returnGeom=Y&getAddrDetails=Y&pageNum=1&searchVal=201 BISHAN ST 23\n",
            "5400 https://developers.onemap.sg/commonapi/search?returnGeom=Y&getAddrDetails=Y&pageNum=1&searchVal=476B CHOA CHU KANG AVE 5\n",
            "5500 https://developers.onemap.sg/commonapi/search?returnGeom=Y&getAddrDetails=Y&pageNum=1&searchVal=523 BEDOK NTH ST 3\n",
            "5600 https://developers.onemap.sg/commonapi/search?returnGeom=Y&getAddrDetails=Y&pageNum=1&searchVal=196B PUNGGOL FIELD\n",
            "5700 https://developers.onemap.sg/commonapi/search?returnGeom=Y&getAddrDetails=Y&pageNum=1&searchVal=322 HOUGANG AVE 5\n",
            "5800 https://developers.onemap.sg/commonapi/search?returnGeom=Y&getAddrDetails=Y&pageNum=1&searchVal=202B PUNGGOL FIELD\n",
            "5900 https://developers.onemap.sg/commonapi/search?returnGeom=Y&getAddrDetails=Y&pageNum=1&searchVal=114 HOUGANG AVE 1\n",
            "6000 https://developers.onemap.sg/commonapi/search?returnGeom=Y&getAddrDetails=Y&pageNum=1&searchVal=118B JLN MEMBINA\n",
            "6100 https://developers.onemap.sg/commonapi/search?returnGeom=Y&getAddrDetails=Y&pageNum=1&searchVal=457 ANG MO KIO AVE 10\n",
            "6200 https://developers.onemap.sg/commonapi/search?returnGeom=Y&getAddrDetails=Y&pageNum=1&searchVal=172 GANGSA RD\n",
            "6300 https://developers.onemap.sg/commonapi/search?returnGeom=Y&getAddrDetails=Y&pageNum=1&searchVal=308 TAMPINES ST 32\n",
            "6400 https://developers.onemap.sg/commonapi/search?returnGeom=Y&getAddrDetails=Y&pageNum=1&searchVal=340 WOODLANDS AVE 1\n",
            "6500 https://developers.onemap.sg/commonapi/search?returnGeom=Y&getAddrDetails=Y&pageNum=1&searchVal=10 HOLLAND AVE\n",
            "6600 https://developers.onemap.sg/commonapi/search?returnGeom=Y&getAddrDetails=Y&pageNum=1&searchVal=163C RIVERVALE CRES\n",
            "6700 https://developers.onemap.sg/commonapi/search?returnGeom=Y&getAddrDetails=Y&pageNum=1&searchVal=502 HOUGANG AVE 8\n",
            "6800 https://developers.onemap.sg/commonapi/search?returnGeom=Y&getAddrDetails=Y&pageNum=1&searchVal=577 PASIR RIS ST 53\n",
            "6900 https://developers.onemap.sg/commonapi/search?returnGeom=Y&getAddrDetails=Y&pageNum=1&searchVal=276C JURONG WEST ST 25\n",
            "7000 https://developers.onemap.sg/commonapi/search?returnGeom=Y&getAddrDetails=Y&pageNum=1&searchVal=113 DEPOT RD\n",
            "7100 https://developers.onemap.sg/commonapi/search?returnGeom=Y&getAddrDetails=Y&pageNum=1&searchVal=242 HOUGANG ST 22\n",
            "7200 https://developers.onemap.sg/commonapi/search?returnGeom=Y&getAddrDetails=Y&pageNum=1&searchVal=235 BT PANJANG RING RD\n",
            "7300 https://developers.onemap.sg/commonapi/search?returnGeom=Y&getAddrDetails=Y&pageNum=1&searchVal=243 BT BATOK EAST AVE 5\n",
            "7400 https://developers.onemap.sg/commonapi/search?returnGeom=Y&getAddrDetails=Y&pageNum=1&searchVal=412 BEDOK NTH AVE 2\n",
            "7500 https://developers.onemap.sg/commonapi/search?returnGeom=Y&getAddrDetails=Y&pageNum=1&searchVal=43 JLN TIGA\n",
            "7600 https://developers.onemap.sg/commonapi/search?returnGeom=Y&getAddrDetails=Y&pageNum=1&searchVal=439 JURONG WEST AVE 1\n",
            "7700 https://developers.onemap.sg/commonapi/search?returnGeom=Y&getAddrDetails=Y&pageNum=1&searchVal=754 PASIR RIS ST 71\n",
            "7800 https://developers.onemap.sg/commonapi/search?returnGeom=Y&getAddrDetails=Y&pageNum=1&searchVal=644 WOODLANDS RING RD\n",
            "7900 https://developers.onemap.sg/commonapi/search?returnGeom=Y&getAddrDetails=Y&pageNum=1&searchVal=463 CRAWFORD LANE\n",
            "8000 https://developers.onemap.sg/commonapi/search?returnGeom=Y&getAddrDetails=Y&pageNum=1&searchVal=470 PASIR RIS DR 6\n",
            "8100 https://developers.onemap.sg/commonapi/search?returnGeom=Y&getAddrDetails=Y&pageNum=1&searchVal=414 WOODLANDS ST 41\n",
            "8200 https://developers.onemap.sg/commonapi/search?returnGeom=Y&getAddrDetails=Y&pageNum=1&searchVal=417 JURONG WEST ST 42\n",
            "8300 https://developers.onemap.sg/commonapi/search?returnGeom=Y&getAddrDetails=Y&pageNum=1&searchVal=783 YISHUN RING RD\n",
            "8400 https://developers.onemap.sg/commonapi/search?returnGeom=Y&getAddrDetails=Y&pageNum=1&searchVal=685B CHOA CHU KANG CRES\n",
            "8500 https://developers.onemap.sg/commonapi/search?returnGeom=Y&getAddrDetails=Y&pageNum=1&searchVal=22 MARSILING DR\n",
            "8600 https://developers.onemap.sg/commonapi/search?returnGeom=Y&getAddrDetails=Y&pageNum=1&searchVal=421 PASIR RIS DR 6\n",
            "8700 https://developers.onemap.sg/commonapi/search?returnGeom=Y&getAddrDetails=Y&pageNum=1&searchVal=658 CHOA CHU KANG CRES\n",
            "8800 https://developers.onemap.sg/commonapi/search?returnGeom=Y&getAddrDetails=Y&pageNum=1&searchVal=415 BT BATOK WEST AVE 4\n",
            "8900 https://developers.onemap.sg/commonapi/search?returnGeom=Y&getAddrDetails=Y&pageNum=1&searchVal=810 JURONG WEST ST 81\n",
            "9000 https://developers.onemap.sg/commonapi/search?returnGeom=Y&getAddrDetails=Y&pageNum=1&searchVal=147 MEI LING ST\n",
            "9100 https://developers.onemap.sg/commonapi/search?returnGeom=Y&getAddrDetails=Y&pageNum=1&searchVal=475 SEMBAWANG DR\n"
          ],
          "name": "stdout"
        }
      ]
    },
    {
      "cell_type": "code",
      "metadata": {
        "id": "Dpc4V5UFevN5",
        "colab": {
          "base_uri": "https://localhost:8080/",
          "height": 306
        },
        "outputId": "1552aa47-bff1-47eb-ea6f-ae0270adda3b"
      },
      "source": [
        "geo = pd.read_csv(filepath + 'full_address.csv')\n",
        "geo.head()"
      ],
      "execution_count": 12,
      "outputs": [
        {
          "output_type": "execute_result",
          "data": {
            "text/html": [
              "<div>\n",
              "<style scoped>\n",
              "    .dataframe tbody tr th:only-of-type {\n",
              "        vertical-align: middle;\n",
              "    }\n",
              "\n",
              "    .dataframe tbody tr th {\n",
              "        vertical-align: top;\n",
              "    }\n",
              "\n",
              "    .dataframe thead th {\n",
              "        text-align: right;\n",
              "    }\n",
              "</style>\n",
              "<table border=\"1\" class=\"dataframe\">\n",
              "  <thead>\n",
              "    <tr style=\"text-align: right;\">\n",
              "      <th></th>\n",
              "      <th>Unnamed: 0</th>\n",
              "      <th>SEARCHVAL</th>\n",
              "      <th>BLK_NO</th>\n",
              "      <th>ROAD_NAME</th>\n",
              "      <th>BUILDING</th>\n",
              "      <th>ADDRESS</th>\n",
              "      <th>POSTAL</th>\n",
              "      <th>X</th>\n",
              "      <th>Y</th>\n",
              "      <th>LATITUDE</th>\n",
              "      <th>LONGITUDE</th>\n",
              "      <th>LONGTITUDE</th>\n",
              "      <th>address</th>\n",
              "    </tr>\n",
              "  </thead>\n",
              "  <tbody>\n",
              "    <tr>\n",
              "      <th>0</th>\n",
              "      <td>0</td>\n",
              "      <td>304 HOUGANG AVENUE 5 SINGAPORE 530304</td>\n",
              "      <td>304</td>\n",
              "      <td>HOUGANG AVENUE 5</td>\n",
              "      <td>NIL</td>\n",
              "      <td>304 HOUGANG AVENUE 5 SINGAPORE 530304</td>\n",
              "      <td>530304</td>\n",
              "      <td>34925.323729</td>\n",
              "      <td>38865.377543</td>\n",
              "      <td>1.367758</td>\n",
              "      <td>103.895547</td>\n",
              "      <td>103.895547</td>\n",
              "      <td>304 HOUGANG AVE 5</td>\n",
              "    </tr>\n",
              "    <tr>\n",
              "      <th>1</th>\n",
              "      <td>0</td>\n",
              "      <td>COMPASSVALE NORTH GATE</td>\n",
              "      <td>260C</td>\n",
              "      <td>SENGKANG EAST WAY</td>\n",
              "      <td>COMPASSVALE NORTH GATE</td>\n",
              "      <td>260C SENGKANG EAST WAY COMPASSVALE NORTH GATE ...</td>\n",
              "      <td>543260</td>\n",
              "      <td>34913.688262</td>\n",
              "      <td>41781.748776</td>\n",
              "      <td>1.394133</td>\n",
              "      <td>103.895444</td>\n",
              "      <td>103.895444</td>\n",
              "      <td>260C SENGKANG EAST WAY</td>\n",
              "    </tr>\n",
              "    <tr>\n",
              "      <th>2</th>\n",
              "      <td>0</td>\n",
              "      <td>TOWNER HEIGHTS</td>\n",
              "      <td>108C</td>\n",
              "      <td>MCNAIR ROAD</td>\n",
              "      <td>TOWNER HEIGHTS</td>\n",
              "      <td>108C MCNAIR ROAD TOWNER HEIGHTS SINGAPORE 324108</td>\n",
              "      <td>324108</td>\n",
              "      <td>30909.560487</td>\n",
              "      <td>33567.195607</td>\n",
              "      <td>1.319844</td>\n",
              "      <td>103.859462</td>\n",
              "      <td>103.859462</td>\n",
              "      <td>108C MCNAIR RD</td>\n",
              "    </tr>\n",
              "    <tr>\n",
              "      <th>3</th>\n",
              "      <td>0</td>\n",
              "      <td>298 BUKIT BATOK STREET 22 SINGAPORE 650298</td>\n",
              "      <td>298</td>\n",
              "      <td>BUKIT BATOK STREET 22</td>\n",
              "      <td>NIL</td>\n",
              "      <td>298 BUKIT BATOK STREET 22 SINGAPORE 650298</td>\n",
              "      <td>650298</td>\n",
              "      <td>18409.353455</td>\n",
              "      <td>36326.550736</td>\n",
              "      <td>1.344797</td>\n",
              "      <td>103.747141</td>\n",
              "      <td>103.747141</td>\n",
              "      <td>298 BT BATOK ST 22</td>\n",
              "    </tr>\n",
              "    <tr>\n",
              "      <th>4</th>\n",
              "      <td>0</td>\n",
              "      <td>TAMPINES GREENWOOD</td>\n",
              "      <td>868A</td>\n",
              "      <td>TAMPINES AVENUE 8</td>\n",
              "      <td>TAMPINES GREENWOOD</td>\n",
              "      <td>868A TAMPINES AVENUE 8 TAMPINES GREENWOOD SING...</td>\n",
              "      <td>521868</td>\n",
              "      <td>39042.689783</td>\n",
              "      <td>37504.164417</td>\n",
              "      <td>1.355447</td>\n",
              "      <td>103.932544</td>\n",
              "      <td>103.932544</td>\n",
              "      <td>868A TAMPINES AVE 8</td>\n",
              "    </tr>\n",
              "  </tbody>\n",
              "</table>\n",
              "</div>"
            ],
            "text/plain": [
              "   Unnamed: 0  ...                 address\n",
              "0           0  ...       304 HOUGANG AVE 5\n",
              "1           0  ...  260C SENGKANG EAST WAY\n",
              "2           0  ...          108C MCNAIR RD\n",
              "3           0  ...      298 BT BATOK ST 22\n",
              "4           0  ...     868A TAMPINES AVE 8\n",
              "\n",
              "[5 rows x 13 columns]"
            ]
          },
          "metadata": {},
          "execution_count": 12
        }
      ]
    },
    {
      "cell_type": "code",
      "metadata": {
        "id": "8QUIIeylevN6",
        "colab": {
          "base_uri": "https://localhost:8080/",
          "height": 289
        },
        "outputId": "57634665-84c3-41e3-a32d-84cc149e46b2"
      },
      "source": [
        "geo.rename(columns={'Unnamed: 0': 'INDICATOR'}, inplace=True)\n",
        "geo.head()"
      ],
      "execution_count": 13,
      "outputs": [
        {
          "output_type": "execute_result",
          "data": {
            "text/html": [
              "<div>\n",
              "<style scoped>\n",
              "    .dataframe tbody tr th:only-of-type {\n",
              "        vertical-align: middle;\n",
              "    }\n",
              "\n",
              "    .dataframe tbody tr th {\n",
              "        vertical-align: top;\n",
              "    }\n",
              "\n",
              "    .dataframe thead th {\n",
              "        text-align: right;\n",
              "    }\n",
              "</style>\n",
              "<table border=\"1\" class=\"dataframe\">\n",
              "  <thead>\n",
              "    <tr style=\"text-align: right;\">\n",
              "      <th></th>\n",
              "      <th>INDICATOR</th>\n",
              "      <th>SEARCHVAL</th>\n",
              "      <th>BLK_NO</th>\n",
              "      <th>ROAD_NAME</th>\n",
              "      <th>BUILDING</th>\n",
              "      <th>ADDRESS</th>\n",
              "      <th>POSTAL</th>\n",
              "      <th>X</th>\n",
              "      <th>Y</th>\n",
              "      <th>LATITUDE</th>\n",
              "      <th>LONGITUDE</th>\n",
              "      <th>LONGTITUDE</th>\n",
              "      <th>address</th>\n",
              "    </tr>\n",
              "  </thead>\n",
              "  <tbody>\n",
              "    <tr>\n",
              "      <th>0</th>\n",
              "      <td>0</td>\n",
              "      <td>304 HOUGANG AVENUE 5 SINGAPORE 530304</td>\n",
              "      <td>304</td>\n",
              "      <td>HOUGANG AVENUE 5</td>\n",
              "      <td>NIL</td>\n",
              "      <td>304 HOUGANG AVENUE 5 SINGAPORE 530304</td>\n",
              "      <td>530304</td>\n",
              "      <td>34925.323729</td>\n",
              "      <td>38865.377543</td>\n",
              "      <td>1.367758</td>\n",
              "      <td>103.895547</td>\n",
              "      <td>103.895547</td>\n",
              "      <td>304 HOUGANG AVE 5</td>\n",
              "    </tr>\n",
              "    <tr>\n",
              "      <th>1</th>\n",
              "      <td>0</td>\n",
              "      <td>COMPASSVALE NORTH GATE</td>\n",
              "      <td>260C</td>\n",
              "      <td>SENGKANG EAST WAY</td>\n",
              "      <td>COMPASSVALE NORTH GATE</td>\n",
              "      <td>260C SENGKANG EAST WAY COMPASSVALE NORTH GATE ...</td>\n",
              "      <td>543260</td>\n",
              "      <td>34913.688262</td>\n",
              "      <td>41781.748776</td>\n",
              "      <td>1.394133</td>\n",
              "      <td>103.895444</td>\n",
              "      <td>103.895444</td>\n",
              "      <td>260C SENGKANG EAST WAY</td>\n",
              "    </tr>\n",
              "    <tr>\n",
              "      <th>2</th>\n",
              "      <td>0</td>\n",
              "      <td>TOWNER HEIGHTS</td>\n",
              "      <td>108C</td>\n",
              "      <td>MCNAIR ROAD</td>\n",
              "      <td>TOWNER HEIGHTS</td>\n",
              "      <td>108C MCNAIR ROAD TOWNER HEIGHTS SINGAPORE 324108</td>\n",
              "      <td>324108</td>\n",
              "      <td>30909.560487</td>\n",
              "      <td>33567.195607</td>\n",
              "      <td>1.319844</td>\n",
              "      <td>103.859462</td>\n",
              "      <td>103.859462</td>\n",
              "      <td>108C MCNAIR RD</td>\n",
              "    </tr>\n",
              "    <tr>\n",
              "      <th>3</th>\n",
              "      <td>0</td>\n",
              "      <td>298 BUKIT BATOK STREET 22 SINGAPORE 650298</td>\n",
              "      <td>298</td>\n",
              "      <td>BUKIT BATOK STREET 22</td>\n",
              "      <td>NIL</td>\n",
              "      <td>298 BUKIT BATOK STREET 22 SINGAPORE 650298</td>\n",
              "      <td>650298</td>\n",
              "      <td>18409.353455</td>\n",
              "      <td>36326.550736</td>\n",
              "      <td>1.344797</td>\n",
              "      <td>103.747141</td>\n",
              "      <td>103.747141</td>\n",
              "      <td>298 BT BATOK ST 22</td>\n",
              "    </tr>\n",
              "    <tr>\n",
              "      <th>4</th>\n",
              "      <td>0</td>\n",
              "      <td>TAMPINES GREENWOOD</td>\n",
              "      <td>868A</td>\n",
              "      <td>TAMPINES AVENUE 8</td>\n",
              "      <td>TAMPINES GREENWOOD</td>\n",
              "      <td>868A TAMPINES AVENUE 8 TAMPINES GREENWOOD SING...</td>\n",
              "      <td>521868</td>\n",
              "      <td>39042.689783</td>\n",
              "      <td>37504.164417</td>\n",
              "      <td>1.355447</td>\n",
              "      <td>103.932544</td>\n",
              "      <td>103.932544</td>\n",
              "      <td>868A TAMPINES AVE 8</td>\n",
              "    </tr>\n",
              "  </tbody>\n",
              "</table>\n",
              "</div>"
            ],
            "text/plain": [
              "   INDICATOR  ...                 address\n",
              "0          0  ...       304 HOUGANG AVE 5\n",
              "1          0  ...  260C SENGKANG EAST WAY\n",
              "2          0  ...          108C MCNAIR RD\n",
              "3          0  ...      298 BT BATOK ST 22\n",
              "4          0  ...     868A TAMPINES AVE 8\n",
              "\n",
              "[5 rows x 13 columns]"
            ]
          },
          "metadata": {},
          "execution_count": 13
        }
      ]
    },
    {
      "cell_type": "markdown",
      "metadata": {
        "id": "yv-Ho7e01spx"
      },
      "source": [
        "We will only need the address, latitude, and longitude for each flat. Note that we only preserve the rows with 'INDICATOR' == 0, since the others are repeated values:"
      ]
    },
    {
      "cell_type": "code",
      "metadata": {
        "scrolled": true,
        "id": "WnM6XUAxevN7",
        "colab": {
          "base_uri": "https://localhost:8080/",
          "height": 204
        },
        "outputId": "3f672562-d50a-437f-d7ca-1a9e221d2428"
      },
      "source": [
        "geo_edited = geo.drop(columns=['SEARCHVAL', 'BLK_NO', 'ROAD_NAME', 'BUILDING', 'LONGTITUDE'])\n",
        "geo_edited.head()"
      ],
      "execution_count": 14,
      "outputs": [
        {
          "output_type": "execute_result",
          "data": {
            "text/html": [
              "<div>\n",
              "<style scoped>\n",
              "    .dataframe tbody tr th:only-of-type {\n",
              "        vertical-align: middle;\n",
              "    }\n",
              "\n",
              "    .dataframe tbody tr th {\n",
              "        vertical-align: top;\n",
              "    }\n",
              "\n",
              "    .dataframe thead th {\n",
              "        text-align: right;\n",
              "    }\n",
              "</style>\n",
              "<table border=\"1\" class=\"dataframe\">\n",
              "  <thead>\n",
              "    <tr style=\"text-align: right;\">\n",
              "      <th></th>\n",
              "      <th>INDICATOR</th>\n",
              "      <th>ADDRESS</th>\n",
              "      <th>POSTAL</th>\n",
              "      <th>X</th>\n",
              "      <th>Y</th>\n",
              "      <th>LATITUDE</th>\n",
              "      <th>LONGITUDE</th>\n",
              "      <th>address</th>\n",
              "    </tr>\n",
              "  </thead>\n",
              "  <tbody>\n",
              "    <tr>\n",
              "      <th>0</th>\n",
              "      <td>0</td>\n",
              "      <td>304 HOUGANG AVENUE 5 SINGAPORE 530304</td>\n",
              "      <td>530304</td>\n",
              "      <td>34925.323729</td>\n",
              "      <td>38865.377543</td>\n",
              "      <td>1.367758</td>\n",
              "      <td>103.895547</td>\n",
              "      <td>304 HOUGANG AVE 5</td>\n",
              "    </tr>\n",
              "    <tr>\n",
              "      <th>1</th>\n",
              "      <td>0</td>\n",
              "      <td>260C SENGKANG EAST WAY COMPASSVALE NORTH GATE ...</td>\n",
              "      <td>543260</td>\n",
              "      <td>34913.688262</td>\n",
              "      <td>41781.748776</td>\n",
              "      <td>1.394133</td>\n",
              "      <td>103.895444</td>\n",
              "      <td>260C SENGKANG EAST WAY</td>\n",
              "    </tr>\n",
              "    <tr>\n",
              "      <th>2</th>\n",
              "      <td>0</td>\n",
              "      <td>108C MCNAIR ROAD TOWNER HEIGHTS SINGAPORE 324108</td>\n",
              "      <td>324108</td>\n",
              "      <td>30909.560487</td>\n",
              "      <td>33567.195607</td>\n",
              "      <td>1.319844</td>\n",
              "      <td>103.859462</td>\n",
              "      <td>108C MCNAIR RD</td>\n",
              "    </tr>\n",
              "    <tr>\n",
              "      <th>3</th>\n",
              "      <td>0</td>\n",
              "      <td>298 BUKIT BATOK STREET 22 SINGAPORE 650298</td>\n",
              "      <td>650298</td>\n",
              "      <td>18409.353455</td>\n",
              "      <td>36326.550736</td>\n",
              "      <td>1.344797</td>\n",
              "      <td>103.747141</td>\n",
              "      <td>298 BT BATOK ST 22</td>\n",
              "    </tr>\n",
              "    <tr>\n",
              "      <th>4</th>\n",
              "      <td>0</td>\n",
              "      <td>868A TAMPINES AVENUE 8 TAMPINES GREENWOOD SING...</td>\n",
              "      <td>521868</td>\n",
              "      <td>39042.689783</td>\n",
              "      <td>37504.164417</td>\n",
              "      <td>1.355447</td>\n",
              "      <td>103.932544</td>\n",
              "      <td>868A TAMPINES AVE 8</td>\n",
              "    </tr>\n",
              "  </tbody>\n",
              "</table>\n",
              "</div>"
            ],
            "text/plain": [
              "   INDICATOR  ...                 address\n",
              "0          0  ...       304 HOUGANG AVE 5\n",
              "1          0  ...  260C SENGKANG EAST WAY\n",
              "2          0  ...          108C MCNAIR RD\n",
              "3          0  ...      298 BT BATOK ST 22\n",
              "4          0  ...     868A TAMPINES AVE 8\n",
              "\n",
              "[5 rows x 8 columns]"
            ]
          },
          "metadata": {},
          "execution_count": 14
        }
      ]
    },
    {
      "cell_type": "code",
      "metadata": {
        "scrolled": true,
        "id": "gj6Tmo8AevN8",
        "colab": {
          "base_uri": "https://localhost:8080/",
          "height": 204
        },
        "outputId": "ebb6b16a-a9e4-4c19-f99a-ccd30c6366e8"
      },
      "source": [
        "geo_add_lat_long = geo_edited.copy()\n",
        "geo_add_lat_long = geo_add_lat_long[geo_add_lat_long['INDICATOR'] == 0]\n",
        "geo_add_lat_long.drop(columns=['INDICATOR', 'POSTAL', 'X', 'Y', 'address'], inplace=True)\n",
        "geo_add_lat_long.head()"
      ],
      "execution_count": 15,
      "outputs": [
        {
          "output_type": "execute_result",
          "data": {
            "text/html": [
              "<div>\n",
              "<style scoped>\n",
              "    .dataframe tbody tr th:only-of-type {\n",
              "        vertical-align: middle;\n",
              "    }\n",
              "\n",
              "    .dataframe tbody tr th {\n",
              "        vertical-align: top;\n",
              "    }\n",
              "\n",
              "    .dataframe thead th {\n",
              "        text-align: right;\n",
              "    }\n",
              "</style>\n",
              "<table border=\"1\" class=\"dataframe\">\n",
              "  <thead>\n",
              "    <tr style=\"text-align: right;\">\n",
              "      <th></th>\n",
              "      <th>ADDRESS</th>\n",
              "      <th>LATITUDE</th>\n",
              "      <th>LONGITUDE</th>\n",
              "    </tr>\n",
              "  </thead>\n",
              "  <tbody>\n",
              "    <tr>\n",
              "      <th>0</th>\n",
              "      <td>304 HOUGANG AVENUE 5 SINGAPORE 530304</td>\n",
              "      <td>1.367758</td>\n",
              "      <td>103.895547</td>\n",
              "    </tr>\n",
              "    <tr>\n",
              "      <th>1</th>\n",
              "      <td>260C SENGKANG EAST WAY COMPASSVALE NORTH GATE ...</td>\n",
              "      <td>1.394133</td>\n",
              "      <td>103.895444</td>\n",
              "    </tr>\n",
              "    <tr>\n",
              "      <th>2</th>\n",
              "      <td>108C MCNAIR ROAD TOWNER HEIGHTS SINGAPORE 324108</td>\n",
              "      <td>1.319844</td>\n",
              "      <td>103.859462</td>\n",
              "    </tr>\n",
              "    <tr>\n",
              "      <th>3</th>\n",
              "      <td>298 BUKIT BATOK STREET 22 SINGAPORE 650298</td>\n",
              "      <td>1.344797</td>\n",
              "      <td>103.747141</td>\n",
              "    </tr>\n",
              "    <tr>\n",
              "      <th>4</th>\n",
              "      <td>868A TAMPINES AVENUE 8 TAMPINES GREENWOOD SING...</td>\n",
              "      <td>1.355447</td>\n",
              "      <td>103.932544</td>\n",
              "    </tr>\n",
              "  </tbody>\n",
              "</table>\n",
              "</div>"
            ],
            "text/plain": [
              "                                             ADDRESS  LATITUDE   LONGITUDE\n",
              "0              304 HOUGANG AVENUE 5 SINGAPORE 530304  1.367758  103.895547\n",
              "1  260C SENGKANG EAST WAY COMPASSVALE NORTH GATE ...  1.394133  103.895444\n",
              "2   108C MCNAIR ROAD TOWNER HEIGHTS SINGAPORE 324108  1.319844  103.859462\n",
              "3         298 BUKIT BATOK STREET 22 SINGAPORE 650298  1.344797  103.747141\n",
              "4  868A TAMPINES AVENUE 8 TAMPINES GREENWOOD SING...  1.355447  103.932544"
            ]
          },
          "metadata": {},
          "execution_count": 15
        }
      ]
    },
    {
      "cell_type": "markdown",
      "metadata": {
        "id": "F2WJpWzuDzVY"
      },
      "source": [
        "The list of MRT stations can be found at https://github.com/hxchua/datadoubleconfirm/blob/master/datasets/mrtsg.csv, with their latitude and longitude provided:"
      ]
    },
    {
      "cell_type": "code",
      "metadata": {
        "scrolled": true,
        "id": "4kO45Ub1evN9",
        "colab": {
          "base_uri": "https://localhost:8080/",
          "height": 204
        },
        "outputId": "bce5fb9d-68a0-440a-9b17-d1a3523e2a8b"
      },
      "source": [
        "mrt_geo = pd.read_csv(filepath + 'mrtsg.csv')\n",
        "mrt_geo.head()"
      ],
      "execution_count": 16,
      "outputs": [
        {
          "output_type": "execute_result",
          "data": {
            "text/html": [
              "<div>\n",
              "<style scoped>\n",
              "    .dataframe tbody tr th:only-of-type {\n",
              "        vertical-align: middle;\n",
              "    }\n",
              "\n",
              "    .dataframe tbody tr th {\n",
              "        vertical-align: top;\n",
              "    }\n",
              "\n",
              "    .dataframe thead th {\n",
              "        text-align: right;\n",
              "    }\n",
              "</style>\n",
              "<table border=\"1\" class=\"dataframe\">\n",
              "  <thead>\n",
              "    <tr style=\"text-align: right;\">\n",
              "      <th></th>\n",
              "      <th>OBJECTID</th>\n",
              "      <th>STN_NAME</th>\n",
              "      <th>STN_NO</th>\n",
              "      <th>X</th>\n",
              "      <th>Y</th>\n",
              "      <th>Latitude</th>\n",
              "      <th>Longitude</th>\n",
              "      <th>COLOR</th>\n",
              "    </tr>\n",
              "  </thead>\n",
              "  <tbody>\n",
              "    <tr>\n",
              "      <th>0</th>\n",
              "      <td>12</td>\n",
              "      <td>ADMIRALTY MRT STATION</td>\n",
              "      <td>NS10</td>\n",
              "      <td>24402.1063</td>\n",
              "      <td>46918.1131</td>\n",
              "      <td>1.440585</td>\n",
              "      <td>103.800998</td>\n",
              "      <td>RED</td>\n",
              "    </tr>\n",
              "    <tr>\n",
              "      <th>1</th>\n",
              "      <td>16</td>\n",
              "      <td>ALJUNIED MRT STATION</td>\n",
              "      <td>EW9</td>\n",
              "      <td>33518.6049</td>\n",
              "      <td>33190.0020</td>\n",
              "      <td>1.316433</td>\n",
              "      <td>103.882893</td>\n",
              "      <td>GREEN</td>\n",
              "    </tr>\n",
              "    <tr>\n",
              "      <th>2</th>\n",
              "      <td>33</td>\n",
              "      <td>ANG MO KIO MRT STATION</td>\n",
              "      <td>NS16</td>\n",
              "      <td>29807.2655</td>\n",
              "      <td>39105.7720</td>\n",
              "      <td>1.369933</td>\n",
              "      <td>103.849553</td>\n",
              "      <td>RED</td>\n",
              "    </tr>\n",
              "    <tr>\n",
              "      <th>3</th>\n",
              "      <td>81</td>\n",
              "      <td>BAKAU LRT STATION</td>\n",
              "      <td>SE3</td>\n",
              "      <td>36026.0821</td>\n",
              "      <td>41113.8766</td>\n",
              "      <td>1.388093</td>\n",
              "      <td>103.905418</td>\n",
              "      <td>OTHERS</td>\n",
              "    </tr>\n",
              "    <tr>\n",
              "      <th>4</th>\n",
              "      <td>80</td>\n",
              "      <td>BANGKIT LRT STATION</td>\n",
              "      <td>BP9</td>\n",
              "      <td>21248.2460</td>\n",
              "      <td>40220.9693</td>\n",
              "      <td>1.380018</td>\n",
              "      <td>103.772667</td>\n",
              "      <td>OTHERS</td>\n",
              "    </tr>\n",
              "  </tbody>\n",
              "</table>\n",
              "</div>"
            ],
            "text/plain": [
              "   OBJECTID                STN_NAME STN_NO  ...  Latitude   Longitude   COLOR\n",
              "0        12   ADMIRALTY MRT STATION   NS10  ...  1.440585  103.800998     RED\n",
              "1        16    ALJUNIED MRT STATION    EW9  ...  1.316433  103.882893   GREEN\n",
              "2        33  ANG MO KIO MRT STATION   NS16  ...  1.369933  103.849553     RED\n",
              "3        81       BAKAU LRT STATION    SE3  ...  1.388093  103.905418  OTHERS\n",
              "4        80     BANGKIT LRT STATION    BP9  ...  1.380018  103.772667  OTHERS\n",
              "\n",
              "[5 rows x 8 columns]"
            ]
          },
          "metadata": {},
          "execution_count": 16
        }
      ]
    },
    {
      "cell_type": "markdown",
      "metadata": {
        "id": "ljMjdDAH54PW"
      },
      "source": [
        "Similarly, we will drop the columns except for 'STN_NAME', 'Latitude' and 'Longitude':"
      ]
    },
    {
      "cell_type": "code",
      "metadata": {
        "id": "y8XXxandevN-",
        "colab": {
          "base_uri": "https://localhost:8080/",
          "height": 204
        },
        "outputId": "c0cf5b2d-3bae-47fc-8113-100eca2c8059"
      },
      "source": [
        "mrt_add_lat_long = pd.DataFrame(pd.concat([mrt_geo[column] for column in ['STN_NAME', 'Latitude', 'Longitude']], axis=1))\n",
        "mrt_add_lat_long.head()"
      ],
      "execution_count": 17,
      "outputs": [
        {
          "output_type": "execute_result",
          "data": {
            "text/html": [
              "<div>\n",
              "<style scoped>\n",
              "    .dataframe tbody tr th:only-of-type {\n",
              "        vertical-align: middle;\n",
              "    }\n",
              "\n",
              "    .dataframe tbody tr th {\n",
              "        vertical-align: top;\n",
              "    }\n",
              "\n",
              "    .dataframe thead th {\n",
              "        text-align: right;\n",
              "    }\n",
              "</style>\n",
              "<table border=\"1\" class=\"dataframe\">\n",
              "  <thead>\n",
              "    <tr style=\"text-align: right;\">\n",
              "      <th></th>\n",
              "      <th>STN_NAME</th>\n",
              "      <th>Latitude</th>\n",
              "      <th>Longitude</th>\n",
              "    </tr>\n",
              "  </thead>\n",
              "  <tbody>\n",
              "    <tr>\n",
              "      <th>0</th>\n",
              "      <td>ADMIRALTY MRT STATION</td>\n",
              "      <td>1.440585</td>\n",
              "      <td>103.800998</td>\n",
              "    </tr>\n",
              "    <tr>\n",
              "      <th>1</th>\n",
              "      <td>ALJUNIED MRT STATION</td>\n",
              "      <td>1.316433</td>\n",
              "      <td>103.882893</td>\n",
              "    </tr>\n",
              "    <tr>\n",
              "      <th>2</th>\n",
              "      <td>ANG MO KIO MRT STATION</td>\n",
              "      <td>1.369933</td>\n",
              "      <td>103.849553</td>\n",
              "    </tr>\n",
              "    <tr>\n",
              "      <th>3</th>\n",
              "      <td>BAKAU LRT STATION</td>\n",
              "      <td>1.388093</td>\n",
              "      <td>103.905418</td>\n",
              "    </tr>\n",
              "    <tr>\n",
              "      <th>4</th>\n",
              "      <td>BANGKIT LRT STATION</td>\n",
              "      <td>1.380018</td>\n",
              "      <td>103.772667</td>\n",
              "    </tr>\n",
              "  </tbody>\n",
              "</table>\n",
              "</div>"
            ],
            "text/plain": [
              "                 STN_NAME  Latitude   Longitude\n",
              "0   ADMIRALTY MRT STATION  1.440585  103.800998\n",
              "1    ALJUNIED MRT STATION  1.316433  103.882893\n",
              "2  ANG MO KIO MRT STATION  1.369933  103.849553\n",
              "3       BAKAU LRT STATION  1.388093  103.905418\n",
              "4     BANGKIT LRT STATION  1.380018  103.772667"
            ]
          },
          "metadata": {},
          "execution_count": 17
        }
      ]
    },
    {
      "cell_type": "markdown",
      "metadata": {
        "id": "FZ-OsAN6evN_"
      },
      "source": [
        "After determining the geographical locations, we will then define a function to find the distance from the nearest mrt stations for each flat. Again, it can be reuse for other amenities. "
      ]
    },
    {
      "cell_type": "code",
      "metadata": {
        "id": "xwKTuisSevN_"
      },
      "source": [
        "from geopy.distance import geodesic\n",
        "\n",
        "def find_nearest(housing, amenity):\n",
        "    results = {}\n",
        "    for index, flat in enumerate(housing.iloc[:, 0]):\n",
        "        flat_loc = (housing.iloc[index, 1], housing.iloc[index, 2])\n",
        "        flat_amenity = ['', '', 100]\n",
        "        for ind, eachloc in enumerate(amenity.iloc[:, 0]):\n",
        "            amenity_loc = (amenity.iloc[ind, 1], amenity.iloc[ind, 2])\n",
        "            distance = geodesic(flat_loc, amenity_loc)\n",
        "            if distance < flat_amenity[2]:\n",
        "                flat_amenity[0] = flat\n",
        "                flat_amenity[1] = eachloc\n",
        "                flat_amenity[2] = distance\n",
        "        results[flat] = (flat_amenity[1], flat_amenity[2])\n",
        "        if (index + 1) % 100 == 0:\n",
        "          print(index + 1, '-', flat, ':', results[flat])\n",
        "    return results"
      ],
      "execution_count": 22,
      "outputs": []
    },
    {
      "cell_type": "markdown",
      "metadata": {
        "id": "VAVEoufi7cGF"
      },
      "source": [
        "Note that the function takes in two DataFrames with the second and third columns being the latitude and longitude of the locations (i.e., flat or MRT station). The first column could be any feature that identifies the location of its corresponding row (e.g., address of flat or name of MRT station)."
      ]
    },
    {
      "cell_type": "code",
      "metadata": {
        "id": "9jRRpS4YevN_",
        "colab": {
          "base_uri": "https://localhost:8080/"
        },
        "outputId": "a5ed86de-9bcb-4e58-ee67-568cad8d842d"
      },
      "source": [
        "distance_mrt = find_nearest(geo_add_lat_long, mrt_add_lat_long)"
      ],
      "execution_count": 23,
      "outputs": [
        {
          "output_type": "stream",
          "text": [
            "100 - 276 TOH GUAN ROAD TOH GUAN VIEW SINGAPORE 600276 : ('BUKIT BATOK MRT STATION', Distance(0.923848744213273))\n",
            "200 - 312A SUMANG LINK PUNGGOL PARCVISTA SINGAPORE 821312 : ('NIBONG LRT STATION', Distance(0.11656031217058989))\n",
            "300 - 188B RIVERVALE DRIVE RIVERVALE GATEWAY SINGAPORE 542188 : ('RUMBIA LRT STATION', Distance(0.3441130502392154))\n",
            "400 - 9 SELEGIE ROAD SELEGIE HOUSE SINGAPORE 180009 : ('LITTLE INDIA MRT STATION', Distance(0.19657910226212602))\n",
            "500 - 172 BEDOK SOUTH ROAD SIGLAP EAST SINGAPORE 460172 : ('TANAH MERAH MRT STATION', Distance(0.7431086015169406))\n",
            "600 - 313 UBI AVENUE 1 KAMPONG UBI GREENVILLE SINGAPORE 400313 : ('UBI MRT STATION', Distance(0.5284994517844704))\n",
            "700 - 555 CHOA CHU KANG NORTH 6 SINGAPORE 680555 : ('YEW TEE MRT STATION', Distance(0.439803630819385))\n",
            "800 - 2A GEYLANG SERAI SRI GEYLANG SERAI SINGAPORE 403002 : ('PAYA LEBAR MRT STATION', Distance(0.5378829633237047))\n",
            "900 - 401 TAMPINES STREET 41 SUN PLAZA GREEN SINGAPORE 520401 : ('TAMPINES MRT STATION', Distance(0.30429017366456346))\n",
            "1000 - 130 BEDOK RESERVOIR ROAD EUNOS SPRING SINGAPORE 470130 : ('KAKI BUKIT MRT STATION', Distance(0.46574808974105164))\n",
            "1100 - 253 YISHUN RING ROAD YISHUN SUNSHINE SINGAPORE 760253 : ('YISHUN MRT STATION', Distance(0.8961211789395681))\n",
            "1200 - 315 SEMBAWANG VISTA SINGAPORE 750315 : ('SEMBAWANG MRT STATION', Distance(0.2494369289771509))\n",
            "1300 - 128 BUKIT MERAH VIEW BUKIT MERAH VIEW SINGAPORE 150128 : ('TIONG BAHRU MRT STATION', Distance(0.5681542331319884))\n",
            "1400 - 96B HENDERSON ROAD CITY VUE @HENDERSON SINGAPORE 152096 : ('REDHILL MRT STATION', Distance(0.5237030403699541))\n",
            "1500 - 119 PENDING ROAD SINGAPORE 670119 : ('PENDING LRT STATION', Distance(0.2537191232220649))\n",
            "1600 - 436 CHOA CHU KANG AVENUE 4 SINGAPORE 680436 : ('CHOA CHU KANG MRT STATION', Distance(0.4534011103368402))\n",
            "1700 - 224D COMPASSVALE WALK COMPASSVALE VISTA SINGAPORE 544224 : ('SENGKANG LRT STATION', Distance(0.48039816031353594))\n",
            "1800 - 793 YISHUN RING ROAD KHATIB VALE SINGAPORE 760793 : ('KHATIB MRT STATION', Distance(0.3673699799859284))\n",
            "1900 - 609 BEDOK RESERVOIR ROAD EUNOS RAINBOW SINGAPORE 470609 : ('KAKI BUKIT MRT STATION', Distance(0.557222275853494))\n",
            "2000 - 312 WOODLANDS STREET 31 SINGAPORE 730312 : ('MARSILING MRT STATION', Distance(0.26645158830788956))\n",
            "2100 - 453D FERNVALE ROAD FERNVALE FLORA SINGAPORE 794453 : ('FERNVALE LRT STATION', Distance(0.19994597386785423))\n",
            "2200 - 454 JURONG WEST STREET 42 SINGAPORE 640454 : ('LAKESIDE MRT STATION', Distance(0.8279681621230411))\n",
            "2300 - 251 KIM KEAT LINK SINGAPORE 310251 : ('TOA PAYOH MRT STATION', Distance(1.0661526490230693))\n",
            "2400 - 513 BEDOK NORTH AVENUE 2 KAKI BUKIT GREEN SINGAPORE 460513 : ('BEDOK RESERVOIR MRT STATION', Distance(0.5199464764048031))\n",
            "2500 - 136 BUKIT BATOK WEST AVENUE 6 SINGAPORE 650136 : ('BUKIT BATOK MRT STATION', Distance(0.5656465413588077))\n",
            "2600 - 192C RIVERVALE DRIVE RIVERVALE GATEWAY SINGAPORE 543192 : ('COMPASSVALE LRT STATION', Distance(0.27600376409290966))\n",
            "2700 - 159 YUNG PING ROAD SINGAPORE 610159 : ('LAKESIDE MRT STATION', Distance(1.6630385415334024))\n",
            "2800 - 257 TAMPINES STREET 21 SINGAPORE 520257 : ('TAMPINES MRT STATION', Distance(0.5390536380088528))\n",
            "2900 - 91 PAYA LEBAR WAY SINGAPORE 370091 : ('MACPHERSON MRT STATION', Distance(0.47388035464744516))\n",
            "3000 - 834 TAMPINES STREET 82 TAMPINES PALMWALK SINGAPORE 520834 : ('TAMPINES WEST MRT STATION', Distance(0.5990503974240469))\n",
            "3100 - 15 FARRER PARK ROAD FARRER PARK VIEW SINGAPORE 210015 : ('FARRER PARK MRT STATION', Distance(0.3150950617864336))\n",
            "3200 - 104 TECK WHYE LANE SINGAPORE 680104 : ('TECK WHYE LRT STATION', Distance(0.10577279500785225))\n",
            "3300 - 608 ELIAS ROAD SINGAPORE 510608 : ('PASIR RIS MRT STATION', Distance(0.7535176312653823))\n",
            "3400 - 302 JURONG EAST STREET 32 HONG KAH EAST GARDEN SINGAPORE 600302 : ('CHINESE GARDEN MRT STATION', Distance(0.3279900267920174))\n",
            "3500 - 339 UBI AVENUE 1 KAMPONG UBI VIEW SINGAPORE 400339 : ('UBI MRT STATION', Distance(0.4946087442920452))\n",
            "3600 - 211A PUNGGOL WALK PUNGGOL RIPPLES SINGAPORE 821211 : ('PUNGGOL MRT STATION', Distance(0.387268866090934))\n",
            "3700 - 420 TAMPINES STREET 41 SUN PLAZA GARDENS SINGAPORE 520420 : ('TAMPINES MRT STATION', Distance(0.5718081180449766))\n",
            "3800 - 816A KEAT HONG LINK KEAT HONG MIRAGE SINGAPORE 681816 : ('KEAT HONG LRT STATION', Distance(0.2857311480941637))\n",
            "3900 - 251 YISHUN RING ROAD YISHUN SUNSHINE SINGAPORE 760251 : ('YISHUN MRT STATION', Distance(0.9212325793819104))\n",
            "4000 - 684B JURONG WEST STREET 64 SINGAPORE 642684 : ('BOON LAY MRT STATION', Distance(0.6157146857459277))\n",
            "4100 - 635 PASIR RIS DRIVE 1 SINGAPORE 510635 : ('PASIR RIS MRT STATION', Distance(1.1057072792908353))\n",
            "4200 - 850 WOODLANDS STREET 82 SINGAPORE 730850 : ('WOODLANDS MRT STATION', Distance(0.7096735348878026))\n",
            "4300 - 658 YISHUN AVENUE 4 SUNNYTOTS SCHOOLHOUSE SINGAPORE 760658 : ('KHATIB MRT STATION', Distance(0.8794647046496729))\n",
            "4400 - 69 CIRCUIT ROAD SINGAPORE 370069 : ('MACPHERSON MRT STATION', Distance(0.23890018876227676))\n",
            "4500 - 474 ANG MO KIO AVENUE 10 TECK GHEE HORIZON SINGAPORE 560474 : ('ANG MO KIO MRT STATION', Distance(1.2313813394277189))\n",
            "4600 - 18 CANTONMENT CLOSE CANTONMENT TOWERS SINGAPORE 080018 : ('OUTRAM PARK MRT STATION', Distance(0.6485430892350336))\n",
            "4700 - 601 JURONG WEST STREET 62 SINGAPORE 640601 : ('PIONEER MRT STATION', Distance(0.38510387921016526))\n",
            "4800 - 687B WOODLANDS DRIVE 75 SINGAPORE 732687 : ('ADMIRALTY MRT STATION', Distance(0.7008384015636245))\n",
            "4900 - 55 TEBAN GARDENS ROAD TEBAN VIEW SINGAPORE 600055 : ('JURONG EAST MRT STATION', Distance(1.3531313192887817))\n",
            "5000 - 257 JURONG EAST STREET 24 SINGAPORE 600257 : ('CHINESE GARDEN MRT STATION', Distance(0.7099810921028685))\n",
            "5100 - 124 BEDOK NORTH ROAD SINGAPORE 460124 : ('TANAH MERAH MRT STATION', Distance(0.8408457396406595))\n",
            "5200 - 106 RIVERVALE WALK RIVERVALE COURT SINGAPORE 540106 : ('KANGKAR LRT STATION', Distance(0.26159434296547335))\n",
            "5300 - 806 TAMPINES AVENUE 4 TAMPINES POLYVIEW SINGAPORE 520806 : ('TAMPINES WEST MRT STATION', Distance(0.1705703599294292))\n",
            "5400 - 304 BUKIT BATOK STREET 31 HONG KAH GREEN SINGAPORE 650304 : ('BUKIT GOMBAK MRT STATION', Distance(0.46402479076151276))\n",
            "5500 - 703 WEST COAST ROAD SINGAPORE 120703 : ('CLEMENTI MRT STATION', Distance(1.0463682722054894))\n",
            "5600 - 307 CLEMENTI AVENUE 4 CLEMENTI MEADOWS SINGAPORE 120307 : ('CLEMENTI MRT STATION', Distance(0.7416820034662401))\n",
            "5700 - 35 TELOK BLANGAH RISE SINGAPORE 090035 : ('HARBOURFRONT MRT STATION', Distance(0.8381670956795761))\n",
            "5800 - 163 JALAN TECK WHYE SINGAPORE 680163 : ('PHOENIX LRT STATION', Distance(0.28286970340008727))\n",
            "5900 - 902 TAMPINES AVENUE 4 TAMPINES PALMSVILLE SINGAPORE 520902 : ('TAMPINES MRT STATION', Distance(0.5986623473509017))\n",
            "6000 - 536 UPPER CROSS STREET SINGAPORE 050536 : ('CHINATOWN MRT STATION', Distance(0.1323252236178349))\n",
            "6100 - 549 WOODLANDS DRIVE 44 SINGAPORE 730549 : ('WOODLANDS SOUTH MRT STATION', Distance(0.5051908439487325))\n",
            "6200 - 467 PASIR RIS DRIVE 6 SINGAPORE 510467 : ('PASIR RIS MRT STATION', Distance(0.8393671308113919))\n",
            "6300 - 738 TAMPINES STREET 72 TAMPINES GREEN VALE SINGAPORE 520738 : ('TAMPINES MRT STATION', Distance(1.1383595254038925))\n",
            "6400 - 791 YISHUN AVENUE 2 KHATIB VALE SINGAPORE 760791 : ('KHATIB MRT STATION', Distance(0.3528540060217906))\n",
            "6500 - 34 CHAI CHEE AVENUE ANSAR GARDEN SINGAPORE 461034 : ('BEDOK MRT STATION', Distance(0.39602880058658846))\n",
            "6600 - 3 HAIG ROAD HAIG VIEW SINGAPORE 430003 : ('PAYA LEBAR MRT STATION', Distance(0.8573418162381077))\n",
            "6700 - 356 YISHUN RING ROAD : ('YISHUN MRT STATION', Distance(1.250246274969803))\n",
            "6800 - 441B CLEMENTI AVENUE 3 CLEMENTI TOWERS SINGAPORE 122441 : ('CLEMENTI MRT STATION', Distance(0.135483367707984))\n",
            "6900 - 986B JURONG WEST STREET 93 SINGAPORE 642986 : ('PIONEER MRT STATION', Distance(0.20867467047039223))\n",
            "7000 - 118 BISHAN STREET 12 SINGAPORE 570118 : ('BISHAN MRT STATION', Distance(0.5082941999170871))\n",
            "7100 - 563 HOUGANG STREET 51 SINGAPORE 530563 : ('BUANGKOK MRT STATION', Distance(0.5926389078223604))\n",
            "7200 - 973 HOUGANG STREET 91 SINGAPORE 530973 : ('TONGKANG LRT STATION', Distance(1.4460633354449333))\n",
            "7300 - 220 YISHUN STREET 21 YISHUN GARDENS SINGAPORE 760220 : ('YISHUN MRT STATION', Distance(0.462269403530536))\n",
            "7400 - 778 WOODLANDS DRIVE 60 SINGAPORE 730778 : ('ADMIRALTY MRT STATION', Distance(0.7529536114345523))\n",
            "7500 - 937 TAMPINES AVENUE 5 TAMPINES PALMSPRING SINGAPORE 520937 : ('TAMPINES WEST MRT STATION', Distance(0.4068467937782896))\n",
            "7600 - 415 SAUJANA ROAD SINGAPORE 670415 : ('FAJAR LRT STATION', Distance(0.2469175461245519))\n",
            "7700 - 531 BUKIT BATOK STREET 51 SINGAPORE 650531 : ('BUKIT GOMBAK MRT STATION', Distance(0.3207306494091688))\n",
            "7800 - 195 PASIR RIS STREET 12 SINGAPORE 510195 : ('TAMPINES EAST MRT STATION', Distance(1.2809096500734853))\n",
            "7900 - 5 HAIG ROAD HAIG VIEW SINGAPORE 430005 : ('PAYA LEBAR MRT STATION', Distance(0.7271433986457055))\n",
            "8000 - 501A YISHUN STREET 51 PALM BREEZE @ YISHUN SINGAPORE 761501 : ('KHATIB MRT STATION', Distance(0.8360051127984853))\n",
            "8100 - 6 EVERTON PARK EVERTON PARK SINGAPORE 080006 : ('OUTRAM PARK MRT STATION', Distance(0.3527212537134545))\n",
            "8200 - 269A PUNGGOL FIELD PUNGGOL SAPPHIRE SINGAPORE 821269 : ('SOO TECK LRT STATION', Distance(0.29235415462634295))\n",
            "8300 - 611 BEDOK RESERVOIR ROAD EUNOS GROVE SINGAPORE 470611 : ('BEDOK NORTH MRT STATION', Distance(0.515939508136423))\n",
            "8400 - 544 JELAPANG ROAD PANSHAN GROVE SINGAPORE 670544 : ('SENJA LRT STATION', Distance(0.1942105387902408))\n",
            "8500 - 723 JURONG WEST AVENUE 5 NANYANG SAPPHIRE SINGAPORE 640723 : ('PIONEER MRT STATION', Distance(0.7658176180828693))\n",
            "8600 - 506 WEST COAST DRIVE WEST COAST VISTA SINGAPORE 120506 : ('CLEMENTI MRT STATION', Distance(0.563779340497963))\n",
            "8700 - 842 SIMS AVENUE SINGAPORE 400842 : ('EUNOS MRT STATION', Distance(0.2709971402021158))\n",
            "8800 - 478 SEMBAWANG DRIVE SINGAPORE 750478 : ('SEMBAWANG MRT STATION', Distance(0.5464259196813499))\n",
            "8900 - 330 TAH CHING ROAD SINGAPORE 610330 : ('LAKESIDE MRT STATION', Distance(0.8099967833289032))\n",
            "9000 - 121B RIVERVALE DRIVE RIVERVALE BANK SINGAPORE 542121 : ('BAKAU LRT STATION', Distance(0.20303750014945365))\n"
          ],
          "name": "stdout"
        }
      ]
    },
    {
      "cell_type": "code",
      "metadata": {
        "id": "ci2JBUNpevOA",
        "colab": {
          "base_uri": "https://localhost:8080/",
          "height": 419
        },
        "outputId": "0cd2ce29-072a-494f-b882-7b3cf71cda42"
      },
      "source": [
        "df_distance_mrt = pd.DataFrame(distance_mrt).T.reset_index()\n",
        "df_distance_mrt"
      ],
      "execution_count": 24,
      "outputs": [
        {
          "output_type": "execute_result",
          "data": {
            "text/html": [
              "<div>\n",
              "<style scoped>\n",
              "    .dataframe tbody tr th:only-of-type {\n",
              "        vertical-align: middle;\n",
              "    }\n",
              "\n",
              "    .dataframe tbody tr th {\n",
              "        vertical-align: top;\n",
              "    }\n",
              "\n",
              "    .dataframe thead th {\n",
              "        text-align: right;\n",
              "    }\n",
              "</style>\n",
              "<table border=\"1\" class=\"dataframe\">\n",
              "  <thead>\n",
              "    <tr style=\"text-align: right;\">\n",
              "      <th></th>\n",
              "      <th>index</th>\n",
              "      <th>0</th>\n",
              "      <th>1</th>\n",
              "    </tr>\n",
              "  </thead>\n",
              "  <tbody>\n",
              "    <tr>\n",
              "      <th>0</th>\n",
              "      <td>304 HOUGANG AVENUE 5 SINGAPORE 530304</td>\n",
              "      <td>HOUGANG MRT STATION</td>\n",
              "      <td>0.5274829521956041 km</td>\n",
              "    </tr>\n",
              "    <tr>\n",
              "      <th>1</th>\n",
              "      <td>260C SENGKANG EAST WAY COMPASSVALE NORTH GATE ...</td>\n",
              "      <td>SENGKANG MRT STATION</td>\n",
              "      <td>0.2696330374483812 km</td>\n",
              "    </tr>\n",
              "    <tr>\n",
              "      <th>2</th>\n",
              "      <td>108C MCNAIR ROAD TOWNER HEIGHTS SINGAPORE 324108</td>\n",
              "      <td>BOON KENG MRT STATION</td>\n",
              "      <td>0.25161039856047973 km</td>\n",
              "    </tr>\n",
              "    <tr>\n",
              "      <th>3</th>\n",
              "      <td>298 BUKIT BATOK STREET 22 SINGAPORE 650298</td>\n",
              "      <td>BUKIT BATOK MRT STATION</td>\n",
              "      <td>0.541996930525703 km</td>\n",
              "    </tr>\n",
              "    <tr>\n",
              "      <th>4</th>\n",
              "      <td>868A TAMPINES AVENUE 8 TAMPINES GREENWOOD SING...</td>\n",
              "      <td>TAMPINES MRT STATION</td>\n",
              "      <td>1.167633244415947 km</td>\n",
              "    </tr>\n",
              "    <tr>\n",
              "      <th>...</th>\n",
              "      <td>...</td>\n",
              "      <td>...</td>\n",
              "      <td>...</td>\n",
              "    </tr>\n",
              "    <tr>\n",
              "      <th>9072</th>\n",
              "      <td>201D TAMPINES STREET 21 SINGAPORE 524201</td>\n",
              "      <td>TAMPINES EAST MRT STATION</td>\n",
              "      <td>0.44888364479729304 km</td>\n",
              "    </tr>\n",
              "    <tr>\n",
              "      <th>9073</th>\n",
              "      <td>312 TAMPINES STREET 33 SINGAPORE 520312</td>\n",
              "      <td>TAMPINES EAST MRT STATION</td>\n",
              "      <td>0.4977402262067574 km</td>\n",
              "    </tr>\n",
              "    <tr>\n",
              "      <th>9074</th>\n",
              "      <td>474 SEGAR ROAD SEGAR GARDENS SINGAPORE 670474</td>\n",
              "      <td>SEGAR LRT STATION</td>\n",
              "      <td>0.3227799730713737 km</td>\n",
              "    </tr>\n",
              "    <tr>\n",
              "      <th>9075</th>\n",
              "      <td>402 WOODLANDS STREET 41 SINGAPORE 730402</td>\n",
              "      <td>MARSILING MRT STATION</td>\n",
              "      <td>0.25929672103106877 km</td>\n",
              "    </tr>\n",
              "    <tr>\n",
              "      <th>9076</th>\n",
              "      <td>475 SEMBAWANG DRIVE SINGAPORE 750475</td>\n",
              "      <td>SEMBAWANG MRT STATION</td>\n",
              "      <td>0.3883800434809743 km</td>\n",
              "    </tr>\n",
              "  </tbody>\n",
              "</table>\n",
              "<p>9077 rows × 3 columns</p>\n",
              "</div>"
            ],
            "text/plain": [
              "                                                  index  ...                       1\n",
              "0                 304 HOUGANG AVENUE 5 SINGAPORE 530304  ...   0.5274829521956041 km\n",
              "1     260C SENGKANG EAST WAY COMPASSVALE NORTH GATE ...  ...   0.2696330374483812 km\n",
              "2      108C MCNAIR ROAD TOWNER HEIGHTS SINGAPORE 324108  ...  0.25161039856047973 km\n",
              "3            298 BUKIT BATOK STREET 22 SINGAPORE 650298  ...    0.541996930525703 km\n",
              "4     868A TAMPINES AVENUE 8 TAMPINES GREENWOOD SING...  ...    1.167633244415947 km\n",
              "...                                                 ...  ...                     ...\n",
              "9072           201D TAMPINES STREET 21 SINGAPORE 524201  ...  0.44888364479729304 km\n",
              "9073            312 TAMPINES STREET 33 SINGAPORE 520312  ...   0.4977402262067574 km\n",
              "9074      474 SEGAR ROAD SEGAR GARDENS SINGAPORE 670474  ...   0.3227799730713737 km\n",
              "9075           402 WOODLANDS STREET 41 SINGAPORE 730402  ...  0.25929672103106877 km\n",
              "9076               475 SEMBAWANG DRIVE SINGAPORE 750475  ...   0.3883800434809743 km\n",
              "\n",
              "[9077 rows x 3 columns]"
            ]
          },
          "metadata": {},
          "execution_count": 24
        }
      ]
    },
    {
      "cell_type": "code",
      "metadata": {
        "id": "gN-XwoEQevOB",
        "colab": {
          "base_uri": "https://localhost:8080/",
          "height": 419
        },
        "outputId": "9e056f81-6499-4745-e033-e17a344c2648"
      },
      "source": [
        "df_distance_mrt = df_distance_mrt.rename(columns={'index':'ADDRESS', 0: 'MRT STATION', 1: 'DISTANCE_MRT'})\n",
        "df_distance_mrt"
      ],
      "execution_count": 25,
      "outputs": [
        {
          "output_type": "execute_result",
          "data": {
            "text/html": [
              "<div>\n",
              "<style scoped>\n",
              "    .dataframe tbody tr th:only-of-type {\n",
              "        vertical-align: middle;\n",
              "    }\n",
              "\n",
              "    .dataframe tbody tr th {\n",
              "        vertical-align: top;\n",
              "    }\n",
              "\n",
              "    .dataframe thead th {\n",
              "        text-align: right;\n",
              "    }\n",
              "</style>\n",
              "<table border=\"1\" class=\"dataframe\">\n",
              "  <thead>\n",
              "    <tr style=\"text-align: right;\">\n",
              "      <th></th>\n",
              "      <th>ADDRESS</th>\n",
              "      <th>MRT STATION</th>\n",
              "      <th>DISTANCE_MRT</th>\n",
              "    </tr>\n",
              "  </thead>\n",
              "  <tbody>\n",
              "    <tr>\n",
              "      <th>0</th>\n",
              "      <td>304 HOUGANG AVENUE 5 SINGAPORE 530304</td>\n",
              "      <td>HOUGANG MRT STATION</td>\n",
              "      <td>0.5274829521956041 km</td>\n",
              "    </tr>\n",
              "    <tr>\n",
              "      <th>1</th>\n",
              "      <td>260C SENGKANG EAST WAY COMPASSVALE NORTH GATE ...</td>\n",
              "      <td>SENGKANG MRT STATION</td>\n",
              "      <td>0.2696330374483812 km</td>\n",
              "    </tr>\n",
              "    <tr>\n",
              "      <th>2</th>\n",
              "      <td>108C MCNAIR ROAD TOWNER HEIGHTS SINGAPORE 324108</td>\n",
              "      <td>BOON KENG MRT STATION</td>\n",
              "      <td>0.25161039856047973 km</td>\n",
              "    </tr>\n",
              "    <tr>\n",
              "      <th>3</th>\n",
              "      <td>298 BUKIT BATOK STREET 22 SINGAPORE 650298</td>\n",
              "      <td>BUKIT BATOK MRT STATION</td>\n",
              "      <td>0.541996930525703 km</td>\n",
              "    </tr>\n",
              "    <tr>\n",
              "      <th>4</th>\n",
              "      <td>868A TAMPINES AVENUE 8 TAMPINES GREENWOOD SING...</td>\n",
              "      <td>TAMPINES MRT STATION</td>\n",
              "      <td>1.167633244415947 km</td>\n",
              "    </tr>\n",
              "    <tr>\n",
              "      <th>...</th>\n",
              "      <td>...</td>\n",
              "      <td>...</td>\n",
              "      <td>...</td>\n",
              "    </tr>\n",
              "    <tr>\n",
              "      <th>9072</th>\n",
              "      <td>201D TAMPINES STREET 21 SINGAPORE 524201</td>\n",
              "      <td>TAMPINES EAST MRT STATION</td>\n",
              "      <td>0.44888364479729304 km</td>\n",
              "    </tr>\n",
              "    <tr>\n",
              "      <th>9073</th>\n",
              "      <td>312 TAMPINES STREET 33 SINGAPORE 520312</td>\n",
              "      <td>TAMPINES EAST MRT STATION</td>\n",
              "      <td>0.4977402262067574 km</td>\n",
              "    </tr>\n",
              "    <tr>\n",
              "      <th>9074</th>\n",
              "      <td>474 SEGAR ROAD SEGAR GARDENS SINGAPORE 670474</td>\n",
              "      <td>SEGAR LRT STATION</td>\n",
              "      <td>0.3227799730713737 km</td>\n",
              "    </tr>\n",
              "    <tr>\n",
              "      <th>9075</th>\n",
              "      <td>402 WOODLANDS STREET 41 SINGAPORE 730402</td>\n",
              "      <td>MARSILING MRT STATION</td>\n",
              "      <td>0.25929672103106877 km</td>\n",
              "    </tr>\n",
              "    <tr>\n",
              "      <th>9076</th>\n",
              "      <td>475 SEMBAWANG DRIVE SINGAPORE 750475</td>\n",
              "      <td>SEMBAWANG MRT STATION</td>\n",
              "      <td>0.3883800434809743 km</td>\n",
              "    </tr>\n",
              "  </tbody>\n",
              "</table>\n",
              "<p>9077 rows × 3 columns</p>\n",
              "</div>"
            ],
            "text/plain": [
              "                                                ADDRESS  ...            DISTANCE_MRT\n",
              "0                 304 HOUGANG AVENUE 5 SINGAPORE 530304  ...   0.5274829521956041 km\n",
              "1     260C SENGKANG EAST WAY COMPASSVALE NORTH GATE ...  ...   0.2696330374483812 km\n",
              "2      108C MCNAIR ROAD TOWNER HEIGHTS SINGAPORE 324108  ...  0.25161039856047973 km\n",
              "3            298 BUKIT BATOK STREET 22 SINGAPORE 650298  ...    0.541996930525703 km\n",
              "4     868A TAMPINES AVENUE 8 TAMPINES GREENWOOD SING...  ...    1.167633244415947 km\n",
              "...                                                 ...  ...                     ...\n",
              "9072           201D TAMPINES STREET 21 SINGAPORE 524201  ...  0.44888364479729304 km\n",
              "9073            312 TAMPINES STREET 33 SINGAPORE 520312  ...   0.4977402262067574 km\n",
              "9074      474 SEGAR ROAD SEGAR GARDENS SINGAPORE 670474  ...   0.3227799730713737 km\n",
              "9075           402 WOODLANDS STREET 41 SINGAPORE 730402  ...  0.25929672103106877 km\n",
              "9076               475 SEMBAWANG DRIVE SINGAPORE 750475  ...   0.3883800434809743 km\n",
              "\n",
              "[9077 rows x 3 columns]"
            ]
          },
          "metadata": {},
          "execution_count": 25
        }
      ]
    },
    {
      "cell_type": "code",
      "metadata": {
        "id": "3066XiAuevOB"
      },
      "source": [
        "df_distance_mrt.to_csv(filepath + 'distance_mrt.csv', index=False)"
      ],
      "execution_count": 26,
      "outputs": []
    },
    {
      "cell_type": "markdown",
      "metadata": {
        "id": "y5O4SYM6DpfB"
      },
      "source": [
        "We will merge the result DataFrame to the original DataFrame by their corresponding address:"
      ]
    },
    {
      "cell_type": "code",
      "metadata": {
        "id": "4MaLTuRAevOB",
        "colab": {
          "base_uri": "https://localhost:8080/",
          "height": 476
        },
        "outputId": "21a58554-18e6-4a50-90c9-4705793218d3"
      },
      "source": [
        "hdb = df_resale.merge(geo_edited[geo_edited['INDICATOR'] == 0], how='left', left_on='address', right_on='address')\n",
        "hdb.head()"
      ],
      "execution_count": 27,
      "outputs": [
        {
          "output_type": "execute_result",
          "data": {
            "text/html": [
              "<div>\n",
              "<style scoped>\n",
              "    .dataframe tbody tr th:only-of-type {\n",
              "        vertical-align: middle;\n",
              "    }\n",
              "\n",
              "    .dataframe tbody tr th {\n",
              "        vertical-align: top;\n",
              "    }\n",
              "\n",
              "    .dataframe thead th {\n",
              "        text-align: right;\n",
              "    }\n",
              "</style>\n",
              "<table border=\"1\" class=\"dataframe\">\n",
              "  <thead>\n",
              "    <tr style=\"text-align: right;\">\n",
              "      <th></th>\n",
              "      <th>month</th>\n",
              "      <th>town</th>\n",
              "      <th>flat_type</th>\n",
              "      <th>block</th>\n",
              "      <th>street_name</th>\n",
              "      <th>storey_range</th>\n",
              "      <th>floor_area_sqm</th>\n",
              "      <th>flat_model</th>\n",
              "      <th>lease_commence_date</th>\n",
              "      <th>remaining_lease</th>\n",
              "      <th>resale_price</th>\n",
              "      <th>address</th>\n",
              "      <th>INDICATOR</th>\n",
              "      <th>ADDRESS</th>\n",
              "      <th>POSTAL</th>\n",
              "      <th>X</th>\n",
              "      <th>Y</th>\n",
              "      <th>LATITUDE</th>\n",
              "      <th>LONGITUDE</th>\n",
              "    </tr>\n",
              "  </thead>\n",
              "  <tbody>\n",
              "    <tr>\n",
              "      <th>0</th>\n",
              "      <td>2017-01</td>\n",
              "      <td>ANG MO KIO</td>\n",
              "      <td>2 ROOM</td>\n",
              "      <td>406</td>\n",
              "      <td>ANG MO KIO AVE 10</td>\n",
              "      <td>10 TO 12</td>\n",
              "      <td>44.0</td>\n",
              "      <td>Improved</td>\n",
              "      <td>1979</td>\n",
              "      <td>61 years 04 months</td>\n",
              "      <td>232000.0</td>\n",
              "      <td>406 ANG MO KIO AVE 10</td>\n",
              "      <td>0.0</td>\n",
              "      <td>406 ANG MO KIO AVENUE 10 SINGAPORE 560406</td>\n",
              "      <td>560406</td>\n",
              "      <td>30288.234663</td>\n",
              "      <td>38229.067463</td>\n",
              "      <td>1.362005</td>\n",
              "      <td>103.853880</td>\n",
              "    </tr>\n",
              "    <tr>\n",
              "      <th>1</th>\n",
              "      <td>2017-01</td>\n",
              "      <td>ANG MO KIO</td>\n",
              "      <td>3 ROOM</td>\n",
              "      <td>108</td>\n",
              "      <td>ANG MO KIO AVE 4</td>\n",
              "      <td>01 TO 03</td>\n",
              "      <td>67.0</td>\n",
              "      <td>New Generation</td>\n",
              "      <td>1978</td>\n",
              "      <td>60 years 07 months</td>\n",
              "      <td>250000.0</td>\n",
              "      <td>108 ANG MO KIO AVE 4</td>\n",
              "      <td>0.0</td>\n",
              "      <td>108 ANG MO KIO AVENUE 4 THE ANIMAL DOCTORS SIN...</td>\n",
              "      <td>560108</td>\n",
              "      <td>28518.183285</td>\n",
              "      <td>39217.398915</td>\n",
              "      <td>1.370943</td>\n",
              "      <td>103.837975</td>\n",
              "    </tr>\n",
              "    <tr>\n",
              "      <th>2</th>\n",
              "      <td>2017-01</td>\n",
              "      <td>ANG MO KIO</td>\n",
              "      <td>3 ROOM</td>\n",
              "      <td>602</td>\n",
              "      <td>ANG MO KIO AVE 5</td>\n",
              "      <td>01 TO 03</td>\n",
              "      <td>67.0</td>\n",
              "      <td>New Generation</td>\n",
              "      <td>1980</td>\n",
              "      <td>62 years 05 months</td>\n",
              "      <td>262000.0</td>\n",
              "      <td>602 ANG MO KIO AVE 5</td>\n",
              "      <td>0.0</td>\n",
              "      <td>602 ANG MO KIO AVENUE 5 YIO CHU KANG GREEN SIN...</td>\n",
              "      <td>560602</td>\n",
              "      <td>28228.099954</td>\n",
              "      <td>40297.283149</td>\n",
              "      <td>1.380709</td>\n",
              "      <td>103.835368</td>\n",
              "    </tr>\n",
              "    <tr>\n",
              "      <th>3</th>\n",
              "      <td>2017-01</td>\n",
              "      <td>ANG MO KIO</td>\n",
              "      <td>3 ROOM</td>\n",
              "      <td>465</td>\n",
              "      <td>ANG MO KIO AVE 10</td>\n",
              "      <td>04 TO 06</td>\n",
              "      <td>68.0</td>\n",
              "      <td>New Generation</td>\n",
              "      <td>1980</td>\n",
              "      <td>62 years 01 month</td>\n",
              "      <td>265000.0</td>\n",
              "      <td>465 ANG MO KIO AVE 10</td>\n",
              "      <td>0.0</td>\n",
              "      <td>465 ANG MO KIO AVENUE 10 TECK GHEE HORIZON SIN...</td>\n",
              "      <td>560465</td>\n",
              "      <td>30657.824693</td>\n",
              "      <td>38693.098657</td>\n",
              "      <td>1.366201</td>\n",
              "      <td>103.857201</td>\n",
              "    </tr>\n",
              "    <tr>\n",
              "      <th>4</th>\n",
              "      <td>2017-01</td>\n",
              "      <td>ANG MO KIO</td>\n",
              "      <td>3 ROOM</td>\n",
              "      <td>601</td>\n",
              "      <td>ANG MO KIO AVE 5</td>\n",
              "      <td>01 TO 03</td>\n",
              "      <td>67.0</td>\n",
              "      <td>New Generation</td>\n",
              "      <td>1980</td>\n",
              "      <td>62 years 05 months</td>\n",
              "      <td>265000.0</td>\n",
              "      <td>601 ANG MO KIO AVE 5</td>\n",
              "      <td>0.0</td>\n",
              "      <td>601 ANG MO KIO AVENUE 5 MY FIRST SKOOL SINGAPO...</td>\n",
              "      <td>560601</td>\n",
              "      <td>28201.782487</td>\n",
              "      <td>40334.051212</td>\n",
              "      <td>1.381041</td>\n",
              "      <td>103.835132</td>\n",
              "    </tr>\n",
              "  </tbody>\n",
              "</table>\n",
              "</div>"
            ],
            "text/plain": [
              "     month        town flat_type  ...             Y  LATITUDE   LONGITUDE\n",
              "0  2017-01  ANG MO KIO    2 ROOM  ...  38229.067463  1.362005  103.853880\n",
              "1  2017-01  ANG MO KIO    3 ROOM  ...  39217.398915  1.370943  103.837975\n",
              "2  2017-01  ANG MO KIO    3 ROOM  ...  40297.283149  1.380709  103.835368\n",
              "3  2017-01  ANG MO KIO    3 ROOM  ...  38693.098657  1.366201  103.857201\n",
              "4  2017-01  ANG MO KIO    3 ROOM  ...  40334.051212  1.381041  103.835132\n",
              "\n",
              "[5 rows x 19 columns]"
            ]
          },
          "metadata": {},
          "execution_count": 27
        }
      ]
    },
    {
      "cell_type": "code",
      "metadata": {
        "id": "g_jnnRBRevOB",
        "colab": {
          "base_uri": "https://localhost:8080/",
          "height": 666
        },
        "outputId": "c1b74e62-bb9e-4480-81f9-9237ed3ff6d6"
      },
      "source": [
        "hdb = hdb.merge(df_distance_mrt, how='left', left_on='ADDRESS', right_on='ADDRESS')\n",
        "hdb.head()"
      ],
      "execution_count": 28,
      "outputs": [
        {
          "output_type": "execute_result",
          "data": {
            "text/html": [
              "<div>\n",
              "<style scoped>\n",
              "    .dataframe tbody tr th:only-of-type {\n",
              "        vertical-align: middle;\n",
              "    }\n",
              "\n",
              "    .dataframe tbody tr th {\n",
              "        vertical-align: top;\n",
              "    }\n",
              "\n",
              "    .dataframe thead th {\n",
              "        text-align: right;\n",
              "    }\n",
              "</style>\n",
              "<table border=\"1\" class=\"dataframe\">\n",
              "  <thead>\n",
              "    <tr style=\"text-align: right;\">\n",
              "      <th></th>\n",
              "      <th>month</th>\n",
              "      <th>town</th>\n",
              "      <th>flat_type</th>\n",
              "      <th>block</th>\n",
              "      <th>street_name</th>\n",
              "      <th>storey_range</th>\n",
              "      <th>floor_area_sqm</th>\n",
              "      <th>flat_model</th>\n",
              "      <th>lease_commence_date</th>\n",
              "      <th>remaining_lease</th>\n",
              "      <th>resale_price</th>\n",
              "      <th>address</th>\n",
              "      <th>INDICATOR</th>\n",
              "      <th>ADDRESS</th>\n",
              "      <th>POSTAL</th>\n",
              "      <th>X</th>\n",
              "      <th>Y</th>\n",
              "      <th>LATITUDE</th>\n",
              "      <th>LONGITUDE</th>\n",
              "      <th>MRT STATION</th>\n",
              "      <th>DISTANCE_MRT</th>\n",
              "    </tr>\n",
              "  </thead>\n",
              "  <tbody>\n",
              "    <tr>\n",
              "      <th>0</th>\n",
              "      <td>2017-01</td>\n",
              "      <td>ANG MO KIO</td>\n",
              "      <td>2 ROOM</td>\n",
              "      <td>406</td>\n",
              "      <td>ANG MO KIO AVE 10</td>\n",
              "      <td>10 TO 12</td>\n",
              "      <td>44.0</td>\n",
              "      <td>Improved</td>\n",
              "      <td>1979</td>\n",
              "      <td>61 years 04 months</td>\n",
              "      <td>232000.0</td>\n",
              "      <td>406 ANG MO KIO AVE 10</td>\n",
              "      <td>0.0</td>\n",
              "      <td>406 ANG MO KIO AVENUE 10 SINGAPORE 560406</td>\n",
              "      <td>560406</td>\n",
              "      <td>30288.234663</td>\n",
              "      <td>38229.067463</td>\n",
              "      <td>1.362005</td>\n",
              "      <td>103.853880</td>\n",
              "      <td>ANG MO KIO MRT STATION</td>\n",
              "      <td>1.0002190239027458 km</td>\n",
              "    </tr>\n",
              "    <tr>\n",
              "      <th>1</th>\n",
              "      <td>2017-01</td>\n",
              "      <td>ANG MO KIO</td>\n",
              "      <td>3 ROOM</td>\n",
              "      <td>108</td>\n",
              "      <td>ANG MO KIO AVE 4</td>\n",
              "      <td>01 TO 03</td>\n",
              "      <td>67.0</td>\n",
              "      <td>New Generation</td>\n",
              "      <td>1978</td>\n",
              "      <td>60 years 07 months</td>\n",
              "      <td>250000.0</td>\n",
              "      <td>108 ANG MO KIO AVE 4</td>\n",
              "      <td>0.0</td>\n",
              "      <td>108 ANG MO KIO AVENUE 4 THE ANIMAL DOCTORS SIN...</td>\n",
              "      <td>560108</td>\n",
              "      <td>28518.183285</td>\n",
              "      <td>39217.398915</td>\n",
              "      <td>1.370943</td>\n",
              "      <td>103.837975</td>\n",
              "      <td>ANG MO KIO MRT STATION</td>\n",
              "      <td>1.2933927826808795 km</td>\n",
              "    </tr>\n",
              "    <tr>\n",
              "      <th>2</th>\n",
              "      <td>2017-01</td>\n",
              "      <td>ANG MO KIO</td>\n",
              "      <td>3 ROOM</td>\n",
              "      <td>602</td>\n",
              "      <td>ANG MO KIO AVE 5</td>\n",
              "      <td>01 TO 03</td>\n",
              "      <td>67.0</td>\n",
              "      <td>New Generation</td>\n",
              "      <td>1980</td>\n",
              "      <td>62 years 05 months</td>\n",
              "      <td>262000.0</td>\n",
              "      <td>602 ANG MO KIO AVE 5</td>\n",
              "      <td>0.0</td>\n",
              "      <td>602 ANG MO KIO AVENUE 5 YIO CHU KANG GREEN SIN...</td>\n",
              "      <td>560602</td>\n",
              "      <td>28228.099954</td>\n",
              "      <td>40297.283149</td>\n",
              "      <td>1.380709</td>\n",
              "      <td>103.835368</td>\n",
              "      <td>YIO CHU KANG MRT STATION</td>\n",
              "      <td>1.0719242691470874 km</td>\n",
              "    </tr>\n",
              "    <tr>\n",
              "      <th>3</th>\n",
              "      <td>2017-01</td>\n",
              "      <td>ANG MO KIO</td>\n",
              "      <td>3 ROOM</td>\n",
              "      <td>465</td>\n",
              "      <td>ANG MO KIO AVE 10</td>\n",
              "      <td>04 TO 06</td>\n",
              "      <td>68.0</td>\n",
              "      <td>New Generation</td>\n",
              "      <td>1980</td>\n",
              "      <td>62 years 01 month</td>\n",
              "      <td>265000.0</td>\n",
              "      <td>465 ANG MO KIO AVE 10</td>\n",
              "      <td>0.0</td>\n",
              "      <td>465 ANG MO KIO AVENUE 10 TECK GHEE HORIZON SIN...</td>\n",
              "      <td>560465</td>\n",
              "      <td>30657.824693</td>\n",
              "      <td>38693.098657</td>\n",
              "      <td>1.366201</td>\n",
              "      <td>103.857201</td>\n",
              "      <td>ANG MO KIO MRT STATION</td>\n",
              "      <td>0.9458473209129798 km</td>\n",
              "    </tr>\n",
              "    <tr>\n",
              "      <th>4</th>\n",
              "      <td>2017-01</td>\n",
              "      <td>ANG MO KIO</td>\n",
              "      <td>3 ROOM</td>\n",
              "      <td>601</td>\n",
              "      <td>ANG MO KIO AVE 5</td>\n",
              "      <td>01 TO 03</td>\n",
              "      <td>67.0</td>\n",
              "      <td>New Generation</td>\n",
              "      <td>1980</td>\n",
              "      <td>62 years 05 months</td>\n",
              "      <td>265000.0</td>\n",
              "      <td>601 ANG MO KIO AVE 5</td>\n",
              "      <td>0.0</td>\n",
              "      <td>601 ANG MO KIO AVENUE 5 MY FIRST SKOOL SINGAPO...</td>\n",
              "      <td>560601</td>\n",
              "      <td>28201.782487</td>\n",
              "      <td>40334.051212</td>\n",
              "      <td>1.381041</td>\n",
              "      <td>103.835132</td>\n",
              "      <td>YIO CHU KANG MRT STATION</td>\n",
              "      <td>1.094824742018516 km</td>\n",
              "    </tr>\n",
              "  </tbody>\n",
              "</table>\n",
              "</div>"
            ],
            "text/plain": [
              "     month        town  ...               MRT STATION           DISTANCE_MRT\n",
              "0  2017-01  ANG MO KIO  ...    ANG MO KIO MRT STATION  1.0002190239027458 km\n",
              "1  2017-01  ANG MO KIO  ...    ANG MO KIO MRT STATION  1.2933927826808795 km\n",
              "2  2017-01  ANG MO KIO  ...  YIO CHU KANG MRT STATION  1.0719242691470874 km\n",
              "3  2017-01  ANG MO KIO  ...    ANG MO KIO MRT STATION  0.9458473209129798 km\n",
              "4  2017-01  ANG MO KIO  ...  YIO CHU KANG MRT STATION   1.094824742018516 km\n",
              "\n",
              "[5 rows x 21 columns]"
            ]
          },
          "metadata": {},
          "execution_count": 28
        }
      ]
    },
    {
      "cell_type": "code",
      "metadata": {
        "id": "ttZ_YMywevOC",
        "colab": {
          "base_uri": "https://localhost:8080/",
          "height": 204
        },
        "outputId": "6782f4fa-7422-4512-adc5-244578208558"
      },
      "source": [
        "hdb_final = hdb.drop(columns=['flat_model', 'lease_commence_date', 'remaining_lease', 'address', 'INDICATOR', 'POSTAL', 'X', 'Y', 'LATITUDE', 'LONGITUDE', 'MRT STATION'])\n",
        "hdb_final.head()"
      ],
      "execution_count": 30,
      "outputs": [
        {
          "output_type": "execute_result",
          "data": {
            "text/html": [
              "<div>\n",
              "<style scoped>\n",
              "    .dataframe tbody tr th:only-of-type {\n",
              "        vertical-align: middle;\n",
              "    }\n",
              "\n",
              "    .dataframe tbody tr th {\n",
              "        vertical-align: top;\n",
              "    }\n",
              "\n",
              "    .dataframe thead th {\n",
              "        text-align: right;\n",
              "    }\n",
              "</style>\n",
              "<table border=\"1\" class=\"dataframe\">\n",
              "  <thead>\n",
              "    <tr style=\"text-align: right;\">\n",
              "      <th></th>\n",
              "      <th>month</th>\n",
              "      <th>town</th>\n",
              "      <th>flat_type</th>\n",
              "      <th>block</th>\n",
              "      <th>street_name</th>\n",
              "      <th>storey_range</th>\n",
              "      <th>floor_area_sqm</th>\n",
              "      <th>resale_price</th>\n",
              "      <th>ADDRESS</th>\n",
              "      <th>DISTANCE_MRT</th>\n",
              "    </tr>\n",
              "  </thead>\n",
              "  <tbody>\n",
              "    <tr>\n",
              "      <th>0</th>\n",
              "      <td>2017-01</td>\n",
              "      <td>ANG MO KIO</td>\n",
              "      <td>2 ROOM</td>\n",
              "      <td>406</td>\n",
              "      <td>ANG MO KIO AVE 10</td>\n",
              "      <td>10 TO 12</td>\n",
              "      <td>44.0</td>\n",
              "      <td>232000.0</td>\n",
              "      <td>406 ANG MO KIO AVENUE 10 SINGAPORE 560406</td>\n",
              "      <td>1.0002190239027458 km</td>\n",
              "    </tr>\n",
              "    <tr>\n",
              "      <th>1</th>\n",
              "      <td>2017-01</td>\n",
              "      <td>ANG MO KIO</td>\n",
              "      <td>3 ROOM</td>\n",
              "      <td>108</td>\n",
              "      <td>ANG MO KIO AVE 4</td>\n",
              "      <td>01 TO 03</td>\n",
              "      <td>67.0</td>\n",
              "      <td>250000.0</td>\n",
              "      <td>108 ANG MO KIO AVENUE 4 THE ANIMAL DOCTORS SIN...</td>\n",
              "      <td>1.2933927826808795 km</td>\n",
              "    </tr>\n",
              "    <tr>\n",
              "      <th>2</th>\n",
              "      <td>2017-01</td>\n",
              "      <td>ANG MO KIO</td>\n",
              "      <td>3 ROOM</td>\n",
              "      <td>602</td>\n",
              "      <td>ANG MO KIO AVE 5</td>\n",
              "      <td>01 TO 03</td>\n",
              "      <td>67.0</td>\n",
              "      <td>262000.0</td>\n",
              "      <td>602 ANG MO KIO AVENUE 5 YIO CHU KANG GREEN SIN...</td>\n",
              "      <td>1.0719242691470874 km</td>\n",
              "    </tr>\n",
              "    <tr>\n",
              "      <th>3</th>\n",
              "      <td>2017-01</td>\n",
              "      <td>ANG MO KIO</td>\n",
              "      <td>3 ROOM</td>\n",
              "      <td>465</td>\n",
              "      <td>ANG MO KIO AVE 10</td>\n",
              "      <td>04 TO 06</td>\n",
              "      <td>68.0</td>\n",
              "      <td>265000.0</td>\n",
              "      <td>465 ANG MO KIO AVENUE 10 TECK GHEE HORIZON SIN...</td>\n",
              "      <td>0.9458473209129798 km</td>\n",
              "    </tr>\n",
              "    <tr>\n",
              "      <th>4</th>\n",
              "      <td>2017-01</td>\n",
              "      <td>ANG MO KIO</td>\n",
              "      <td>3 ROOM</td>\n",
              "      <td>601</td>\n",
              "      <td>ANG MO KIO AVE 5</td>\n",
              "      <td>01 TO 03</td>\n",
              "      <td>67.0</td>\n",
              "      <td>265000.0</td>\n",
              "      <td>601 ANG MO KIO AVENUE 5 MY FIRST SKOOL SINGAPO...</td>\n",
              "      <td>1.094824742018516 km</td>\n",
              "    </tr>\n",
              "  </tbody>\n",
              "</table>\n",
              "</div>"
            ],
            "text/plain": [
              "     month  ...           DISTANCE_MRT\n",
              "0  2017-01  ...  1.0002190239027458 km\n",
              "1  2017-01  ...  1.2933927826808795 km\n",
              "2  2017-01  ...  1.0719242691470874 km\n",
              "3  2017-01  ...  0.9458473209129798 km\n",
              "4  2017-01  ...   1.094824742018516 km\n",
              "\n",
              "[5 rows x 10 columns]"
            ]
          },
          "metadata": {},
          "execution_count": 30
        }
      ]
    },
    {
      "cell_type": "markdown",
      "metadata": {
        "id": "ldctv6UGwFA4"
      },
      "source": [
        "We will drop rows which addresses were not found from onemap.sg:"
      ]
    },
    {
      "cell_type": "code",
      "metadata": {
        "colab": {
          "base_uri": "https://localhost:8080/",
          "height": 419
        },
        "id": "WPxGjHpvFaXq",
        "outputId": "f679540e-589c-4360-dcec-2aacd9b555f1"
      },
      "source": [
        "hdb_final[hdb_final['ADDRESS'].isnull()]"
      ],
      "execution_count": 31,
      "outputs": [
        {
          "output_type": "execute_result",
          "data": {
            "text/html": [
              "<div>\n",
              "<style scoped>\n",
              "    .dataframe tbody tr th:only-of-type {\n",
              "        vertical-align: middle;\n",
              "    }\n",
              "\n",
              "    .dataframe tbody tr th {\n",
              "        vertical-align: top;\n",
              "    }\n",
              "\n",
              "    .dataframe thead th {\n",
              "        text-align: right;\n",
              "    }\n",
              "</style>\n",
              "<table border=\"1\" class=\"dataframe\">\n",
              "  <thead>\n",
              "    <tr style=\"text-align: right;\">\n",
              "      <th></th>\n",
              "      <th>month</th>\n",
              "      <th>town</th>\n",
              "      <th>flat_type</th>\n",
              "      <th>block</th>\n",
              "      <th>street_name</th>\n",
              "      <th>storey_range</th>\n",
              "      <th>floor_area_sqm</th>\n",
              "      <th>resale_price</th>\n",
              "      <th>ADDRESS</th>\n",
              "      <th>DISTANCE_MRT</th>\n",
              "    </tr>\n",
              "  </thead>\n",
              "  <tbody>\n",
              "    <tr>\n",
              "      <th>632</th>\n",
              "      <td>2017-01</td>\n",
              "      <td>KALLANG/WHAMPOA</td>\n",
              "      <td>3 ROOM</td>\n",
              "      <td>3</td>\n",
              "      <td>ST. GEORGE'S RD</td>\n",
              "      <td>13 TO 15</td>\n",
              "      <td>59.0</td>\n",
              "      <td>286000.0</td>\n",
              "      <td>NaN</td>\n",
              "      <td>NaN</td>\n",
              "    </tr>\n",
              "    <tr>\n",
              "      <th>634</th>\n",
              "      <td>2017-01</td>\n",
              "      <td>KALLANG/WHAMPOA</td>\n",
              "      <td>3 ROOM</td>\n",
              "      <td>3</td>\n",
              "      <td>ST. GEORGE'S RD</td>\n",
              "      <td>07 TO 09</td>\n",
              "      <td>59.0</td>\n",
              "      <td>320000.0</td>\n",
              "      <td>NaN</td>\n",
              "      <td>NaN</td>\n",
              "    </tr>\n",
              "    <tr>\n",
              "      <th>658</th>\n",
              "      <td>2017-01</td>\n",
              "      <td>KALLANG/WHAMPOA</td>\n",
              "      <td>5 ROOM</td>\n",
              "      <td>21</td>\n",
              "      <td>ST. GEORGE'S RD</td>\n",
              "      <td>07 TO 09</td>\n",
              "      <td>118.0</td>\n",
              "      <td>599000.0</td>\n",
              "      <td>NaN</td>\n",
              "      <td>NaN</td>\n",
              "    </tr>\n",
              "    <tr>\n",
              "      <th>1708</th>\n",
              "      <td>2017-02</td>\n",
              "      <td>KALLANG/WHAMPOA</td>\n",
              "      <td>3 ROOM</td>\n",
              "      <td>3</td>\n",
              "      <td>ST. GEORGE'S RD</td>\n",
              "      <td>10 TO 12</td>\n",
              "      <td>59.0</td>\n",
              "      <td>305000.0</td>\n",
              "      <td>NaN</td>\n",
              "      <td>NaN</td>\n",
              "    </tr>\n",
              "    <tr>\n",
              "      <th>1726</th>\n",
              "      <td>2017-02</td>\n",
              "      <td>KALLANG/WHAMPOA</td>\n",
              "      <td>4 ROOM</td>\n",
              "      <td>11</td>\n",
              "      <td>ST. GEORGE'S RD</td>\n",
              "      <td>07 TO 09</td>\n",
              "      <td>84.0</td>\n",
              "      <td>426800.0</td>\n",
              "      <td>NaN</td>\n",
              "      <td>NaN</td>\n",
              "    </tr>\n",
              "    <tr>\n",
              "      <th>...</th>\n",
              "      <td>...</td>\n",
              "      <td>...</td>\n",
              "      <td>...</td>\n",
              "      <td>...</td>\n",
              "      <td>...</td>\n",
              "      <td>...</td>\n",
              "      <td>...</td>\n",
              "      <td>...</td>\n",
              "      <td>...</td>\n",
              "      <td>...</td>\n",
              "    </tr>\n",
              "    <tr>\n",
              "      <th>104448</th>\n",
              "      <td>2021-08</td>\n",
              "      <td>KALLANG/WHAMPOA</td>\n",
              "      <td>3 ROOM</td>\n",
              "      <td>8</td>\n",
              "      <td>ST. GEORGE'S LANE</td>\n",
              "      <td>10 TO 12</td>\n",
              "      <td>68.0</td>\n",
              "      <td>380000.0</td>\n",
              "      <td>NaN</td>\n",
              "      <td>NaN</td>\n",
              "    </tr>\n",
              "    <tr>\n",
              "      <th>104449</th>\n",
              "      <td>2021-08</td>\n",
              "      <td>KALLANG/WHAMPOA</td>\n",
              "      <td>3 ROOM</td>\n",
              "      <td>3</td>\n",
              "      <td>ST. GEORGE'S RD</td>\n",
              "      <td>13 TO 15</td>\n",
              "      <td>59.0</td>\n",
              "      <td>310888.0</td>\n",
              "      <td>NaN</td>\n",
              "      <td>NaN</td>\n",
              "    </tr>\n",
              "    <tr>\n",
              "      <th>104450</th>\n",
              "      <td>2021-08</td>\n",
              "      <td>KALLANG/WHAMPOA</td>\n",
              "      <td>3 ROOM</td>\n",
              "      <td>3</td>\n",
              "      <td>ST. GEORGE'S RD</td>\n",
              "      <td>10 TO 12</td>\n",
              "      <td>70.0</td>\n",
              "      <td>360000.0</td>\n",
              "      <td>NaN</td>\n",
              "      <td>NaN</td>\n",
              "    </tr>\n",
              "    <tr>\n",
              "      <th>104461</th>\n",
              "      <td>2021-08</td>\n",
              "      <td>KALLANG/WHAMPOA</td>\n",
              "      <td>4 ROOM</td>\n",
              "      <td>4B</td>\n",
              "      <td>ST. GEORGE'S LANE</td>\n",
              "      <td>01 TO 03</td>\n",
              "      <td>105.0</td>\n",
              "      <td>570000.0</td>\n",
              "      <td>NaN</td>\n",
              "      <td>NaN</td>\n",
              "    </tr>\n",
              "    <tr>\n",
              "      <th>104462</th>\n",
              "      <td>2021-08</td>\n",
              "      <td>KALLANG/WHAMPOA</td>\n",
              "      <td>4 ROOM</td>\n",
              "      <td>9</td>\n",
              "      <td>ST. GEORGE'S RD</td>\n",
              "      <td>04 TO 06</td>\n",
              "      <td>84.0</td>\n",
              "      <td>425000.0</td>\n",
              "      <td>NaN</td>\n",
              "      <td>NaN</td>\n",
              "    </tr>\n",
              "  </tbody>\n",
              "</table>\n",
              "<p>232 rows × 10 columns</p>\n",
              "</div>"
            ],
            "text/plain": [
              "          month             town flat_type  ... resale_price ADDRESS DISTANCE_MRT\n",
              "632     2017-01  KALLANG/WHAMPOA    3 ROOM  ...     286000.0     NaN          NaN\n",
              "634     2017-01  KALLANG/WHAMPOA    3 ROOM  ...     320000.0     NaN          NaN\n",
              "658     2017-01  KALLANG/WHAMPOA    5 ROOM  ...     599000.0     NaN          NaN\n",
              "1708    2017-02  KALLANG/WHAMPOA    3 ROOM  ...     305000.0     NaN          NaN\n",
              "1726    2017-02  KALLANG/WHAMPOA    4 ROOM  ...     426800.0     NaN          NaN\n",
              "...         ...              ...       ...  ...          ...     ...          ...\n",
              "104448  2021-08  KALLANG/WHAMPOA    3 ROOM  ...     380000.0     NaN          NaN\n",
              "104449  2021-08  KALLANG/WHAMPOA    3 ROOM  ...     310888.0     NaN          NaN\n",
              "104450  2021-08  KALLANG/WHAMPOA    3 ROOM  ...     360000.0     NaN          NaN\n",
              "104461  2021-08  KALLANG/WHAMPOA    4 ROOM  ...     570000.0     NaN          NaN\n",
              "104462  2021-08  KALLANG/WHAMPOA    4 ROOM  ...     425000.0     NaN          NaN\n",
              "\n",
              "[232 rows x 10 columns]"
            ]
          },
          "metadata": {},
          "execution_count": 31
        }
      ]
    },
    {
      "cell_type": "code",
      "metadata": {
        "id": "FkWtHm5XevOG"
      },
      "source": [
        "hdb_final.dropna(axis=0, inplace=True)"
      ],
      "execution_count": 32,
      "outputs": []
    },
    {
      "cell_type": "code",
      "metadata": {
        "id": "6GgLX6byevOG",
        "colab": {
          "base_uri": "https://localhost:8080/",
          "height": 204
        },
        "outputId": "f9ce17ec-42a7-4eea-c244-92ed611c6a4d"
      },
      "source": [
        "hdb_final['DISTANCE_MRT'] = hdb_final['DISTANCE_MRT'].apply(lambda x: round(x.km, 3))\n",
        "hdb_final.head()"
      ],
      "execution_count": 33,
      "outputs": [
        {
          "output_type": "execute_result",
          "data": {
            "text/html": [
              "<div>\n",
              "<style scoped>\n",
              "    .dataframe tbody tr th:only-of-type {\n",
              "        vertical-align: middle;\n",
              "    }\n",
              "\n",
              "    .dataframe tbody tr th {\n",
              "        vertical-align: top;\n",
              "    }\n",
              "\n",
              "    .dataframe thead th {\n",
              "        text-align: right;\n",
              "    }\n",
              "</style>\n",
              "<table border=\"1\" class=\"dataframe\">\n",
              "  <thead>\n",
              "    <tr style=\"text-align: right;\">\n",
              "      <th></th>\n",
              "      <th>month</th>\n",
              "      <th>town</th>\n",
              "      <th>flat_type</th>\n",
              "      <th>block</th>\n",
              "      <th>street_name</th>\n",
              "      <th>storey_range</th>\n",
              "      <th>floor_area_sqm</th>\n",
              "      <th>resale_price</th>\n",
              "      <th>ADDRESS</th>\n",
              "      <th>DISTANCE_MRT</th>\n",
              "    </tr>\n",
              "  </thead>\n",
              "  <tbody>\n",
              "    <tr>\n",
              "      <th>0</th>\n",
              "      <td>2017-01</td>\n",
              "      <td>ANG MO KIO</td>\n",
              "      <td>2 ROOM</td>\n",
              "      <td>406</td>\n",
              "      <td>ANG MO KIO AVE 10</td>\n",
              "      <td>10 TO 12</td>\n",
              "      <td>44.0</td>\n",
              "      <td>232000.0</td>\n",
              "      <td>406 ANG MO KIO AVENUE 10 SINGAPORE 560406</td>\n",
              "      <td>1.000</td>\n",
              "    </tr>\n",
              "    <tr>\n",
              "      <th>1</th>\n",
              "      <td>2017-01</td>\n",
              "      <td>ANG MO KIO</td>\n",
              "      <td>3 ROOM</td>\n",
              "      <td>108</td>\n",
              "      <td>ANG MO KIO AVE 4</td>\n",
              "      <td>01 TO 03</td>\n",
              "      <td>67.0</td>\n",
              "      <td>250000.0</td>\n",
              "      <td>108 ANG MO KIO AVENUE 4 THE ANIMAL DOCTORS SIN...</td>\n",
              "      <td>1.293</td>\n",
              "    </tr>\n",
              "    <tr>\n",
              "      <th>2</th>\n",
              "      <td>2017-01</td>\n",
              "      <td>ANG MO KIO</td>\n",
              "      <td>3 ROOM</td>\n",
              "      <td>602</td>\n",
              "      <td>ANG MO KIO AVE 5</td>\n",
              "      <td>01 TO 03</td>\n",
              "      <td>67.0</td>\n",
              "      <td>262000.0</td>\n",
              "      <td>602 ANG MO KIO AVENUE 5 YIO CHU KANG GREEN SIN...</td>\n",
              "      <td>1.072</td>\n",
              "    </tr>\n",
              "    <tr>\n",
              "      <th>3</th>\n",
              "      <td>2017-01</td>\n",
              "      <td>ANG MO KIO</td>\n",
              "      <td>3 ROOM</td>\n",
              "      <td>465</td>\n",
              "      <td>ANG MO KIO AVE 10</td>\n",
              "      <td>04 TO 06</td>\n",
              "      <td>68.0</td>\n",
              "      <td>265000.0</td>\n",
              "      <td>465 ANG MO KIO AVENUE 10 TECK GHEE HORIZON SIN...</td>\n",
              "      <td>0.946</td>\n",
              "    </tr>\n",
              "    <tr>\n",
              "      <th>4</th>\n",
              "      <td>2017-01</td>\n",
              "      <td>ANG MO KIO</td>\n",
              "      <td>3 ROOM</td>\n",
              "      <td>601</td>\n",
              "      <td>ANG MO KIO AVE 5</td>\n",
              "      <td>01 TO 03</td>\n",
              "      <td>67.0</td>\n",
              "      <td>265000.0</td>\n",
              "      <td>601 ANG MO KIO AVENUE 5 MY FIRST SKOOL SINGAPO...</td>\n",
              "      <td>1.095</td>\n",
              "    </tr>\n",
              "  </tbody>\n",
              "</table>\n",
              "</div>"
            ],
            "text/plain": [
              "     month  ... DISTANCE_MRT\n",
              "0  2017-01  ...        1.000\n",
              "1  2017-01  ...        1.293\n",
              "2  2017-01  ...        1.072\n",
              "3  2017-01  ...        0.946\n",
              "4  2017-01  ...        1.095\n",
              "\n",
              "[5 rows x 10 columns]"
            ]
          },
          "metadata": {},
          "execution_count": 33
        }
      ]
    },
    {
      "cell_type": "markdown",
      "metadata": {
        "id": "qpMi3ERJevOH"
      },
      "source": [
        "The second self-derived feature is the distance from City Hall MRT (i.e., the city centre of Singapore) to each flat. The distance is calculated by using the find_nearest() function defined earlier:"
      ]
    },
    {
      "cell_type": "code",
      "metadata": {
        "id": "y2qRAt76evOH",
        "colab": {
          "base_uri": "https://localhost:8080/",
          "height": 80
        },
        "outputId": "6fd648e6-836c-43d1-9571-eb5135204dc1"
      },
      "source": [
        "citycentre_data = [['cityhall', 1.29317576, 103.8525073]]\n",
        "citycentre = pd.DataFrame(citycentre_data, columns=['address', 'LATITUDE', 'LONGITUDE'])\n",
        "citycentre"
      ],
      "execution_count": 34,
      "outputs": [
        {
          "output_type": "execute_result",
          "data": {
            "text/html": [
              "<div>\n",
              "<style scoped>\n",
              "    .dataframe tbody tr th:only-of-type {\n",
              "        vertical-align: middle;\n",
              "    }\n",
              "\n",
              "    .dataframe tbody tr th {\n",
              "        vertical-align: top;\n",
              "    }\n",
              "\n",
              "    .dataframe thead th {\n",
              "        text-align: right;\n",
              "    }\n",
              "</style>\n",
              "<table border=\"1\" class=\"dataframe\">\n",
              "  <thead>\n",
              "    <tr style=\"text-align: right;\">\n",
              "      <th></th>\n",
              "      <th>address</th>\n",
              "      <th>LATITUDE</th>\n",
              "      <th>LONGITUDE</th>\n",
              "    </tr>\n",
              "  </thead>\n",
              "  <tbody>\n",
              "    <tr>\n",
              "      <th>0</th>\n",
              "      <td>cityhall</td>\n",
              "      <td>1.293176</td>\n",
              "      <td>103.852507</td>\n",
              "    </tr>\n",
              "  </tbody>\n",
              "</table>\n",
              "</div>"
            ],
            "text/plain": [
              "    address  LATITUDE   LONGITUDE\n",
              "0  cityhall  1.293176  103.852507"
            ]
          },
          "metadata": {},
          "execution_count": 34
        }
      ]
    },
    {
      "cell_type": "code",
      "metadata": {
        "id": "wpMvLQP6evOH",
        "colab": {
          "base_uri": "https://localhost:8080/"
        },
        "outputId": "12d4c4e0-d2e4-4b3a-bd75-a75cb5c1f24d"
      },
      "source": [
        "distance_citycentre = find_nearest(geo_add_lat_long, citycentre)"
      ],
      "execution_count": 35,
      "outputs": [
        {
          "output_type": "stream",
          "text": [
            "100 - 276 TOH GUAN ROAD TOH GUAN VIEW SINGAPORE 600276 : ('cityhall', Distance(12.829979839698783))\n",
            "200 - 312A SUMANG LINK PUNGGOL PARCVISTA SINGAPORE 821312 : ('cityhall', Distance(14.056790767934414))\n",
            "300 - 188B RIVERVALE DRIVE RIVERVALE GATEWAY SINGAPORE 542188 : ('cityhall', Distance(12.663148990368592))\n",
            "400 - 9 SELEGIE ROAD SELEGIE HOUSE SINGAPORE 180009 : ('cityhall', Distance(1.1547537290068908))\n",
            "500 - 172 BEDOK SOUTH ROAD SIGLAP EAST SINGAPORE 460172 : ('cityhall', Distance(10.699986945955226))\n",
            "600 - 313 UBI AVENUE 1 KAMPONG UBI GREENVILLE SINGAPORE 400313 : ('cityhall', Distance(6.9610693556349545))\n",
            "700 - 555 CHOA CHU KANG NORTH 6 SINGAPORE 680555 : ('cityhall', Distance(16.633747560301558))\n",
            "800 - 2A GEYLANG SERAI SRI GEYLANG SERAI SINGAPORE 403002 : ('cityhall', Distance(5.682325198617987))\n",
            "900 - 401 TAMPINES STREET 41 SUN PLAZA GREEN SINGAPORE 520401 : ('cityhall', Distance(12.477032618266268))\n",
            "1000 - 130 BEDOK RESERVOIR ROAD EUNOS SPRING SINGAPORE 470130 : ('cityhall', Distance(8.009699891900524))\n",
            "1100 - 253 YISHUN RING ROAD YISHUN SUNSHINE SINGAPORE 760253 : ('cityhall', Distance(15.74451241648728))\n",
            "1200 - 315 SEMBAWANG VISTA SINGAPORE 750315 : ('cityhall', Distance(17.361107608920147))\n",
            "1300 - 128 BUKIT MERAH VIEW BUKIT MERAH VIEW SINGAPORE 150128 : ('cityhall', Distance(3.449894878302581))\n",
            "1400 - 96B HENDERSON ROAD CITY VUE @HENDERSON SINGAPORE 152096 : ('cityhall', Distance(3.5207951150283447))\n",
            "1500 - 119 PENDING ROAD SINGAPORE 670119 : ('cityhall', Distance(13.086170518301216))\n",
            "1600 - 436 CHOA CHU KANG AVENUE 4 SINGAPORE 680436 : ('cityhall', Distance(16.058764978090384))\n",
            "1700 - 224D COMPASSVALE WALK COMPASSVALE VISTA SINGAPORE 544224 : ('cityhall', Distance(11.721822853660152))\n",
            "1800 - 793 YISHUN RING ROAD KHATIB VALE SINGAPORE 760793 : ('cityhall', Distance(14.266164109568333))\n",
            "1900 - 609 BEDOK RESERVOIR ROAD EUNOS RAINBOW SINGAPORE 470609 : ('cityhall', Distance(7.9154266995899984))\n",
            "2000 - 312 WOODLANDS STREET 31 SINGAPORE 730312 : ('cityhall', Distance(17.44591683805128))\n",
            "2100 - 453D FERNVALE ROAD FERNVALE FLORA SINGAPORE 794453 : ('cityhall', Distance(11.371710525873787))\n",
            "2200 - 454 JURONG WEST STREET 42 SINGAPORE 640454 : ('cityhall', Distance(16.31574333955834))\n",
            "2300 - 251 KIM KEAT LINK SINGAPORE 310251 : ('cityhall', Distance(4.272467914006557))\n",
            "2400 - 513 BEDOK NORTH AVENUE 2 KAKI BUKIT GREEN SINGAPORE 460513 : ('cityhall', Distance(9.607824257905975))\n",
            "2500 - 136 BUKIT BATOK WEST AVENUE 6 SINGAPORE 650136 : ('cityhall', Distance(13.574601753320659))\n",
            "2600 - 192C RIVERVALE DRIVE RIVERVALE GATEWAY SINGAPORE 543192 : ('cityhall', Distance(12.54507511423361))\n",
            "2700 - 159 YUNG PING ROAD SINGAPORE 610159 : ('cityhall', Distance(15.02168921507091))\n",
            "2800 - 257 TAMPINES STREET 21 SINGAPORE 520257 : ('cityhall', Distance(12.745774632331125))\n",
            "2900 - 91 PAYA LEBAR WAY SINGAPORE 370091 : ('cityhall', Distance(5.01566871173973))\n",
            "3000 - 834 TAMPINES STREET 82 TAMPINES PALMWALK SINGAPORE 520834 : ('cityhall', Distance(11.209824953164159))\n",
            "3100 - 15 FARRER PARK ROAD FARRER PARK VIEW SINGAPORE 210015 : ('cityhall', Distance(1.977964881837976))\n",
            "3200 - 104 TECK WHYE LANE SINGAPORE 680104 : ('cityhall', Distance(14.458028814370973))\n",
            "3300 - 608 ELIAS ROAD SINGAPORE 510608 : ('cityhall', Distance(13.605609396173088))\n",
            "3400 - 302 JURONG EAST STREET 32 HONG KAH EAST GARDEN SINGAPORE 600302 : ('cityhall', Distance(14.315034943143576))\n",
            "3500 - 339 UBI AVENUE 1 KAMPONG UBI VIEW SINGAPORE 400339 : ('cityhall', Distance(6.625204645161336))\n",
            "3600 - 211A PUNGGOL WALK PUNGGOL RIPPLES SINGAPORE 821211 : ('cityhall', Distance(13.11603359040697))\n",
            "3700 - 420 TAMPINES STREET 41 SUN PLAZA GARDENS SINGAPORE 520420 : ('cityhall', Distance(12.767447090367813))\n",
            "3800 - 816A KEAT HONG LINK KEAT HONG MIRAGE SINGAPORE 681816 : ('cityhall', Distance(14.733690480362643))\n",
            "3900 - 251 YISHUN RING ROAD YISHUN SUNSHINE SINGAPORE 760251 : ('cityhall', Distance(15.703226277098352))\n",
            "4000 - 684B JURONG WEST STREET 64 SINGAPORE 642684 : ('cityhall', Distance(17.428242040454055))\n",
            "4100 - 635 PASIR RIS DRIVE 1 SINGAPORE 510635 : ('cityhall', Distance(13.500081409901505))\n",
            "4200 - 850 WOODLANDS STREET 82 SINGAPORE 730850 : ('cityhall', Distance(17.66965506199948))\n",
            "4300 - 658 YISHUN AVENUE 4 SUNNYTOTS SCHOOLHOUSE SINGAPORE 760658 : ('cityhall', Distance(14.306826128870432))\n",
            "4400 - 69 CIRCUIT ROAD SINGAPORE 370069 : ('cityhall', Distance(5.247275331318496))\n",
            "4500 - 474 ANG MO KIO AVENUE 10 TECK GHEE HORIZON SINGAPORE 560474 : ('cityhall', Distance(7.718410224687305))\n",
            "4600 - 18 CANTONMENT CLOSE CANTONMENT TOWERS SINGAPORE 080018 : ('cityhall', Distance(2.5815763566903396))\n",
            "4700 - 601 JURONG WEST STREET 62 SINGAPORE 640601 : ('cityhall', Distance(17.719187250889103))\n",
            "4800 - 687B WOODLANDS DRIVE 75 SINGAPORE 732687 : ('cityhall', Distance(17.20048129203525))\n",
            "4900 - 55 TEBAN GARDENS ROAD TEBAN VIEW SINGAPORE 600055 : ('cityhall', Distance(13.181659740278253))\n",
            "5000 - 257 JURONG EAST STREET 24 SINGAPORE 600257 : ('cityhall', Distance(13.886865190921919))\n",
            "5100 - 124 BEDOK NORTH ROAD SINGAPORE 460124 : ('cityhall', Distance(10.424731595318786))\n",
            "5200 - 106 RIVERVALE WALK RIVERVALE COURT SINGAPORE 540106 : ('cityhall', Distance(11.21894155874248))\n",
            "5300 - 806 TAMPINES AVENUE 4 TAMPINES POLYVIEW SINGAPORE 520806 : ('cityhall', Distance(11.031158229868598))\n",
            "5400 - 304 BUKIT BATOK STREET 31 HONG KAH GREEN SINGAPORE 650304 : ('cityhall', Distance(13.636291893339553))\n",
            "5500 - 703 WEST COAST ROAD SINGAPORE 120703 : ('cityhall', Distance(10.334286836527436))\n",
            "5600 - 307 CLEMENTI AVENUE 4 CLEMENTI MEADOWS SINGAPORE 120307 : ('cityhall', Distance(10.004253519236894))\n",
            "5700 - 35 TELOK BLANGAH RISE SINGAPORE 090035 : ('cityhall', Distance(4.049778374571441))\n",
            "5800 - 163 JALAN TECK WHYE SINGAPORE 680163 : ('cityhall', Distance(14.396666783876372))\n",
            "5900 - 902 TAMPINES AVENUE 4 TAMPINES PALMSVILLE SINGAPORE 520902 : ('cityhall', Distance(11.591104210172068))\n",
            "6000 - 536 UPPER CROSS STREET SINGAPORE 050536 : ('cityhall', Distance(1.1885062584892512))\n",
            "6100 - 549 WOODLANDS DRIVE 44 SINGAPORE 730549 : ('cityhall', Distance(16.631483354535852))\n",
            "6200 - 467 PASIR RIS DRIVE 6 SINGAPORE 510467 : ('cityhall', Distance(14.61070200138634))\n",
            "6300 - 738 TAMPINES STREET 72 TAMPINES GREEN VALE SINGAPORE 520738 : ('cityhall', Distance(11.600669440522251))\n",
            "6400 - 791 YISHUN AVENUE 2 KHATIB VALE SINGAPORE 760791 : ('cityhall', Distance(14.237985055180644))\n",
            "6500 - 34 CHAI CHEE AVENUE ANSAR GARDEN SINGAPORE 461034 : ('cityhall', Distance(8.909662778503955))\n",
            "6600 - 3 HAIG ROAD HAIG VIEW SINGAPORE 430003 : ('cityhall', Distance(5.397727582718394))\n",
            "6700 - 356 YISHUN RING ROAD : ('cityhall', Distance(14.629744580179104))\n",
            "6800 - 441B CLEMENTI AVENUE 3 CLEMENTI TOWERS SINGAPORE 122441 : ('cityhall', Distance(10.113117481710683))\n",
            "6900 - 986B JURONG WEST STREET 93 SINGAPORE 642986 : ('cityhall', Distance(18.134945779754844))\n",
            "7000 - 118 BISHAN STREET 12 SINGAPORE 570118 : ('cityhall', Distance(5.914826029864445))\n",
            "7100 - 563 HOUGANG STREET 51 SINGAPORE 530563 : ('cityhall', Distance(10.40256311062467))\n",
            "7200 - 973 HOUGANG STREET 91 SINGAPORE 530973 : ('cityhall', Distance(9.835789877561771))\n",
            "7300 - 220 YISHUN STREET 21 YISHUN GARDENS SINGAPORE 760220 : ('cityhall', Distance(15.647635117052797))\n",
            "7400 - 778 WOODLANDS DRIVE 60 SINGAPORE 730778 : ('cityhall', Distance(18.022523104960573))\n",
            "7500 - 937 TAMPINES AVENUE 5 TAMPINES PALMSPRING SINGAPORE 520937 : ('cityhall', Distance(11.581467149305977))\n",
            "7600 - 415 SAUJANA ROAD SINGAPORE 670415 : ('cityhall', Distance(13.636359556254924))\n",
            "7700 - 531 BUKIT BATOK STREET 51 SINGAPORE 650531 : ('cityhall', Distance(13.334468260212144))\n",
            "7800 - 195 PASIR RIS STREET 12 SINGAPORE 510195 : ('cityhall', Distance(14.449423379860203))\n",
            "7900 - 5 HAIG ROAD HAIG VIEW SINGAPORE 430005 : ('cityhall', Distance(5.35520460464663))\n",
            "8000 - 501A YISHUN STREET 51 PALM BREEZE @ YISHUN SINGAPORE 761501 : ('cityhall', Distance(13.711664973032137))\n",
            "8100 - 6 EVERTON PARK EVERTON PARK SINGAPORE 080006 : ('cityhall', Distance(2.3791591041456015))\n",
            "8200 - 269A PUNGGOL FIELD PUNGGOL SAPPHIRE SINGAPORE 821269 : ('cityhall', Distance(13.214239089826364))\n",
            "8300 - 611 BEDOK RESERVOIR ROAD EUNOS GROVE SINGAPORE 470611 : ('cityhall', Distance(8.13224772484932))\n",
            "8400 - 544 JELAPANG ROAD PANSHAN GROVE SINGAPORE 670544 : ('cityhall', Distance(13.91332020629068))\n",
            "8500 - 723 JURONG WEST AVENUE 5 NANYANG SAPPHIRE SINGAPORE 640723 : ('cityhall', Distance(18.088883639063873))\n",
            "8600 - 506 WEST COAST DRIVE WEST COAST VISTA SINGAPORE 120506 : ('cityhall', Distance(10.420513688768681))\n",
            "8700 - 842 SIMS AVENUE SINGAPORE 400842 : ('cityhall', Distance(6.112994249281451))\n",
            "8800 - 478 SEMBAWANG DRIVE SINGAPORE 750478 : ('cityhall', Distance(18.062380281968505))\n",
            "8900 - 330 TAH CHING ROAD SINGAPORE 610330 : ('cityhall', Distance(15.107846510740739))\n",
            "9000 - 121B RIVERVALE DRIVE RIVERVALE BANK SINGAPORE 542121 : ('cityhall', Distance(11.834934160263069))\n"
          ],
          "name": "stdout"
        }
      ]
    },
    {
      "cell_type": "code",
      "metadata": {
        "id": "boLpxXk2evOI",
        "colab": {
          "base_uri": "https://localhost:8080/",
          "height": 419
        },
        "outputId": "2e42c31f-3bd8-4faf-df16-cd093257ded7"
      },
      "source": [
        "df_distance_citycentre = pd.DataFrame(distance_citycentre).T.reset_index()\n",
        "df_distance_citycentre"
      ],
      "execution_count": 36,
      "outputs": [
        {
          "output_type": "execute_result",
          "data": {
            "text/html": [
              "<div>\n",
              "<style scoped>\n",
              "    .dataframe tbody tr th:only-of-type {\n",
              "        vertical-align: middle;\n",
              "    }\n",
              "\n",
              "    .dataframe tbody tr th {\n",
              "        vertical-align: top;\n",
              "    }\n",
              "\n",
              "    .dataframe thead th {\n",
              "        text-align: right;\n",
              "    }\n",
              "</style>\n",
              "<table border=\"1\" class=\"dataframe\">\n",
              "  <thead>\n",
              "    <tr style=\"text-align: right;\">\n",
              "      <th></th>\n",
              "      <th>index</th>\n",
              "      <th>0</th>\n",
              "      <th>1</th>\n",
              "    </tr>\n",
              "  </thead>\n",
              "  <tbody>\n",
              "    <tr>\n",
              "      <th>0</th>\n",
              "      <td>304 HOUGANG AVENUE 5 SINGAPORE 530304</td>\n",
              "      <td>cityhall</td>\n",
              "      <td>9.537072379706004 km</td>\n",
              "    </tr>\n",
              "    <tr>\n",
              "      <th>1</th>\n",
              "      <td>260C SENGKANG EAST WAY COMPASSVALE NORTH GATE ...</td>\n",
              "      <td>cityhall</td>\n",
              "      <td>12.143002231164408 km</td>\n",
              "    </tr>\n",
              "    <tr>\n",
              "      <th>2</th>\n",
              "      <td>108C MCNAIR ROAD TOWNER HEIGHTS SINGAPORE 324108</td>\n",
              "      <td>cityhall</td>\n",
              "      <td>3.0487544526248307 km</td>\n",
              "    </tr>\n",
              "    <tr>\n",
              "      <th>3</th>\n",
              "      <td>298 BUKIT BATOK STREET 22 SINGAPORE 650298</td>\n",
              "      <td>cityhall</td>\n",
              "      <td>13.041743011052523 km</td>\n",
              "    </tr>\n",
              "    <tr>\n",
              "      <th>4</th>\n",
              "      <td>868A TAMPINES AVENUE 8 TAMPINES GREENWOOD SING...</td>\n",
              "      <td>cityhall</td>\n",
              "      <td>11.258413537442541 km</td>\n",
              "    </tr>\n",
              "    <tr>\n",
              "      <th>...</th>\n",
              "      <td>...</td>\n",
              "      <td>...</td>\n",
              "      <td>...</td>\n",
              "    </tr>\n",
              "    <tr>\n",
              "      <th>9072</th>\n",
              "      <td>201D TAMPINES STREET 21 SINGAPORE 524201</td>\n",
              "      <td>cityhall</td>\n",
              "      <td>13.008798420574983 km</td>\n",
              "    </tr>\n",
              "    <tr>\n",
              "      <th>9073</th>\n",
              "      <td>312 TAMPINES STREET 33 SINGAPORE 520312</td>\n",
              "      <td>cityhall</td>\n",
              "      <td>13.380322858823316 km</td>\n",
              "    </tr>\n",
              "    <tr>\n",
              "      <th>9074</th>\n",
              "      <td>474 SEGAR ROAD SEGAR GARDENS SINGAPORE 670474</td>\n",
              "      <td>cityhall</td>\n",
              "      <td>13.817215884154134 km</td>\n",
              "    </tr>\n",
              "    <tr>\n",
              "      <th>9075</th>\n",
              "      <td>402 WOODLANDS STREET 41 SINGAPORE 730402</td>\n",
              "      <td>cityhall</td>\n",
              "      <td>17.670000853933246 km</td>\n",
              "    </tr>\n",
              "    <tr>\n",
              "      <th>9076</th>\n",
              "      <td>475 SEMBAWANG DRIVE SINGAPORE 750475</td>\n",
              "      <td>cityhall</td>\n",
              "      <td>17.880103653167556 km</td>\n",
              "    </tr>\n",
              "  </tbody>\n",
              "</table>\n",
              "<p>9077 rows × 3 columns</p>\n",
              "</div>"
            ],
            "text/plain": [
              "                                                  index  ...                      1\n",
              "0                 304 HOUGANG AVENUE 5 SINGAPORE 530304  ...   9.537072379706004 km\n",
              "1     260C SENGKANG EAST WAY COMPASSVALE NORTH GATE ...  ...  12.143002231164408 km\n",
              "2      108C MCNAIR ROAD TOWNER HEIGHTS SINGAPORE 324108  ...  3.0487544526248307 km\n",
              "3            298 BUKIT BATOK STREET 22 SINGAPORE 650298  ...  13.041743011052523 km\n",
              "4     868A TAMPINES AVENUE 8 TAMPINES GREENWOOD SING...  ...  11.258413537442541 km\n",
              "...                                                 ...  ...                    ...\n",
              "9072           201D TAMPINES STREET 21 SINGAPORE 524201  ...  13.008798420574983 km\n",
              "9073            312 TAMPINES STREET 33 SINGAPORE 520312  ...  13.380322858823316 km\n",
              "9074      474 SEGAR ROAD SEGAR GARDENS SINGAPORE 670474  ...  13.817215884154134 km\n",
              "9075           402 WOODLANDS STREET 41 SINGAPORE 730402  ...  17.670000853933246 km\n",
              "9076               475 SEMBAWANG DRIVE SINGAPORE 750475  ...  17.880103653167556 km\n",
              "\n",
              "[9077 rows x 3 columns]"
            ]
          },
          "metadata": {},
          "execution_count": 36
        }
      ]
    },
    {
      "cell_type": "code",
      "metadata": {
        "id": "-dz_kRD1evOI",
        "colab": {
          "base_uri": "https://localhost:8080/",
          "height": 419
        },
        "outputId": "6a36cb58-bc9b-41da-a78b-3c4e9dd4266b"
      },
      "source": [
        "df_distance_citycentre = df_distance_citycentre.rename(columns={'index':'ADDRESS', 0: 'LOCATION', 1: 'DISTANCE_CITYCENTRE'})\n",
        "df_distance_citycentre"
      ],
      "execution_count": 37,
      "outputs": [
        {
          "output_type": "execute_result",
          "data": {
            "text/html": [
              "<div>\n",
              "<style scoped>\n",
              "    .dataframe tbody tr th:only-of-type {\n",
              "        vertical-align: middle;\n",
              "    }\n",
              "\n",
              "    .dataframe tbody tr th {\n",
              "        vertical-align: top;\n",
              "    }\n",
              "\n",
              "    .dataframe thead th {\n",
              "        text-align: right;\n",
              "    }\n",
              "</style>\n",
              "<table border=\"1\" class=\"dataframe\">\n",
              "  <thead>\n",
              "    <tr style=\"text-align: right;\">\n",
              "      <th></th>\n",
              "      <th>ADDRESS</th>\n",
              "      <th>LOCATION</th>\n",
              "      <th>DISTANCE_CITYCENTRE</th>\n",
              "    </tr>\n",
              "  </thead>\n",
              "  <tbody>\n",
              "    <tr>\n",
              "      <th>0</th>\n",
              "      <td>304 HOUGANG AVENUE 5 SINGAPORE 530304</td>\n",
              "      <td>cityhall</td>\n",
              "      <td>9.537072379706004 km</td>\n",
              "    </tr>\n",
              "    <tr>\n",
              "      <th>1</th>\n",
              "      <td>260C SENGKANG EAST WAY COMPASSVALE NORTH GATE ...</td>\n",
              "      <td>cityhall</td>\n",
              "      <td>12.143002231164408 km</td>\n",
              "    </tr>\n",
              "    <tr>\n",
              "      <th>2</th>\n",
              "      <td>108C MCNAIR ROAD TOWNER HEIGHTS SINGAPORE 324108</td>\n",
              "      <td>cityhall</td>\n",
              "      <td>3.0487544526248307 km</td>\n",
              "    </tr>\n",
              "    <tr>\n",
              "      <th>3</th>\n",
              "      <td>298 BUKIT BATOK STREET 22 SINGAPORE 650298</td>\n",
              "      <td>cityhall</td>\n",
              "      <td>13.041743011052523 km</td>\n",
              "    </tr>\n",
              "    <tr>\n",
              "      <th>4</th>\n",
              "      <td>868A TAMPINES AVENUE 8 TAMPINES GREENWOOD SING...</td>\n",
              "      <td>cityhall</td>\n",
              "      <td>11.258413537442541 km</td>\n",
              "    </tr>\n",
              "    <tr>\n",
              "      <th>...</th>\n",
              "      <td>...</td>\n",
              "      <td>...</td>\n",
              "      <td>...</td>\n",
              "    </tr>\n",
              "    <tr>\n",
              "      <th>9072</th>\n",
              "      <td>201D TAMPINES STREET 21 SINGAPORE 524201</td>\n",
              "      <td>cityhall</td>\n",
              "      <td>13.008798420574983 km</td>\n",
              "    </tr>\n",
              "    <tr>\n",
              "      <th>9073</th>\n",
              "      <td>312 TAMPINES STREET 33 SINGAPORE 520312</td>\n",
              "      <td>cityhall</td>\n",
              "      <td>13.380322858823316 km</td>\n",
              "    </tr>\n",
              "    <tr>\n",
              "      <th>9074</th>\n",
              "      <td>474 SEGAR ROAD SEGAR GARDENS SINGAPORE 670474</td>\n",
              "      <td>cityhall</td>\n",
              "      <td>13.817215884154134 km</td>\n",
              "    </tr>\n",
              "    <tr>\n",
              "      <th>9075</th>\n",
              "      <td>402 WOODLANDS STREET 41 SINGAPORE 730402</td>\n",
              "      <td>cityhall</td>\n",
              "      <td>17.670000853933246 km</td>\n",
              "    </tr>\n",
              "    <tr>\n",
              "      <th>9076</th>\n",
              "      <td>475 SEMBAWANG DRIVE SINGAPORE 750475</td>\n",
              "      <td>cityhall</td>\n",
              "      <td>17.880103653167556 km</td>\n",
              "    </tr>\n",
              "  </tbody>\n",
              "</table>\n",
              "<p>9077 rows × 3 columns</p>\n",
              "</div>"
            ],
            "text/plain": [
              "                                                ADDRESS  ...    DISTANCE_CITYCENTRE\n",
              "0                 304 HOUGANG AVENUE 5 SINGAPORE 530304  ...   9.537072379706004 km\n",
              "1     260C SENGKANG EAST WAY COMPASSVALE NORTH GATE ...  ...  12.143002231164408 km\n",
              "2      108C MCNAIR ROAD TOWNER HEIGHTS SINGAPORE 324108  ...  3.0487544526248307 km\n",
              "3            298 BUKIT BATOK STREET 22 SINGAPORE 650298  ...  13.041743011052523 km\n",
              "4     868A TAMPINES AVENUE 8 TAMPINES GREENWOOD SING...  ...  11.258413537442541 km\n",
              "...                                                 ...  ...                    ...\n",
              "9072           201D TAMPINES STREET 21 SINGAPORE 524201  ...  13.008798420574983 km\n",
              "9073            312 TAMPINES STREET 33 SINGAPORE 520312  ...  13.380322858823316 km\n",
              "9074      474 SEGAR ROAD SEGAR GARDENS SINGAPORE 670474  ...  13.817215884154134 km\n",
              "9075           402 WOODLANDS STREET 41 SINGAPORE 730402  ...  17.670000853933246 km\n",
              "9076               475 SEMBAWANG DRIVE SINGAPORE 750475  ...  17.880103653167556 km\n",
              "\n",
              "[9077 rows x 3 columns]"
            ]
          },
          "metadata": {},
          "execution_count": 37
        }
      ]
    },
    {
      "cell_type": "code",
      "metadata": {
        "id": "hBjMw4XYevOI"
      },
      "source": [
        "df_distance_citycentre.to_csv(filepath + 'distance_citycentre.csv', index=False)"
      ],
      "execution_count": 38,
      "outputs": []
    },
    {
      "cell_type": "markdown",
      "metadata": {
        "id": "1fJC2iiAJKl5"
      },
      "source": [
        "Similarly, we will merge the result DataFrame to the original DataFrame:"
      ]
    },
    {
      "cell_type": "code",
      "metadata": {
        "id": "Oo9Z4dAGevOJ",
        "colab": {
          "base_uri": "https://localhost:8080/",
          "height": 204
        },
        "outputId": "c17168d1-3845-4351-83ef-a9cfd2e10a65"
      },
      "source": [
        "hdb_final = hdb_final.merge(df_distance_citycentre, how='left', left_on='ADDRESS', right_on='ADDRESS')\n",
        "hdb_final.head()"
      ],
      "execution_count": 39,
      "outputs": [
        {
          "output_type": "execute_result",
          "data": {
            "text/html": [
              "<div>\n",
              "<style scoped>\n",
              "    .dataframe tbody tr th:only-of-type {\n",
              "        vertical-align: middle;\n",
              "    }\n",
              "\n",
              "    .dataframe tbody tr th {\n",
              "        vertical-align: top;\n",
              "    }\n",
              "\n",
              "    .dataframe thead th {\n",
              "        text-align: right;\n",
              "    }\n",
              "</style>\n",
              "<table border=\"1\" class=\"dataframe\">\n",
              "  <thead>\n",
              "    <tr style=\"text-align: right;\">\n",
              "      <th></th>\n",
              "      <th>month</th>\n",
              "      <th>town</th>\n",
              "      <th>flat_type</th>\n",
              "      <th>block</th>\n",
              "      <th>street_name</th>\n",
              "      <th>storey_range</th>\n",
              "      <th>floor_area_sqm</th>\n",
              "      <th>resale_price</th>\n",
              "      <th>ADDRESS</th>\n",
              "      <th>DISTANCE_MRT</th>\n",
              "      <th>LOCATION</th>\n",
              "      <th>DISTANCE_CITYCENTRE</th>\n",
              "    </tr>\n",
              "  </thead>\n",
              "  <tbody>\n",
              "    <tr>\n",
              "      <th>0</th>\n",
              "      <td>2017-01</td>\n",
              "      <td>ANG MO KIO</td>\n",
              "      <td>2 ROOM</td>\n",
              "      <td>406</td>\n",
              "      <td>ANG MO KIO AVE 10</td>\n",
              "      <td>10 TO 12</td>\n",
              "      <td>44.0</td>\n",
              "      <td>232000.0</td>\n",
              "      <td>406 ANG MO KIO AVENUE 10 SINGAPORE 560406</td>\n",
              "      <td>1.000</td>\n",
              "      <td>cityhall</td>\n",
              "      <td>7.612266338225603 km</td>\n",
              "    </tr>\n",
              "    <tr>\n",
              "      <th>1</th>\n",
              "      <td>2017-01</td>\n",
              "      <td>ANG MO KIO</td>\n",
              "      <td>3 ROOM</td>\n",
              "      <td>108</td>\n",
              "      <td>ANG MO KIO AVE 4</td>\n",
              "      <td>01 TO 03</td>\n",
              "      <td>67.0</td>\n",
              "      <td>250000.0</td>\n",
              "      <td>108 ANG MO KIO AVENUE 4 THE ANIMAL DOCTORS SIN...</td>\n",
              "      <td>1.293</td>\n",
              "      <td>cityhall</td>\n",
              "      <td>8.749844563771587 km</td>\n",
              "    </tr>\n",
              "    <tr>\n",
              "      <th>2</th>\n",
              "      <td>2017-01</td>\n",
              "      <td>ANG MO KIO</td>\n",
              "      <td>3 ROOM</td>\n",
              "      <td>602</td>\n",
              "      <td>ANG MO KIO AVE 5</td>\n",
              "      <td>01 TO 03</td>\n",
              "      <td>67.0</td>\n",
              "      <td>262000.0</td>\n",
              "      <td>602 ANG MO KIO AVENUE 5 YIO CHU KANG GREEN SIN...</td>\n",
              "      <td>1.072</td>\n",
              "      <td>cityhall</td>\n",
              "      <td>9.865110551058121 km</td>\n",
              "    </tr>\n",
              "    <tr>\n",
              "      <th>3</th>\n",
              "      <td>2017-01</td>\n",
              "      <td>ANG MO KIO</td>\n",
              "      <td>3 ROOM</td>\n",
              "      <td>465</td>\n",
              "      <td>ANG MO KIO AVE 10</td>\n",
              "      <td>04 TO 06</td>\n",
              "      <td>68.0</td>\n",
              "      <td>265000.0</td>\n",
              "      <td>465 ANG MO KIO AVENUE 10 TECK GHEE HORIZON SIN...</td>\n",
              "      <td>0.946</td>\n",
              "      <td>cityhall</td>\n",
              "      <td>8.091639228670868 km</td>\n",
              "    </tr>\n",
              "    <tr>\n",
              "      <th>4</th>\n",
              "      <td>2017-01</td>\n",
              "      <td>ANG MO KIO</td>\n",
              "      <td>3 ROOM</td>\n",
              "      <td>601</td>\n",
              "      <td>ANG MO KIO AVE 5</td>\n",
              "      <td>01 TO 03</td>\n",
              "      <td>67.0</td>\n",
              "      <td>265000.0</td>\n",
              "      <td>601 ANG MO KIO AVENUE 5 MY FIRST SKOOL SINGAPO...</td>\n",
              "      <td>1.095</td>\n",
              "      <td>cityhall</td>\n",
              "      <td>9.906290988634552 km</td>\n",
              "    </tr>\n",
              "  </tbody>\n",
              "</table>\n",
              "</div>"
            ],
            "text/plain": [
              "     month        town flat_type  ... DISTANCE_MRT  LOCATION   DISTANCE_CITYCENTRE\n",
              "0  2017-01  ANG MO KIO    2 ROOM  ...        1.000  cityhall  7.612266338225603 km\n",
              "1  2017-01  ANG MO KIO    3 ROOM  ...        1.293  cityhall  8.749844563771587 km\n",
              "2  2017-01  ANG MO KIO    3 ROOM  ...        1.072  cityhall  9.865110551058121 km\n",
              "3  2017-01  ANG MO KIO    3 ROOM  ...        0.946  cityhall  8.091639228670868 km\n",
              "4  2017-01  ANG MO KIO    3 ROOM  ...        1.095  cityhall  9.906290988634552 km\n",
              "\n",
              "[5 rows x 12 columns]"
            ]
          },
          "metadata": {},
          "execution_count": 39
        }
      ]
    },
    {
      "cell_type": "code",
      "metadata": {
        "id": "WCqk-r5eevOJ",
        "colab": {
          "base_uri": "https://localhost:8080/",
          "height": 204
        },
        "outputId": "0ce975c3-f1e8-4c69-ebd2-135c781ae52d"
      },
      "source": [
        "hdb_final.drop(columns=['LOCATION'], inplace=True)\n",
        "hdb_final.head()"
      ],
      "execution_count": 40,
      "outputs": [
        {
          "output_type": "execute_result",
          "data": {
            "text/html": [
              "<div>\n",
              "<style scoped>\n",
              "    .dataframe tbody tr th:only-of-type {\n",
              "        vertical-align: middle;\n",
              "    }\n",
              "\n",
              "    .dataframe tbody tr th {\n",
              "        vertical-align: top;\n",
              "    }\n",
              "\n",
              "    .dataframe thead th {\n",
              "        text-align: right;\n",
              "    }\n",
              "</style>\n",
              "<table border=\"1\" class=\"dataframe\">\n",
              "  <thead>\n",
              "    <tr style=\"text-align: right;\">\n",
              "      <th></th>\n",
              "      <th>month</th>\n",
              "      <th>town</th>\n",
              "      <th>flat_type</th>\n",
              "      <th>block</th>\n",
              "      <th>street_name</th>\n",
              "      <th>storey_range</th>\n",
              "      <th>floor_area_sqm</th>\n",
              "      <th>resale_price</th>\n",
              "      <th>ADDRESS</th>\n",
              "      <th>DISTANCE_MRT</th>\n",
              "      <th>DISTANCE_CITYCENTRE</th>\n",
              "    </tr>\n",
              "  </thead>\n",
              "  <tbody>\n",
              "    <tr>\n",
              "      <th>0</th>\n",
              "      <td>2017-01</td>\n",
              "      <td>ANG MO KIO</td>\n",
              "      <td>2 ROOM</td>\n",
              "      <td>406</td>\n",
              "      <td>ANG MO KIO AVE 10</td>\n",
              "      <td>10 TO 12</td>\n",
              "      <td>44.0</td>\n",
              "      <td>232000.0</td>\n",
              "      <td>406 ANG MO KIO AVENUE 10 SINGAPORE 560406</td>\n",
              "      <td>1.000</td>\n",
              "      <td>7.612266338225603 km</td>\n",
              "    </tr>\n",
              "    <tr>\n",
              "      <th>1</th>\n",
              "      <td>2017-01</td>\n",
              "      <td>ANG MO KIO</td>\n",
              "      <td>3 ROOM</td>\n",
              "      <td>108</td>\n",
              "      <td>ANG MO KIO AVE 4</td>\n",
              "      <td>01 TO 03</td>\n",
              "      <td>67.0</td>\n",
              "      <td>250000.0</td>\n",
              "      <td>108 ANG MO KIO AVENUE 4 THE ANIMAL DOCTORS SIN...</td>\n",
              "      <td>1.293</td>\n",
              "      <td>8.749844563771587 km</td>\n",
              "    </tr>\n",
              "    <tr>\n",
              "      <th>2</th>\n",
              "      <td>2017-01</td>\n",
              "      <td>ANG MO KIO</td>\n",
              "      <td>3 ROOM</td>\n",
              "      <td>602</td>\n",
              "      <td>ANG MO KIO AVE 5</td>\n",
              "      <td>01 TO 03</td>\n",
              "      <td>67.0</td>\n",
              "      <td>262000.0</td>\n",
              "      <td>602 ANG MO KIO AVENUE 5 YIO CHU KANG GREEN SIN...</td>\n",
              "      <td>1.072</td>\n",
              "      <td>9.865110551058121 km</td>\n",
              "    </tr>\n",
              "    <tr>\n",
              "      <th>3</th>\n",
              "      <td>2017-01</td>\n",
              "      <td>ANG MO KIO</td>\n",
              "      <td>3 ROOM</td>\n",
              "      <td>465</td>\n",
              "      <td>ANG MO KIO AVE 10</td>\n",
              "      <td>04 TO 06</td>\n",
              "      <td>68.0</td>\n",
              "      <td>265000.0</td>\n",
              "      <td>465 ANG MO KIO AVENUE 10 TECK GHEE HORIZON SIN...</td>\n",
              "      <td>0.946</td>\n",
              "      <td>8.091639228670868 km</td>\n",
              "    </tr>\n",
              "    <tr>\n",
              "      <th>4</th>\n",
              "      <td>2017-01</td>\n",
              "      <td>ANG MO KIO</td>\n",
              "      <td>3 ROOM</td>\n",
              "      <td>601</td>\n",
              "      <td>ANG MO KIO AVE 5</td>\n",
              "      <td>01 TO 03</td>\n",
              "      <td>67.0</td>\n",
              "      <td>265000.0</td>\n",
              "      <td>601 ANG MO KIO AVENUE 5 MY FIRST SKOOL SINGAPO...</td>\n",
              "      <td>1.095</td>\n",
              "      <td>9.906290988634552 km</td>\n",
              "    </tr>\n",
              "  </tbody>\n",
              "</table>\n",
              "</div>"
            ],
            "text/plain": [
              "     month        town  ... DISTANCE_MRT   DISTANCE_CITYCENTRE\n",
              "0  2017-01  ANG MO KIO  ...        1.000  7.612266338225603 km\n",
              "1  2017-01  ANG MO KIO  ...        1.293  8.749844563771587 km\n",
              "2  2017-01  ANG MO KIO  ...        1.072  9.865110551058121 km\n",
              "3  2017-01  ANG MO KIO  ...        0.946  8.091639228670868 km\n",
              "4  2017-01  ANG MO KIO  ...        1.095  9.906290988634552 km\n",
              "\n",
              "[5 rows x 11 columns]"
            ]
          },
          "metadata": {},
          "execution_count": 40
        }
      ]
    },
    {
      "cell_type": "code",
      "metadata": {
        "id": "A0j5IK7XevOJ",
        "colab": {
          "base_uri": "https://localhost:8080/",
          "height": 204
        },
        "outputId": "46f35692-1f81-47d5-ad39-c554b7b1903a"
      },
      "source": [
        "hdb_final['DISTANCE_CITYCENTRE'] = hdb_final['DISTANCE_CITYCENTRE'].apply(lambda x: round(x.km, 3))\n",
        "hdb_final.head()"
      ],
      "execution_count": 41,
      "outputs": [
        {
          "output_type": "execute_result",
          "data": {
            "text/html": [
              "<div>\n",
              "<style scoped>\n",
              "    .dataframe tbody tr th:only-of-type {\n",
              "        vertical-align: middle;\n",
              "    }\n",
              "\n",
              "    .dataframe tbody tr th {\n",
              "        vertical-align: top;\n",
              "    }\n",
              "\n",
              "    .dataframe thead th {\n",
              "        text-align: right;\n",
              "    }\n",
              "</style>\n",
              "<table border=\"1\" class=\"dataframe\">\n",
              "  <thead>\n",
              "    <tr style=\"text-align: right;\">\n",
              "      <th></th>\n",
              "      <th>month</th>\n",
              "      <th>town</th>\n",
              "      <th>flat_type</th>\n",
              "      <th>block</th>\n",
              "      <th>street_name</th>\n",
              "      <th>storey_range</th>\n",
              "      <th>floor_area_sqm</th>\n",
              "      <th>resale_price</th>\n",
              "      <th>ADDRESS</th>\n",
              "      <th>DISTANCE_MRT</th>\n",
              "      <th>DISTANCE_CITYCENTRE</th>\n",
              "    </tr>\n",
              "  </thead>\n",
              "  <tbody>\n",
              "    <tr>\n",
              "      <th>0</th>\n",
              "      <td>2017-01</td>\n",
              "      <td>ANG MO KIO</td>\n",
              "      <td>2 ROOM</td>\n",
              "      <td>406</td>\n",
              "      <td>ANG MO KIO AVE 10</td>\n",
              "      <td>10 TO 12</td>\n",
              "      <td>44.0</td>\n",
              "      <td>232000.0</td>\n",
              "      <td>406 ANG MO KIO AVENUE 10 SINGAPORE 560406</td>\n",
              "      <td>1.000</td>\n",
              "      <td>7.612</td>\n",
              "    </tr>\n",
              "    <tr>\n",
              "      <th>1</th>\n",
              "      <td>2017-01</td>\n",
              "      <td>ANG MO KIO</td>\n",
              "      <td>3 ROOM</td>\n",
              "      <td>108</td>\n",
              "      <td>ANG MO KIO AVE 4</td>\n",
              "      <td>01 TO 03</td>\n",
              "      <td>67.0</td>\n",
              "      <td>250000.0</td>\n",
              "      <td>108 ANG MO KIO AVENUE 4 THE ANIMAL DOCTORS SIN...</td>\n",
              "      <td>1.293</td>\n",
              "      <td>8.750</td>\n",
              "    </tr>\n",
              "    <tr>\n",
              "      <th>2</th>\n",
              "      <td>2017-01</td>\n",
              "      <td>ANG MO KIO</td>\n",
              "      <td>3 ROOM</td>\n",
              "      <td>602</td>\n",
              "      <td>ANG MO KIO AVE 5</td>\n",
              "      <td>01 TO 03</td>\n",
              "      <td>67.0</td>\n",
              "      <td>262000.0</td>\n",
              "      <td>602 ANG MO KIO AVENUE 5 YIO CHU KANG GREEN SIN...</td>\n",
              "      <td>1.072</td>\n",
              "      <td>9.865</td>\n",
              "    </tr>\n",
              "    <tr>\n",
              "      <th>3</th>\n",
              "      <td>2017-01</td>\n",
              "      <td>ANG MO KIO</td>\n",
              "      <td>3 ROOM</td>\n",
              "      <td>465</td>\n",
              "      <td>ANG MO KIO AVE 10</td>\n",
              "      <td>04 TO 06</td>\n",
              "      <td>68.0</td>\n",
              "      <td>265000.0</td>\n",
              "      <td>465 ANG MO KIO AVENUE 10 TECK GHEE HORIZON SIN...</td>\n",
              "      <td>0.946</td>\n",
              "      <td>8.092</td>\n",
              "    </tr>\n",
              "    <tr>\n",
              "      <th>4</th>\n",
              "      <td>2017-01</td>\n",
              "      <td>ANG MO KIO</td>\n",
              "      <td>3 ROOM</td>\n",
              "      <td>601</td>\n",
              "      <td>ANG MO KIO AVE 5</td>\n",
              "      <td>01 TO 03</td>\n",
              "      <td>67.0</td>\n",
              "      <td>265000.0</td>\n",
              "      <td>601 ANG MO KIO AVENUE 5 MY FIRST SKOOL SINGAPO...</td>\n",
              "      <td>1.095</td>\n",
              "      <td>9.906</td>\n",
              "    </tr>\n",
              "  </tbody>\n",
              "</table>\n",
              "</div>"
            ],
            "text/plain": [
              "     month        town  ... DISTANCE_MRT DISTANCE_CITYCENTRE\n",
              "0  2017-01  ANG MO KIO  ...        1.000               7.612\n",
              "1  2017-01  ANG MO KIO  ...        1.293               8.750\n",
              "2  2017-01  ANG MO KIO  ...        1.072               9.865\n",
              "3  2017-01  ANG MO KIO  ...        0.946               8.092\n",
              "4  2017-01  ANG MO KIO  ...        1.095               9.906\n",
              "\n",
              "[5 rows x 11 columns]"
            ]
          },
          "metadata": {},
          "execution_count": 41
        }
      ]
    },
    {
      "cell_type": "code",
      "metadata": {
        "id": "GXOmwIyLevOJ"
      },
      "source": [
        "hdb_final.to_csv(filepath + 'hdb_dataset.csv', index=False)"
      ],
      "execution_count": 42,
      "outputs": []
    },
    {
      "cell_type": "markdown",
      "metadata": {
        "id": "B5f9moGhJaTa"
      },
      "source": [
        "That's all for web-scraping and EDA! Let's proceed to the next step, which is data preparation."
      ]
    },
    {
      "cell_type": "markdown",
      "metadata": {
        "id": "vWpZmp0MevOJ"
      },
      "source": [
        "## Data Preparation"
      ]
    },
    {
      "cell_type": "markdown",
      "metadata": {
        "id": "IuKq_vaCevOJ"
      },
      "source": [
        "Before building and deploying a model for our dataset, we will need to do some prepping. We will first drop the columns 'month', 'block', 'street_name', 'ADDRESS', since they are not useful for predicting the resale price:"
      ]
    },
    {
      "cell_type": "code",
      "metadata": {
        "colab": {
          "base_uri": "https://localhost:8080/",
          "height": 204
        },
        "id": "FDPK_he2evOJ",
        "outputId": "a3e79ecb-f300-4b1a-a298-4a946c285b34"
      },
      "source": [
        "path = '/content/drive/MyDrive/Colab Notebooks/Housing/hdb_dataset.csv'\n",
        "df_final = pd.read_csv(path)\n",
        "df_final.head()"
      ],
      "execution_count": 43,
      "outputs": [
        {
          "output_type": "execute_result",
          "data": {
            "text/html": [
              "<div>\n",
              "<style scoped>\n",
              "    .dataframe tbody tr th:only-of-type {\n",
              "        vertical-align: middle;\n",
              "    }\n",
              "\n",
              "    .dataframe tbody tr th {\n",
              "        vertical-align: top;\n",
              "    }\n",
              "\n",
              "    .dataframe thead th {\n",
              "        text-align: right;\n",
              "    }\n",
              "</style>\n",
              "<table border=\"1\" class=\"dataframe\">\n",
              "  <thead>\n",
              "    <tr style=\"text-align: right;\">\n",
              "      <th></th>\n",
              "      <th>month</th>\n",
              "      <th>town</th>\n",
              "      <th>flat_type</th>\n",
              "      <th>block</th>\n",
              "      <th>street_name</th>\n",
              "      <th>storey_range</th>\n",
              "      <th>floor_area_sqm</th>\n",
              "      <th>resale_price</th>\n",
              "      <th>ADDRESS</th>\n",
              "      <th>DISTANCE_MRT</th>\n",
              "      <th>DISTANCE_CITYCENTRE</th>\n",
              "    </tr>\n",
              "  </thead>\n",
              "  <tbody>\n",
              "    <tr>\n",
              "      <th>0</th>\n",
              "      <td>2017-01</td>\n",
              "      <td>ANG MO KIO</td>\n",
              "      <td>2 ROOM</td>\n",
              "      <td>406</td>\n",
              "      <td>ANG MO KIO AVE 10</td>\n",
              "      <td>10 TO 12</td>\n",
              "      <td>44.0</td>\n",
              "      <td>232000.0</td>\n",
              "      <td>406 ANG MO KIO AVENUE 10 SINGAPORE 560406</td>\n",
              "      <td>1.000</td>\n",
              "      <td>7.612</td>\n",
              "    </tr>\n",
              "    <tr>\n",
              "      <th>1</th>\n",
              "      <td>2017-01</td>\n",
              "      <td>ANG MO KIO</td>\n",
              "      <td>3 ROOM</td>\n",
              "      <td>108</td>\n",
              "      <td>ANG MO KIO AVE 4</td>\n",
              "      <td>01 TO 03</td>\n",
              "      <td>67.0</td>\n",
              "      <td>250000.0</td>\n",
              "      <td>108 ANG MO KIO AVENUE 4 THE ANIMAL DOCTORS SIN...</td>\n",
              "      <td>1.293</td>\n",
              "      <td>8.750</td>\n",
              "    </tr>\n",
              "    <tr>\n",
              "      <th>2</th>\n",
              "      <td>2017-01</td>\n",
              "      <td>ANG MO KIO</td>\n",
              "      <td>3 ROOM</td>\n",
              "      <td>602</td>\n",
              "      <td>ANG MO KIO AVE 5</td>\n",
              "      <td>01 TO 03</td>\n",
              "      <td>67.0</td>\n",
              "      <td>262000.0</td>\n",
              "      <td>602 ANG MO KIO AVENUE 5 YIO CHU KANG GREEN SIN...</td>\n",
              "      <td>1.072</td>\n",
              "      <td>9.865</td>\n",
              "    </tr>\n",
              "    <tr>\n",
              "      <th>3</th>\n",
              "      <td>2017-01</td>\n",
              "      <td>ANG MO KIO</td>\n",
              "      <td>3 ROOM</td>\n",
              "      <td>465</td>\n",
              "      <td>ANG MO KIO AVE 10</td>\n",
              "      <td>04 TO 06</td>\n",
              "      <td>68.0</td>\n",
              "      <td>265000.0</td>\n",
              "      <td>465 ANG MO KIO AVENUE 10 TECK GHEE HORIZON SIN...</td>\n",
              "      <td>0.946</td>\n",
              "      <td>8.092</td>\n",
              "    </tr>\n",
              "    <tr>\n",
              "      <th>4</th>\n",
              "      <td>2017-01</td>\n",
              "      <td>ANG MO KIO</td>\n",
              "      <td>3 ROOM</td>\n",
              "      <td>601</td>\n",
              "      <td>ANG MO KIO AVE 5</td>\n",
              "      <td>01 TO 03</td>\n",
              "      <td>67.0</td>\n",
              "      <td>265000.0</td>\n",
              "      <td>601 ANG MO KIO AVENUE 5 MY FIRST SKOOL SINGAPO...</td>\n",
              "      <td>1.095</td>\n",
              "      <td>9.906</td>\n",
              "    </tr>\n",
              "  </tbody>\n",
              "</table>\n",
              "</div>"
            ],
            "text/plain": [
              "     month        town  ... DISTANCE_MRT DISTANCE_CITYCENTRE\n",
              "0  2017-01  ANG MO KIO  ...        1.000               7.612\n",
              "1  2017-01  ANG MO KIO  ...        1.293               8.750\n",
              "2  2017-01  ANG MO KIO  ...        1.072               9.865\n",
              "3  2017-01  ANG MO KIO  ...        0.946               8.092\n",
              "4  2017-01  ANG MO KIO  ...        1.095               9.906\n",
              "\n",
              "[5 rows x 11 columns]"
            ]
          },
          "metadata": {},
          "execution_count": 43
        }
      ]
    },
    {
      "cell_type": "code",
      "metadata": {
        "colab": {
          "base_uri": "https://localhost:8080/",
          "height": 204
        },
        "id": "6FOe9E2zevOK",
        "outputId": "a4bd00bd-9a85-4099-e9cb-e7887e69ddaf"
      },
      "source": [
        "df_final.drop(columns=['month', 'block', 'street_name', 'ADDRESS'], inplace=True)\n",
        "df_final.head()"
      ],
      "execution_count": 44,
      "outputs": [
        {
          "output_type": "execute_result",
          "data": {
            "text/html": [
              "<div>\n",
              "<style scoped>\n",
              "    .dataframe tbody tr th:only-of-type {\n",
              "        vertical-align: middle;\n",
              "    }\n",
              "\n",
              "    .dataframe tbody tr th {\n",
              "        vertical-align: top;\n",
              "    }\n",
              "\n",
              "    .dataframe thead th {\n",
              "        text-align: right;\n",
              "    }\n",
              "</style>\n",
              "<table border=\"1\" class=\"dataframe\">\n",
              "  <thead>\n",
              "    <tr style=\"text-align: right;\">\n",
              "      <th></th>\n",
              "      <th>town</th>\n",
              "      <th>flat_type</th>\n",
              "      <th>storey_range</th>\n",
              "      <th>floor_area_sqm</th>\n",
              "      <th>resale_price</th>\n",
              "      <th>DISTANCE_MRT</th>\n",
              "      <th>DISTANCE_CITYCENTRE</th>\n",
              "    </tr>\n",
              "  </thead>\n",
              "  <tbody>\n",
              "    <tr>\n",
              "      <th>0</th>\n",
              "      <td>ANG MO KIO</td>\n",
              "      <td>2 ROOM</td>\n",
              "      <td>10 TO 12</td>\n",
              "      <td>44.0</td>\n",
              "      <td>232000.0</td>\n",
              "      <td>1.000</td>\n",
              "      <td>7.612</td>\n",
              "    </tr>\n",
              "    <tr>\n",
              "      <th>1</th>\n",
              "      <td>ANG MO KIO</td>\n",
              "      <td>3 ROOM</td>\n",
              "      <td>01 TO 03</td>\n",
              "      <td>67.0</td>\n",
              "      <td>250000.0</td>\n",
              "      <td>1.293</td>\n",
              "      <td>8.750</td>\n",
              "    </tr>\n",
              "    <tr>\n",
              "      <th>2</th>\n",
              "      <td>ANG MO KIO</td>\n",
              "      <td>3 ROOM</td>\n",
              "      <td>01 TO 03</td>\n",
              "      <td>67.0</td>\n",
              "      <td>262000.0</td>\n",
              "      <td>1.072</td>\n",
              "      <td>9.865</td>\n",
              "    </tr>\n",
              "    <tr>\n",
              "      <th>3</th>\n",
              "      <td>ANG MO KIO</td>\n",
              "      <td>3 ROOM</td>\n",
              "      <td>04 TO 06</td>\n",
              "      <td>68.0</td>\n",
              "      <td>265000.0</td>\n",
              "      <td>0.946</td>\n",
              "      <td>8.092</td>\n",
              "    </tr>\n",
              "    <tr>\n",
              "      <th>4</th>\n",
              "      <td>ANG MO KIO</td>\n",
              "      <td>3 ROOM</td>\n",
              "      <td>01 TO 03</td>\n",
              "      <td>67.0</td>\n",
              "      <td>265000.0</td>\n",
              "      <td>1.095</td>\n",
              "      <td>9.906</td>\n",
              "    </tr>\n",
              "  </tbody>\n",
              "</table>\n",
              "</div>"
            ],
            "text/plain": [
              "         town flat_type  ... DISTANCE_MRT  DISTANCE_CITYCENTRE\n",
              "0  ANG MO KIO    2 ROOM  ...        1.000                7.612\n",
              "1  ANG MO KIO    3 ROOM  ...        1.293                8.750\n",
              "2  ANG MO KIO    3 ROOM  ...        1.072                9.865\n",
              "3  ANG MO KIO    3 ROOM  ...        0.946                8.092\n",
              "4  ANG MO KIO    3 ROOM  ...        1.095                9.906\n",
              "\n",
              "[5 rows x 7 columns]"
            ]
          },
          "metadata": {},
          "execution_count": 44
        }
      ]
    },
    {
      "cell_type": "code",
      "metadata": {
        "id": "FAb6YDvHevOK"
      },
      "source": [
        "from sklearn.model_selection import train_test_split\n",
        "\n",
        "df_train, df_test = train_test_split(df_final, random_state=42, shuffle=True, test_size=0.2)"
      ],
      "execution_count": 45,
      "outputs": []
    },
    {
      "cell_type": "code",
      "metadata": {
        "id": "hY2SSbN7evOK"
      },
      "source": [
        "X_train = df_train.drop(columns=['resale_price'])\n",
        "y_train = df_train[['resale_price']]"
      ],
      "execution_count": 46,
      "outputs": []
    },
    {
      "cell_type": "code",
      "metadata": {
        "colab": {
          "base_uri": "https://localhost:8080/"
        },
        "id": "sJfoRxMGevOK",
        "outputId": "1dd5e28d-1e16-467e-8c7b-5511e277d6d5"
      },
      "source": [
        "X_train.shape, y_train.shape"
      ],
      "execution_count": 47,
      "outputs": [
        {
          "output_type": "execute_result",
          "data": {
            "text/plain": [
              "((83887, 6), (83887, 1))"
            ]
          },
          "metadata": {},
          "execution_count": 47
        }
      ]
    },
    {
      "cell_type": "markdown",
      "metadata": {
        "id": "odCTMv9Ee9mp"
      },
      "source": [
        "The features are split into numerical and categorical variables. They are then passed through the ColumnTransformer(), which it will preprocess the numerical and categorical variables separately, and then concetenate them. The numerical variables are scaled by using StandardScaler, whereas the categorical variables are being one-hot encoded:"
      ]
    },
    {
      "cell_type": "code",
      "metadata": {
        "id": "bvrmdWXoevOK"
      },
      "source": [
        "from sklearn.compose import ColumnTransformer\n",
        "from sklearn.preprocessing import StandardScaler, OneHotEncoder\n",
        "\n",
        "hdb_num = X_train.select_dtypes(exclude=['object'])\n",
        "hdb_cat = X_train.select_dtypes(include=['object'])\n",
        "\n",
        "num_attribs = list(hdb_num)\n",
        "cat_attribs = list(hdb_cat)\n",
        "\n",
        "transform_pipeline = ColumnTransformer([('num', StandardScaler(), num_attribs), \n",
        "                                        ('cat', OneHotEncoder(), cat_attribs)])\n",
        "\n",
        "X_train_prepared = transform_pipeline.fit_transform(X_train).toarray()"
      ],
      "execution_count": 48,
      "outputs": []
    },
    {
      "cell_type": "code",
      "metadata": {
        "colab": {
          "base_uri": "https://localhost:8080/"
        },
        "id": "hH9J77tMevOK",
        "outputId": "3118df21-9a73-45e8-f725-673840bdf6a3"
      },
      "source": [
        "X_train_prepared[0]"
      ],
      "execution_count": 49,
      "outputs": [
        {
          "output_type": "execute_result",
          "data": {
            "text/plain": [
              "array([ 0.50328456, -1.02739438,  0.34190807,  0.        ,  0.        ,\n",
              "        0.        ,  0.        ,  0.        ,  0.        ,  0.        ,\n",
              "        0.        ,  0.        ,  0.        ,  0.        ,  0.        ,\n",
              "        0.        ,  0.        ,  0.        ,  0.        ,  0.        ,\n",
              "        1.        ,  0.        ,  0.        ,  0.        ,  0.        ,\n",
              "        0.        ,  0.        ,  0.        ,  0.        ,  0.        ,\n",
              "        0.        ,  0.        ,  0.        ,  1.        ,  0.        ,\n",
              "        0.        ,  0.        ,  0.        ,  0.        ,  0.        ,\n",
              "        1.        ,  0.        ,  0.        ,  0.        ,  0.        ,\n",
              "        0.        ,  0.        ,  0.        ,  0.        ,  0.        ,\n",
              "        0.        ,  0.        ,  0.        ])"
            ]
          },
          "metadata": {},
          "execution_count": 49
        }
      ]
    },
    {
      "cell_type": "code",
      "metadata": {
        "id": "P45uhxYFevOK"
      },
      "source": [
        "y_train_prepared = y_train.values"
      ],
      "execution_count": 50,
      "outputs": []
    },
    {
      "cell_type": "code",
      "metadata": {
        "scrolled": true,
        "colab": {
          "base_uri": "https://localhost:8080/"
        },
        "id": "9akSpNS6evOK",
        "outputId": "d6ccc701-bf1b-40cf-8e67-e6f59e30a19b"
      },
      "source": [
        "X_train_prepared.shape, y_train_prepared.shape"
      ],
      "execution_count": 51,
      "outputs": [
        {
          "output_type": "execute_result",
          "data": {
            "text/plain": [
              "((83887, 53), (83887, 1))"
            ]
          },
          "metadata": {},
          "execution_count": 51
        }
      ]
    },
    {
      "cell_type": "markdown",
      "metadata": {
        "id": "-x9xMNlievOL"
      },
      "source": [
        "## Model Building"
      ]
    },
    {
      "cell_type": "markdown",
      "metadata": {
        "id": "mYtt8e0oLjCF"
      },
      "source": [
        "Finally, our dataset is ready for training! We will further split it into training and validation dataset:"
      ]
    },
    {
      "cell_type": "code",
      "metadata": {
        "id": "1Y2yfuNTevOL"
      },
      "source": [
        "from sklearn.model_selection import train_test_split\n",
        "\n",
        "X_train, X_valid, y_train, y_valid = train_test_split(X_train_prepared, y_train_prepared, test_size=0.2, random_state=42)"
      ],
      "execution_count": 52,
      "outputs": []
    },
    {
      "cell_type": "code",
      "metadata": {
        "colab": {
          "base_uri": "https://localhost:8080/"
        },
        "id": "BYZIwi8wevOL",
        "outputId": "bd6f02fe-7618-4257-a697-034576d17b5d"
      },
      "source": [
        "X_train.shape, X_valid.shape, y_train.shape, y_valid.shape"
      ],
      "execution_count": 53,
      "outputs": [
        {
          "output_type": "execute_result",
          "data": {
            "text/plain": [
              "((67109, 53), (16778, 53), (67109, 1), (16778, 1))"
            ]
          },
          "metadata": {},
          "execution_count": 53
        }
      ]
    },
    {
      "cell_type": "markdown",
      "metadata": {
        "id": "B2isAr5tevOL"
      },
      "source": [
        "### Linear Regression"
      ]
    },
    {
      "cell_type": "markdown",
      "metadata": {
        "id": "5FOhcTn0Mbio"
      },
      "source": [
        "Let's start with the plain old Linear Regression:"
      ]
    },
    {
      "cell_type": "code",
      "metadata": {
        "colab": {
          "base_uri": "https://localhost:8080/"
        },
        "id": "I7U2P7nNevOL",
        "outputId": "d2966630-708d-4ed7-a58f-6f479d892356"
      },
      "source": [
        "from sklearn.linear_model import LinearRegression\n",
        "\n",
        "lin_reg = LinearRegression()\n",
        "lin_reg.fit(X_train, y_train)"
      ],
      "execution_count": 54,
      "outputs": [
        {
          "output_type": "execute_result",
          "data": {
            "text/plain": [
              "LinearRegression(copy_X=True, fit_intercept=True, n_jobs=None, normalize=False)"
            ]
          },
          "metadata": {},
          "execution_count": 54
        }
      ]
    },
    {
      "cell_type": "code",
      "metadata": {
        "colab": {
          "base_uri": "https://localhost:8080/"
        },
        "id": "Hs7RlotIevOL",
        "outputId": "f9b3d9f2-f481-4a43-f944-65f005d6b289"
      },
      "source": [
        "from sklearn.metrics import mean_squared_error\n",
        "\n",
        "y_pred = lin_reg.predict(X_valid)\n",
        "lin_mse = mean_squared_error(y_valid, y_pred)\n",
        "lin_rmse = np.sqrt(lin_mse)\n",
        "lin_rmse"
      ],
      "execution_count": 55,
      "outputs": [
        {
          "output_type": "execute_result",
          "data": {
            "text/plain": [
              "77101.41063314029"
            ]
          },
          "metadata": {},
          "execution_count": 55
        }
      ]
    },
    {
      "cell_type": "markdown",
      "metadata": {
        "id": "N_5gqPU1hA8X"
      },
      "source": [
        "Let's see we can do better with added polynomial features, plus some regularization:"
      ]
    },
    {
      "cell_type": "markdown",
      "metadata": {
        "id": "CsObtVl6evOM"
      },
      "source": [
        "### Lasso Regression"
      ]
    },
    {
      "cell_type": "code",
      "metadata": {
        "colab": {
          "base_uri": "https://localhost:8080/"
        },
        "id": "orqOUveuevOM",
        "outputId": "f3f61389-3143-4e11-90db-2e2ef16ca575"
      },
      "source": [
        "from sklearn.preprocessing import PolynomialFeatures\n",
        "from sklearn.linear_model import Lasso\n",
        "from sklearn.pipeline import Pipeline\n",
        "\n",
        "model = Pipeline([('poly_features', PolynomialFeatures(degree=2, include_bias=False)), \n",
        "                  ('lasso', Lasso(alpha=1, tol=1e-3, random_state=42))])\n",
        "model.fit(X_train, y_train)"
      ],
      "execution_count": 56,
      "outputs": [
        {
          "output_type": "stream",
          "text": [
            "/usr/local/lib/python3.7/dist-packages/sklearn/linear_model/_coordinate_descent.py:476: ConvergenceWarning: Objective did not converge. You might want to increase the number of iterations. Duality gap: 94918678654677.5, tolerance: 1647754287752.351\n",
            "  positive)\n"
          ],
          "name": "stderr"
        },
        {
          "output_type": "execute_result",
          "data": {
            "text/plain": [
              "Pipeline(memory=None,\n",
              "         steps=[('poly_features',\n",
              "                 PolynomialFeatures(degree=2, include_bias=False,\n",
              "                                    interaction_only=False, order='C')),\n",
              "                ('lasso',\n",
              "                 Lasso(alpha=1, copy_X=True, fit_intercept=True, max_iter=1000,\n",
              "                       normalize=False, positive=False, precompute=False,\n",
              "                       random_state=42, selection='cyclic', tol=0.001,\n",
              "                       warm_start=False))],\n",
              "         verbose=False)"
            ]
          },
          "metadata": {},
          "execution_count": 56
        }
      ]
    },
    {
      "cell_type": "code",
      "metadata": {
        "colab": {
          "base_uri": "https://localhost:8080/"
        },
        "id": "ITl0YSE-evOM",
        "outputId": "be4f5979-fa77-47fb-b49a-d8aed76c3bef"
      },
      "source": [
        "y_pred = model.predict(X_valid)\n",
        "lasso_mse = mean_squared_error(y_valid, y_pred)\n",
        "lasso_rmse = np.sqrt(lasso_mse)\n",
        "lasso_rmse"
      ],
      "execution_count": 57,
      "outputs": [
        {
          "output_type": "execute_result",
          "data": {
            "text/plain": [
              "61428.090260272984"
            ]
          },
          "metadata": {},
          "execution_count": 57
        }
      ]
    },
    {
      "cell_type": "markdown",
      "metadata": {
        "id": "vuNtvlLoevOM"
      },
      "source": [
        "### Decision Tree"
      ]
    },
    {
      "cell_type": "code",
      "metadata": {
        "colab": {
          "base_uri": "https://localhost:8080/"
        },
        "id": "961wiqvFevOM",
        "outputId": "6c8259c8-b19f-41bf-9b40-b800e1d99a9e"
      },
      "source": [
        "from sklearn.tree import DecisionTreeRegressor\n",
        "\n",
        "tree_reg = DecisionTreeRegressor(random_state=42)\n",
        "tree_reg.fit(X_train, y_train)"
      ],
      "execution_count": 58,
      "outputs": [
        {
          "output_type": "execute_result",
          "data": {
            "text/plain": [
              "DecisionTreeRegressor(ccp_alpha=0.0, criterion='mse', max_depth=None,\n",
              "                      max_features=None, max_leaf_nodes=None,\n",
              "                      min_impurity_decrease=0.0, min_impurity_split=None,\n",
              "                      min_samples_leaf=1, min_samples_split=2,\n",
              "                      min_weight_fraction_leaf=0.0, presort='deprecated',\n",
              "                      random_state=42, splitter='best')"
            ]
          },
          "metadata": {},
          "execution_count": 58
        }
      ]
    },
    {
      "cell_type": "code",
      "metadata": {
        "colab": {
          "base_uri": "https://localhost:8080/"
        },
        "id": "6bypy10VevOM",
        "outputId": "0beec73b-c0ec-4cca-8783-fe44af8b3907"
      },
      "source": [
        "y_pred = tree_reg.predict(X_valid)\n",
        "tree_mse = mean_squared_error(y_valid, y_pred)\n",
        "tree_rmse = np.sqrt(tree_mse)\n",
        "tree_rmse"
      ],
      "execution_count": 59,
      "outputs": [
        {
          "output_type": "execute_result",
          "data": {
            "text/plain": [
              "42850.8474000905"
            ]
          },
          "metadata": {},
          "execution_count": 59
        }
      ]
    },
    {
      "cell_type": "code",
      "metadata": {
        "colab": {
          "base_uri": "https://localhost:8080/"
        },
        "id": "gYMno2v_evOM",
        "outputId": "9d3e3113-5ef6-4cf4-e259-a8063d0fcb31"
      },
      "source": [
        "y_pred = tree_reg.predict(X_train)\n",
        "tree_mse = mean_squared_error(y_train, y_pred)\n",
        "tree_rmse = np.sqrt(tree_mse)\n",
        "tree_rmse"
      ],
      "execution_count": 60,
      "outputs": [
        {
          "output_type": "execute_result",
          "data": {
            "text/plain": [
              "13850.84672617378"
            ]
          },
          "metadata": {},
          "execution_count": 60
        }
      ]
    },
    {
      "cell_type": "markdown",
      "metadata": {
        "id": "Z0qD9RcFevON"
      },
      "source": [
        "Looks like the model has overfitted the training data. Let's try using an ensemble of Decision Tree Regressor to trade a higher bias for lower variance."
      ]
    },
    {
      "cell_type": "markdown",
      "metadata": {
        "id": "V8pzGUHWht73"
      },
      "source": [
        "### Random Forest"
      ]
    },
    {
      "cell_type": "code",
      "metadata": {
        "colab": {
          "base_uri": "https://localhost:8080/"
        },
        "id": "J7to7tLZevON",
        "outputId": "d773d159-caa2-41a9-db63-e8270ce63a28"
      },
      "source": [
        "from sklearn.ensemble import RandomForestRegressor\n",
        "\n",
        "forest_reg = RandomForestRegressor(n_estimators=100, random_state=42)\n",
        "forest_reg.fit(X_train, y_train.ravel())"
      ],
      "execution_count": 61,
      "outputs": [
        {
          "output_type": "execute_result",
          "data": {
            "text/plain": [
              "RandomForestRegressor(bootstrap=True, ccp_alpha=0.0, criterion='mse',\n",
              "                      max_depth=None, max_features='auto', max_leaf_nodes=None,\n",
              "                      max_samples=None, min_impurity_decrease=0.0,\n",
              "                      min_impurity_split=None, min_samples_leaf=1,\n",
              "                      min_samples_split=2, min_weight_fraction_leaf=0.0,\n",
              "                      n_estimators=100, n_jobs=None, oob_score=False,\n",
              "                      random_state=42, verbose=0, warm_start=False)"
            ]
          },
          "metadata": {},
          "execution_count": 61
        }
      ]
    },
    {
      "cell_type": "code",
      "metadata": {
        "colab": {
          "base_uri": "https://localhost:8080/"
        },
        "id": "-3SxTzo6evON",
        "outputId": "756add16-72cd-42bf-d040-f1e42352d1e5"
      },
      "source": [
        "y_pred = forest_reg.predict(X_valid)\n",
        "forest_mse = mean_squared_error(y_valid, y_pred)\n",
        "forest_rmse = np.sqrt(forest_mse)\n",
        "forest_rmse"
      ],
      "execution_count": 62,
      "outputs": [
        {
          "output_type": "execute_result",
          "data": {
            "text/plain": [
              "34651.23371316893"
            ]
          },
          "metadata": {},
          "execution_count": 62
        }
      ]
    },
    {
      "cell_type": "code",
      "metadata": {
        "colab": {
          "base_uri": "https://localhost:8080/"
        },
        "id": "xOSIsvvTevON",
        "outputId": "efd0a2c2-6504-47af-b089-b6c25036660b"
      },
      "source": [
        "y_pred = forest_reg.predict(X_train)\n",
        "forest_mse = mean_squared_error(y_train, y_pred)\n",
        "forest_rmse = np.sqrt(forest_mse)\n",
        "forest_rmse"
      ],
      "execution_count": 63,
      "outputs": [
        {
          "output_type": "execute_result",
          "data": {
            "text/plain": [
              "17354.372910674007"
            ]
          },
          "metadata": {},
          "execution_count": 63
        }
      ]
    },
    {
      "cell_type": "markdown",
      "metadata": {
        "id": "F1Hp1eC1evON"
      },
      "source": [
        "It is better than the Decision Tree, but still overfits the training data. We will use GridSearchCV to tune the hyperparameters:"
      ]
    },
    {
      "cell_type": "code",
      "metadata": {
        "colab": {
          "base_uri": "https://localhost:8080/"
        },
        "id": "MZ2EoP7UevON",
        "outputId": "28bd309c-225c-4930-8b1c-e0a629ff16f9"
      },
      "source": [
        "from sklearn.model_selection import GridSearchCV\n",
        "\n",
        "param_grid = [\n",
        "    {'n_estimators': [30, 40, 50], 'max_features': [30, 40, 50]},\n",
        "    {'bootstrap': [False], 'n_estimators': [30, 50], 'max_features': [30, 40, 50]},\n",
        "  ]\n",
        "\n",
        "forest_reg = RandomForestRegressor(random_state=42)\n",
        "grid_search = GridSearchCV(forest_reg, param_grid, cv=3, scoring='neg_mean_squared_error', return_train_score=True)\n",
        "grid_search.fit(X_train, y_train.ravel())"
      ],
      "execution_count": 64,
      "outputs": [
        {
          "output_type": "execute_result",
          "data": {
            "text/plain": [
              "GridSearchCV(cv=3, error_score=nan,\n",
              "             estimator=RandomForestRegressor(bootstrap=True, ccp_alpha=0.0,\n",
              "                                             criterion='mse', max_depth=None,\n",
              "                                             max_features='auto',\n",
              "                                             max_leaf_nodes=None,\n",
              "                                             max_samples=None,\n",
              "                                             min_impurity_decrease=0.0,\n",
              "                                             min_impurity_split=None,\n",
              "                                             min_samples_leaf=1,\n",
              "                                             min_samples_split=2,\n",
              "                                             min_weight_fraction_leaf=0.0,\n",
              "                                             n_estimators=100, n_jobs=None,\n",
              "                                             oob_score=False, random_state=42,\n",
              "                                             verbose=0, warm_start=False),\n",
              "             iid='deprecated', n_jobs=None,\n",
              "             param_grid=[{'max_features': [30, 40, 50],\n",
              "                          'n_estimators': [30, 40, 50]},\n",
              "                         {'bootstrap': [False], 'max_features': [30, 40, 50],\n",
              "                          'n_estimators': [30, 50]}],\n",
              "             pre_dispatch='2*n_jobs', refit=True, return_train_score=True,\n",
              "             scoring='neg_mean_squared_error', verbose=0)"
            ]
          },
          "metadata": {},
          "execution_count": 64
        }
      ]
    },
    {
      "cell_type": "code",
      "metadata": {
        "colab": {
          "base_uri": "https://localhost:8080/"
        },
        "id": "JtJchN69evON",
        "outputId": "a943a031-15c4-41ce-c51b-496b4a88d828"
      },
      "source": [
        "forest_reg = grid_search.best_estimator_\n",
        "y_pred = forest_reg.predict(X_valid)\n",
        "forest_mse = mean_squared_error(y_valid, y_pred)\n",
        "forest_rmse = np.sqrt(forest_mse)\n",
        "forest_rmse"
      ],
      "execution_count": 65,
      "outputs": [
        {
          "output_type": "execute_result",
          "data": {
            "text/plain": [
              "34179.7951307855"
            ]
          },
          "metadata": {},
          "execution_count": 65
        }
      ]
    },
    {
      "cell_type": "code",
      "metadata": {
        "colab": {
          "base_uri": "https://localhost:8080/"
        },
        "id": "fwB5wbyBevOO",
        "outputId": "18ba0fcd-f51a-47a4-dd7a-fa420d3928c9"
      },
      "source": [
        "y_pred = forest_reg.predict(X_train)\n",
        "forest_mse = mean_squared_error(y_train, y_pred)\n",
        "forest_rmse = np.sqrt(forest_mse)\n",
        "forest_rmse"
      ],
      "execution_count": 66,
      "outputs": [
        {
          "output_type": "execute_result",
          "data": {
            "text/plain": [
              "17332.803305671318"
            ]
          },
          "metadata": {},
          "execution_count": 66
        }
      ]
    },
    {
      "cell_type": "markdown",
      "metadata": {
        "id": "IGX4KFouevOP"
      },
      "source": [
        "After tuning the hyperparameters, the model still overfits the training data. Let's try other ensemble methods."
      ]
    },
    {
      "cell_type": "markdown",
      "metadata": {
        "id": "3vzYxvxOevOP"
      },
      "source": [
        "### Gradient Boosting"
      ]
    },
    {
      "cell_type": "code",
      "metadata": {
        "colab": {
          "base_uri": "https://localhost:8080/"
        },
        "id": "OikLy-vRevOP",
        "outputId": "7ec2cf5f-f23a-49d1-ef32-a69e2c3e6e16"
      },
      "source": [
        "from sklearn.ensemble import GradientBoostingRegressor\n",
        "\n",
        "gbrt = GradientBoostingRegressor(n_estimators=500, learning_rate=0.05, random_state=42)\n",
        "gbrt.fit(X_train, y_train.ravel())"
      ],
      "execution_count": 67,
      "outputs": [
        {
          "output_type": "execute_result",
          "data": {
            "text/plain": [
              "GradientBoostingRegressor(alpha=0.9, ccp_alpha=0.0, criterion='friedman_mse',\n",
              "                          init=None, learning_rate=0.05, loss='ls', max_depth=3,\n",
              "                          max_features=None, max_leaf_nodes=None,\n",
              "                          min_impurity_decrease=0.0, min_impurity_split=None,\n",
              "                          min_samples_leaf=1, min_samples_split=2,\n",
              "                          min_weight_fraction_leaf=0.0, n_estimators=500,\n",
              "                          n_iter_no_change=None, presort='deprecated',\n",
              "                          random_state=42, subsample=1.0, tol=0.0001,\n",
              "                          validation_fraction=0.1, verbose=0, warm_start=False)"
            ]
          },
          "metadata": {},
          "execution_count": 67
        }
      ]
    },
    {
      "cell_type": "code",
      "metadata": {
        "colab": {
          "base_uri": "https://localhost:8080/"
        },
        "id": "yoqdC6iuevOP",
        "outputId": "488559e5-d9ac-4067-e915-e8ca76652431"
      },
      "source": [
        "y_pred = gbrt.predict(X_valid)\n",
        "gbrt_mse = mean_squared_error(y_valid, y_pred)\n",
        "gbrt_rmse = np.sqrt(gbrt_mse)\n",
        "gbrt_rmse"
      ],
      "execution_count": 68,
      "outputs": [
        {
          "output_type": "execute_result",
          "data": {
            "text/plain": [
              "57963.4569677588"
            ]
          },
          "metadata": {},
          "execution_count": 68
        }
      ]
    },
    {
      "cell_type": "code",
      "metadata": {
        "colab": {
          "base_uri": "https://localhost:8080/"
        },
        "id": "4NlHP2r3evOQ",
        "outputId": "d60b39ba-e081-4244-841c-034819e47254"
      },
      "source": [
        "y_pred = gbrt.predict(X_train)\n",
        "gbrt_mse = mean_squared_error(y_train, y_pred)\n",
        "gbrt_rmse = np.sqrt(gbrt_mse)\n",
        "gbrt_rmse"
      ],
      "execution_count": 69,
      "outputs": [
        {
          "output_type": "execute_result",
          "data": {
            "text/plain": [
              "56663.28376587096"
            ]
          },
          "metadata": {},
          "execution_count": 69
        }
      ]
    },
    {
      "cell_type": "markdown",
      "metadata": {
        "id": "bs1byS2oicA1"
      },
      "source": [
        "### XGBoost"
      ]
    },
    {
      "cell_type": "code",
      "metadata": {
        "colab": {
          "base_uri": "https://localhost:8080/"
        },
        "id": "L3TfMFBwicXW",
        "outputId": "fbd47a11-4635-4723-8e6c-3f97bd1cd176"
      },
      "source": [
        "import xgboost\n",
        "\n",
        "xgb_reg = xgboost.XGBRegressor(n_estimators=500, learning_rate=0.05, random_state=42)\n",
        "xgb_reg.fit(X_train, y_train.ravel())"
      ],
      "execution_count": 70,
      "outputs": [
        {
          "output_type": "stream",
          "text": [
            "[16:01:16] WARNING: /workspace/src/objective/regression_obj.cu:152: reg:linear is now deprecated in favor of reg:squarederror.\n"
          ],
          "name": "stdout"
        },
        {
          "output_type": "execute_result",
          "data": {
            "text/plain": [
              "XGBRegressor(base_score=0.5, booster='gbtree', colsample_bylevel=1,\n",
              "             colsample_bynode=1, colsample_bytree=1, gamma=0,\n",
              "             importance_type='gain', learning_rate=0.05, max_delta_step=0,\n",
              "             max_depth=3, min_child_weight=1, missing=None, n_estimators=500,\n",
              "             n_jobs=1, nthread=None, objective='reg:linear', random_state=42,\n",
              "             reg_alpha=0, reg_lambda=1, scale_pos_weight=1, seed=None,\n",
              "             silent=None, subsample=1, verbosity=1)"
            ]
          },
          "metadata": {},
          "execution_count": 70
        }
      ]
    },
    {
      "cell_type": "code",
      "metadata": {
        "colab": {
          "base_uri": "https://localhost:8080/"
        },
        "id": "7abY97U7icmI",
        "outputId": "e6ef2888-2404-4887-c6fe-01d4dcd5dc4b"
      },
      "source": [
        "y_pred = xgb_reg.predict(X_valid)\n",
        "xgb_mse = mean_squared_error(y_valid, y_pred)\n",
        "xgb_rmse = np.sqrt(xgb_mse)\n",
        "xgb_rmse"
      ],
      "execution_count": 71,
      "outputs": [
        {
          "output_type": "execute_result",
          "data": {
            "text/plain": [
              "57969.765595731646"
            ]
          },
          "metadata": {},
          "execution_count": 71
        }
      ]
    },
    {
      "cell_type": "code",
      "metadata": {
        "colab": {
          "base_uri": "https://localhost:8080/"
        },
        "id": "tibaFCqQic6q",
        "outputId": "023cab3a-3961-4235-e921-88cba73cc42c"
      },
      "source": [
        "y_pred = xgb_reg.predict(X_train)\n",
        "xgb_mse = mean_squared_error(y_train, y_pred)\n",
        "xgb_rmse = np.sqrt(xgb_mse)\n",
        "xgb_rmse"
      ],
      "execution_count": 72,
      "outputs": [
        {
          "output_type": "execute_result",
          "data": {
            "text/plain": [
              "56775.40697888984"
            ]
          },
          "metadata": {},
          "execution_count": 72
        }
      ]
    },
    {
      "cell_type": "markdown",
      "metadata": {
        "id": "9ctwBEOWheHr"
      },
      "source": [
        "### Deep Neural Networks (DNNs)"
      ]
    },
    {
      "cell_type": "markdown",
      "metadata": {
        "id": "bfsOH4YSlJD7"
      },
      "source": [
        "Let's try implementing DNNs with Keras to predict the resale flat prices:"
      ]
    },
    {
      "cell_type": "code",
      "metadata": {
        "id": "jKqf51MFevOQ"
      },
      "source": [
        "import tensorflow as tf\n",
        "from tensorflow import keras\n",
        "\n",
        "np.random.seed(42)\n",
        "tf.random.set_seed(42)\n",
        "keras.backend.clear_session()"
      ],
      "execution_count": 73,
      "outputs": []
    },
    {
      "cell_type": "code",
      "metadata": {
        "id": "iS6LFzE_hoW5"
      },
      "source": [
        "model = keras.models.Sequential()\n",
        "model.add(keras.layers.Input(shape=X_train.shape[-1]))\n",
        "for _ in range(20):\n",
        "  model.add(keras.layers.Dense(100, activation='elu', kernel_initializer='he_normal'))\n",
        "model.add(keras.layers.Dense(1))"
      ],
      "execution_count": 74,
      "outputs": []
    },
    {
      "cell_type": "code",
      "metadata": {
        "colab": {
          "base_uri": "https://localhost:8080/"
        },
        "id": "_CcfGW-MAOD7",
        "outputId": "f5a77f02-28d7-4d71-dee8-fe7339377252"
      },
      "source": [
        "model.summary()"
      ],
      "execution_count": 75,
      "outputs": [
        {
          "output_type": "stream",
          "text": [
            "Model: \"sequential\"\n",
            "_________________________________________________________________\n",
            "Layer (type)                 Output Shape              Param #   \n",
            "=================================================================\n",
            "dense (Dense)                (None, 100)               5400      \n",
            "_________________________________________________________________\n",
            "dense_1 (Dense)              (None, 100)               10100     \n",
            "_________________________________________________________________\n",
            "dense_2 (Dense)              (None, 100)               10100     \n",
            "_________________________________________________________________\n",
            "dense_3 (Dense)              (None, 100)               10100     \n",
            "_________________________________________________________________\n",
            "dense_4 (Dense)              (None, 100)               10100     \n",
            "_________________________________________________________________\n",
            "dense_5 (Dense)              (None, 100)               10100     \n",
            "_________________________________________________________________\n",
            "dense_6 (Dense)              (None, 100)               10100     \n",
            "_________________________________________________________________\n",
            "dense_7 (Dense)              (None, 100)               10100     \n",
            "_________________________________________________________________\n",
            "dense_8 (Dense)              (None, 100)               10100     \n",
            "_________________________________________________________________\n",
            "dense_9 (Dense)              (None, 100)               10100     \n",
            "_________________________________________________________________\n",
            "dense_10 (Dense)             (None, 100)               10100     \n",
            "_________________________________________________________________\n",
            "dense_11 (Dense)             (None, 100)               10100     \n",
            "_________________________________________________________________\n",
            "dense_12 (Dense)             (None, 100)               10100     \n",
            "_________________________________________________________________\n",
            "dense_13 (Dense)             (None, 100)               10100     \n",
            "_________________________________________________________________\n",
            "dense_14 (Dense)             (None, 100)               10100     \n",
            "_________________________________________________________________\n",
            "dense_15 (Dense)             (None, 100)               10100     \n",
            "_________________________________________________________________\n",
            "dense_16 (Dense)             (None, 100)               10100     \n",
            "_________________________________________________________________\n",
            "dense_17 (Dense)             (None, 100)               10100     \n",
            "_________________________________________________________________\n",
            "dense_18 (Dense)             (None, 100)               10100     \n",
            "_________________________________________________________________\n",
            "dense_19 (Dense)             (None, 100)               10100     \n",
            "_________________________________________________________________\n",
            "dense_20 (Dense)             (None, 1)                 101       \n",
            "=================================================================\n",
            "Total params: 197,401\n",
            "Trainable params: 197,401\n",
            "Non-trainable params: 0\n",
            "_________________________________________________________________\n"
          ],
          "name": "stdout"
        }
      ]
    },
    {
      "cell_type": "code",
      "metadata": {
        "colab": {
          "base_uri": "https://localhost:8080/"
        },
        "id": "T3RkrenPAXV0",
        "outputId": "31ee4d7b-d154-4a8d-ff33-b2cc1c9adc51"
      },
      "source": [
        "model.compile(loss='mse', optimizer='Adam')\n",
        "early_stopping_cb = keras.callbacks.EarlyStopping(patience=20)\n",
        "model_checkpoint_cb = keras.callbacks.ModelCheckpoint('hdb_nn_model.h5', monitor='val_loss', save_best_only=True)\n",
        "callbacks = [early_stopping_cb, model_checkpoint_cb]\n",
        "model.fit(X_train, y_train, epochs=100, validation_data=(X_valid, y_valid), callbacks=callbacks)"
      ],
      "execution_count": 76,
      "outputs": [
        {
          "output_type": "stream",
          "text": [
            "Epoch 1/100\n",
            "2098/2098 [==============================] - 13s 4ms/step - loss: 7655420416.0000 - val_loss: 4189819136.0000\n",
            "Epoch 2/100\n",
            "2098/2098 [==============================] - 9s 4ms/step - loss: 4351688192.0000 - val_loss: 3899062272.0000\n",
            "Epoch 3/100\n",
            "2098/2098 [==============================] - 9s 4ms/step - loss: 3893050880.0000 - val_loss: 3447206656.0000\n",
            "Epoch 4/100\n",
            "2098/2098 [==============================] - 8s 4ms/step - loss: 3581044224.0000 - val_loss: 3357180160.0000\n",
            "Epoch 5/100\n",
            "2098/2098 [==============================] - 8s 4ms/step - loss: 3403307008.0000 - val_loss: 3047028736.0000\n",
            "Epoch 6/100\n",
            "2098/2098 [==============================] - 8s 4ms/step - loss: 3234568704.0000 - val_loss: 3052896256.0000\n",
            "Epoch 7/100\n",
            "2098/2098 [==============================] - 9s 4ms/step - loss: 3037198848.0000 - val_loss: 2856024320.0000\n",
            "Epoch 8/100\n",
            "2098/2098 [==============================] - 8s 4ms/step - loss: 2916798720.0000 - val_loss: 2883177984.0000\n",
            "Epoch 9/100\n",
            "2098/2098 [==============================] - 9s 4ms/step - loss: 2787074304.0000 - val_loss: 2801523712.0000\n",
            "Epoch 10/100\n",
            "2098/2098 [==============================] - 9s 4ms/step - loss: 2659304192.0000 - val_loss: 3212741120.0000\n",
            "Epoch 11/100\n",
            "2098/2098 [==============================] - 8s 4ms/step - loss: 2568739584.0000 - val_loss: 2469682176.0000\n",
            "Epoch 12/100\n",
            "2098/2098 [==============================] - 9s 4ms/step - loss: 2505109760.0000 - val_loss: 2544573440.0000\n",
            "Epoch 13/100\n",
            "2098/2098 [==============================] - 9s 4ms/step - loss: 2454162688.0000 - val_loss: 2331906816.0000\n",
            "Epoch 14/100\n",
            "2098/2098 [==============================] - 9s 4ms/step - loss: 2276786688.0000 - val_loss: 2298098432.0000\n",
            "Epoch 15/100\n",
            "2098/2098 [==============================] - 9s 4ms/step - loss: 5258826240.0000 - val_loss: 3890467072.0000\n",
            "Epoch 16/100\n",
            "2098/2098 [==============================] - 8s 4ms/step - loss: 3617323776.0000 - val_loss: 3330965760.0000\n",
            "Epoch 17/100\n",
            "2098/2098 [==============================] - 8s 4ms/step - loss: 3145328384.0000 - val_loss: 3146980864.0000\n",
            "Epoch 18/100\n",
            "2098/2098 [==============================] - 9s 4ms/step - loss: 2897167360.0000 - val_loss: 2801843968.0000\n",
            "Epoch 19/100\n",
            "2098/2098 [==============================] - 9s 4ms/step - loss: 2760754688.0000 - val_loss: 2555051520.0000\n",
            "Epoch 20/100\n",
            "2098/2098 [==============================] - 8s 4ms/step - loss: 2651140864.0000 - val_loss: 3230337024.0000\n",
            "Epoch 21/100\n",
            "2098/2098 [==============================] - 9s 4ms/step - loss: 2494304256.0000 - val_loss: 3024449792.0000\n",
            "Epoch 22/100\n",
            "2098/2098 [==============================] - 8s 4ms/step - loss: 2439601920.0000 - val_loss: 2304933376.0000\n",
            "Epoch 23/100\n",
            "2098/2098 [==============================] - 9s 4ms/step - loss: 2369326336.0000 - val_loss: 2260308736.0000\n",
            "Epoch 24/100\n",
            "2098/2098 [==============================] - 9s 4ms/step - loss: 2261957120.0000 - val_loss: 2582269440.0000\n",
            "Epoch 25/100\n",
            "2098/2098 [==============================] - 9s 4ms/step - loss: 2185881088.0000 - val_loss: 2145496960.0000\n",
            "Epoch 26/100\n",
            "2098/2098 [==============================] - 9s 4ms/step - loss: 2140770432.0000 - val_loss: 2308503040.0000\n",
            "Epoch 27/100\n",
            "2098/2098 [==============================] - 8s 4ms/step - loss: 2117725440.0000 - val_loss: 2092073728.0000\n",
            "Epoch 28/100\n",
            "2098/2098 [==============================] - 8s 4ms/step - loss: 2051620608.0000 - val_loss: 3626720768.0000\n",
            "Epoch 29/100\n",
            "2098/2098 [==============================] - 8s 4ms/step - loss: 2052748416.0000 - val_loss: 1989076736.0000\n",
            "Epoch 30/100\n",
            "2098/2098 [==============================] - 8s 4ms/step - loss: 1951243008.0000 - val_loss: 1926433920.0000\n",
            "Epoch 31/100\n",
            "2098/2098 [==============================] - 8s 4ms/step - loss: 1943901824.0000 - val_loss: 1902939264.0000\n",
            "Epoch 32/100\n",
            "2098/2098 [==============================] - 8s 4ms/step - loss: 1897862656.0000 - val_loss: 1861410048.0000\n",
            "Epoch 33/100\n",
            "2098/2098 [==============================] - 8s 4ms/step - loss: 1889037440.0000 - val_loss: 2191619584.0000\n",
            "Epoch 34/100\n",
            "2098/2098 [==============================] - 8s 4ms/step - loss: 1833198848.0000 - val_loss: 2000991360.0000\n",
            "Epoch 35/100\n",
            "2098/2098 [==============================] - 9s 4ms/step - loss: 1825905152.0000 - val_loss: 2201043200.0000\n",
            "Epoch 36/100\n",
            "2098/2098 [==============================] - 9s 4ms/step - loss: 1800918912.0000 - val_loss: 1896197120.0000\n",
            "Epoch 37/100\n",
            "2098/2098 [==============================] - 9s 4ms/step - loss: 1773377152.0000 - val_loss: 1970355840.0000\n",
            "Epoch 38/100\n",
            "2098/2098 [==============================] - 8s 4ms/step - loss: 1746374400.0000 - val_loss: 1892341888.0000\n",
            "Epoch 39/100\n",
            "2098/2098 [==============================] - 8s 4ms/step - loss: 1767004672.0000 - val_loss: 1985979136.0000\n",
            "Epoch 40/100\n",
            "2098/2098 [==============================] - 9s 4ms/step - loss: 1750504832.0000 - val_loss: 1745904640.0000\n",
            "Epoch 41/100\n",
            "2098/2098 [==============================] - 8s 4ms/step - loss: 1700978816.0000 - val_loss: 1810010880.0000\n",
            "Epoch 42/100\n",
            "2098/2098 [==============================] - 8s 4ms/step - loss: 1704212480.0000 - val_loss: 1763037056.0000\n",
            "Epoch 43/100\n",
            "2098/2098 [==============================] - 8s 4ms/step - loss: 1632792704.0000 - val_loss: 1832648832.0000\n",
            "Epoch 44/100\n",
            "2098/2098 [==============================] - 8s 4ms/step - loss: 1654994688.0000 - val_loss: 1815975552.0000\n",
            "Epoch 45/100\n",
            "2098/2098 [==============================] - 8s 4ms/step - loss: 1637294720.0000 - val_loss: 1946196992.0000\n",
            "Epoch 46/100\n",
            "2098/2098 [==============================] - 8s 4ms/step - loss: 1629256832.0000 - val_loss: 2540489216.0000\n",
            "Epoch 47/100\n",
            "2098/2098 [==============================] - 9s 4ms/step - loss: 1608709760.0000 - val_loss: 1748613248.0000\n",
            "Epoch 48/100\n",
            "2098/2098 [==============================] - 9s 4ms/step - loss: 1614519808.0000 - val_loss: 1660193152.0000\n",
            "Epoch 49/100\n",
            "2098/2098 [==============================] - 9s 4ms/step - loss: 1562564736.0000 - val_loss: 2598213376.0000\n",
            "Epoch 50/100\n",
            "2098/2098 [==============================] - 9s 4ms/step - loss: 1533991552.0000 - val_loss: 1674681856.0000\n",
            "Epoch 51/100\n",
            "2098/2098 [==============================] - 8s 4ms/step - loss: 1548742784.0000 - val_loss: 1711871488.0000\n",
            "Epoch 52/100\n",
            "2098/2098 [==============================] - 9s 4ms/step - loss: 1544759808.0000 - val_loss: 1683136256.0000\n",
            "Epoch 53/100\n",
            "2098/2098 [==============================] - 8s 4ms/step - loss: 1487601920.0000 - val_loss: 1660249600.0000\n",
            "Epoch 54/100\n",
            "2098/2098 [==============================] - 8s 4ms/step - loss: 1519324288.0000 - val_loss: 1627613440.0000\n",
            "Epoch 55/100\n",
            "2098/2098 [==============================] - 8s 4ms/step - loss: 1493380736.0000 - val_loss: 1793880832.0000\n",
            "Epoch 56/100\n",
            "2098/2098 [==============================] - 9s 4ms/step - loss: 1480225920.0000 - val_loss: 1704670720.0000\n",
            "Epoch 57/100\n",
            "2098/2098 [==============================] - 8s 4ms/step - loss: 1479184896.0000 - val_loss: 2284643072.0000\n",
            "Epoch 58/100\n",
            "2098/2098 [==============================] - 9s 4ms/step - loss: 1468258688.0000 - val_loss: 1643476096.0000\n",
            "Epoch 59/100\n",
            "2098/2098 [==============================] - 9s 4ms/step - loss: 1444013312.0000 - val_loss: 1777429376.0000\n",
            "Epoch 60/100\n",
            "2098/2098 [==============================] - 8s 4ms/step - loss: 1446698752.0000 - val_loss: 1696949888.0000\n",
            "Epoch 61/100\n",
            "2098/2098 [==============================] - 8s 4ms/step - loss: 1455785728.0000 - val_loss: 1949210496.0000\n",
            "Epoch 62/100\n",
            "2098/2098 [==============================] - 9s 4ms/step - loss: 1416438784.0000 - val_loss: 1630852096.0000\n",
            "Epoch 63/100\n",
            "2098/2098 [==============================] - 8s 4ms/step - loss: 1415798656.0000 - val_loss: 1616247168.0000\n",
            "Epoch 64/100\n",
            "2098/2098 [==============================] - 9s 4ms/step - loss: 1404601088.0000 - val_loss: 1774198528.0000\n",
            "Epoch 65/100\n",
            "2098/2098 [==============================] - 9s 4ms/step - loss: 1405609088.0000 - val_loss: 1620027904.0000\n",
            "Epoch 66/100\n",
            "2098/2098 [==============================] - 8s 4ms/step - loss: 1408191616.0000 - val_loss: 1562538624.0000\n",
            "Epoch 67/100\n",
            "2098/2098 [==============================] - 8s 4ms/step - loss: 1383494656.0000 - val_loss: 2012696064.0000\n",
            "Epoch 68/100\n",
            "2098/2098 [==============================] - 8s 4ms/step - loss: 1375608960.0000 - val_loss: 1961517568.0000\n",
            "Epoch 69/100\n",
            "2098/2098 [==============================] - 9s 4ms/step - loss: 1367314944.0000 - val_loss: 1761647360.0000\n",
            "Epoch 70/100\n",
            "2098/2098 [==============================] - 8s 4ms/step - loss: 1389259264.0000 - val_loss: 1548309120.0000\n",
            "Epoch 71/100\n",
            "2098/2098 [==============================] - 9s 4ms/step - loss: 1355182720.0000 - val_loss: 1942789248.0000\n",
            "Epoch 72/100\n",
            "2098/2098 [==============================] - 8s 4ms/step - loss: 1343040512.0000 - val_loss: 1783691904.0000\n",
            "Epoch 73/100\n",
            "2098/2098 [==============================] - 8s 4ms/step - loss: 1348296960.0000 - val_loss: 1551429632.0000\n",
            "Epoch 74/100\n",
            "2098/2098 [==============================] - 8s 4ms/step - loss: 1352313216.0000 - val_loss: 1725169664.0000\n",
            "Epoch 75/100\n",
            "2098/2098 [==============================] - 9s 4ms/step - loss: 1317647360.0000 - val_loss: 1496810752.0000\n",
            "Epoch 76/100\n",
            "2098/2098 [==============================] - 9s 4ms/step - loss: 1335704960.0000 - val_loss: 1441063808.0000\n",
            "Epoch 77/100\n",
            "2098/2098 [==============================] - 9s 4ms/step - loss: 1314627584.0000 - val_loss: 1551498240.0000\n",
            "Epoch 78/100\n",
            "2098/2098 [==============================] - 9s 4ms/step - loss: 1318931456.0000 - val_loss: 1975247104.0000\n",
            "Epoch 79/100\n",
            "2098/2098 [==============================] - 9s 4ms/step - loss: 1303856768.0000 - val_loss: 1469368576.0000\n",
            "Epoch 80/100\n",
            "2098/2098 [==============================] - 9s 4ms/step - loss: 1307993088.0000 - val_loss: 1467511296.0000\n",
            "Epoch 81/100\n",
            "2098/2098 [==============================] - 9s 4ms/step - loss: 1293262976.0000 - val_loss: 1923671936.0000\n",
            "Epoch 82/100\n",
            "2098/2098 [==============================] - 8s 4ms/step - loss: 1297663616.0000 - val_loss: 1606927616.0000\n",
            "Epoch 83/100\n",
            "2098/2098 [==============================] - 8s 4ms/step - loss: 1301674240.0000 - val_loss: 1805386880.0000\n",
            "Epoch 84/100\n",
            "2098/2098 [==============================] - 8s 4ms/step - loss: 1295900544.0000 - val_loss: 1731800832.0000\n",
            "Epoch 85/100\n",
            "2098/2098 [==============================] - 9s 4ms/step - loss: 1272938496.0000 - val_loss: 1574534144.0000\n",
            "Epoch 86/100\n",
            "2098/2098 [==============================] - 9s 4ms/step - loss: 1274170752.0000 - val_loss: 1582891648.0000\n",
            "Epoch 87/100\n",
            "2098/2098 [==============================] - 8s 4ms/step - loss: 1265072128.0000 - val_loss: 1610346624.0000\n",
            "Epoch 88/100\n",
            "2098/2098 [==============================] - 8s 4ms/step - loss: 1252260608.0000 - val_loss: 1472947968.0000\n",
            "Epoch 89/100\n",
            "2098/2098 [==============================] - 9s 4ms/step - loss: 1266296960.0000 - val_loss: 1787187584.0000\n",
            "Epoch 90/100\n",
            "2098/2098 [==============================] - 8s 4ms/step - loss: 1255279232.0000 - val_loss: 1489951488.0000\n",
            "Epoch 91/100\n",
            "2098/2098 [==============================] - 9s 4ms/step - loss: 1241398144.0000 - val_loss: 1583662976.0000\n",
            "Epoch 92/100\n",
            "2098/2098 [==============================] - 8s 4ms/step - loss: 1240783744.0000 - val_loss: 1976874112.0000\n",
            "Epoch 93/100\n",
            "2098/2098 [==============================] - 8s 4ms/step - loss: 1245931520.0000 - val_loss: 1607951616.0000\n",
            "Epoch 94/100\n",
            "2098/2098 [==============================] - 8s 4ms/step - loss: 1233043584.0000 - val_loss: 1457418112.0000\n",
            "Epoch 95/100\n",
            "2098/2098 [==============================] - 8s 4ms/step - loss: 1233608192.0000 - val_loss: 1486671104.0000\n",
            "Epoch 96/100\n",
            "2098/2098 [==============================] - 9s 4ms/step - loss: 1220173696.0000 - val_loss: 1462237952.0000\n"
          ],
          "name": "stdout"
        },
        {
          "output_type": "execute_result",
          "data": {
            "text/plain": [
              "<keras.callbacks.History at 0x7fc363f00910>"
            ]
          },
          "metadata": {},
          "execution_count": 76
        }
      ]
    },
    {
      "cell_type": "code",
      "metadata": {
        "colab": {
          "base_uri": "https://localhost:8080/"
        },
        "id": "dhUM2YtMBOhW",
        "outputId": "f024320a-6ef6-463f-cd80-b0e1f1898273"
      },
      "source": [
        "model = keras.models.load_model('hdb_nn_model.h5')\n",
        "y_pred = model.predict(X_valid)\n",
        "ann_mse = mean_squared_error(y_valid, y_pred)\n",
        "ann_rmse = np.sqrt(ann_mse)\n",
        "ann_rmse"
      ],
      "execution_count": 77,
      "outputs": [
        {
          "output_type": "execute_result",
          "data": {
            "text/plain": [
              "37961.349845130164"
            ]
          },
          "metadata": {},
          "execution_count": 77
        }
      ]
    },
    {
      "cell_type": "code",
      "metadata": {
        "colab": {
          "base_uri": "https://localhost:8080/"
        },
        "id": "BJCHnMLrllAm",
        "outputId": "3f8710d4-8923-4436-f698-1f19e3ee26cd"
      },
      "source": [
        "y_pred = model.predict(X_train)\n",
        "ann_mse = mean_squared_error(y_train, y_pred)\n",
        "ann_rmse = np.sqrt(ann_mse)\n",
        "ann_rmse"
      ],
      "execution_count": 78,
      "outputs": [
        {
          "output_type": "execute_result",
          "data": {
            "text/plain": [
              "33337.66246722167"
            ]
          },
          "metadata": {},
          "execution_count": 78
        }
      ]
    },
    {
      "cell_type": "markdown",
      "metadata": {
        "id": "vMbIR-zDlvRF"
      },
      "source": [
        "The DNN model performs better than the previous models in terms of lower RMSE on the validation dataset, and also it does not overfit the training dataset."
      ]
    },
    {
      "cell_type": "markdown",
      "metadata": {
        "id": "M8uwo5V5MC3P"
      },
      "source": [
        "We will try adding BatchNormalization() to see if it improves the model:"
      ]
    },
    {
      "cell_type": "code",
      "metadata": {
        "id": "k08x2o7JE9Rd"
      },
      "source": [
        "keras.backend.clear_session()\n",
        "tf.random.set_seed(42)\n",
        "np.random.seed(42)"
      ],
      "execution_count": 79,
      "outputs": []
    },
    {
      "cell_type": "code",
      "metadata": {
        "id": "mK-jHM7fNxsQ"
      },
      "source": [
        "model = keras.models.Sequential()\n",
        "model.add(keras.layers.Input(shape=X_train.shape[-1]))\n",
        "model.add(keras.layers.BatchNormalization())\n",
        "for _ in range(20):\n",
        "  model.add(keras.layers.Dense(100, kernel_initializer='he_normal'))\n",
        "  model.add(keras.layers.BatchNormalization())\n",
        "  model.add(keras.layers.Activation('elu'))\n",
        "model.add(keras.layers.Dense(1))"
      ],
      "execution_count": 80,
      "outputs": []
    },
    {
      "cell_type": "code",
      "metadata": {
        "colab": {
          "base_uri": "https://localhost:8080/"
        },
        "id": "3xP-8k4uOHqh",
        "outputId": "f103d726-cb52-444b-809a-70a26d6b58e7"
      },
      "source": [
        "model.summary()"
      ],
      "execution_count": 81,
      "outputs": [
        {
          "output_type": "stream",
          "text": [
            "Model: \"sequential\"\n",
            "_________________________________________________________________\n",
            "Layer (type)                 Output Shape              Param #   \n",
            "=================================================================\n",
            "batch_normalization (BatchNo (None, 53)                212       \n",
            "_________________________________________________________________\n",
            "dense (Dense)                (None, 100)               5400      \n",
            "_________________________________________________________________\n",
            "batch_normalization_1 (Batch (None, 100)               400       \n",
            "_________________________________________________________________\n",
            "activation (Activation)      (None, 100)               0         \n",
            "_________________________________________________________________\n",
            "dense_1 (Dense)              (None, 100)               10100     \n",
            "_________________________________________________________________\n",
            "batch_normalization_2 (Batch (None, 100)               400       \n",
            "_________________________________________________________________\n",
            "activation_1 (Activation)    (None, 100)               0         \n",
            "_________________________________________________________________\n",
            "dense_2 (Dense)              (None, 100)               10100     \n",
            "_________________________________________________________________\n",
            "batch_normalization_3 (Batch (None, 100)               400       \n",
            "_________________________________________________________________\n",
            "activation_2 (Activation)    (None, 100)               0         \n",
            "_________________________________________________________________\n",
            "dense_3 (Dense)              (None, 100)               10100     \n",
            "_________________________________________________________________\n",
            "batch_normalization_4 (Batch (None, 100)               400       \n",
            "_________________________________________________________________\n",
            "activation_3 (Activation)    (None, 100)               0         \n",
            "_________________________________________________________________\n",
            "dense_4 (Dense)              (None, 100)               10100     \n",
            "_________________________________________________________________\n",
            "batch_normalization_5 (Batch (None, 100)               400       \n",
            "_________________________________________________________________\n",
            "activation_4 (Activation)    (None, 100)               0         \n",
            "_________________________________________________________________\n",
            "dense_5 (Dense)              (None, 100)               10100     \n",
            "_________________________________________________________________\n",
            "batch_normalization_6 (Batch (None, 100)               400       \n",
            "_________________________________________________________________\n",
            "activation_5 (Activation)    (None, 100)               0         \n",
            "_________________________________________________________________\n",
            "dense_6 (Dense)              (None, 100)               10100     \n",
            "_________________________________________________________________\n",
            "batch_normalization_7 (Batch (None, 100)               400       \n",
            "_________________________________________________________________\n",
            "activation_6 (Activation)    (None, 100)               0         \n",
            "_________________________________________________________________\n",
            "dense_7 (Dense)              (None, 100)               10100     \n",
            "_________________________________________________________________\n",
            "batch_normalization_8 (Batch (None, 100)               400       \n",
            "_________________________________________________________________\n",
            "activation_7 (Activation)    (None, 100)               0         \n",
            "_________________________________________________________________\n",
            "dense_8 (Dense)              (None, 100)               10100     \n",
            "_________________________________________________________________\n",
            "batch_normalization_9 (Batch (None, 100)               400       \n",
            "_________________________________________________________________\n",
            "activation_8 (Activation)    (None, 100)               0         \n",
            "_________________________________________________________________\n",
            "dense_9 (Dense)              (None, 100)               10100     \n",
            "_________________________________________________________________\n",
            "batch_normalization_10 (Batc (None, 100)               400       \n",
            "_________________________________________________________________\n",
            "activation_9 (Activation)    (None, 100)               0         \n",
            "_________________________________________________________________\n",
            "dense_10 (Dense)             (None, 100)               10100     \n",
            "_________________________________________________________________\n",
            "batch_normalization_11 (Batc (None, 100)               400       \n",
            "_________________________________________________________________\n",
            "activation_10 (Activation)   (None, 100)               0         \n",
            "_________________________________________________________________\n",
            "dense_11 (Dense)             (None, 100)               10100     \n",
            "_________________________________________________________________\n",
            "batch_normalization_12 (Batc (None, 100)               400       \n",
            "_________________________________________________________________\n",
            "activation_11 (Activation)   (None, 100)               0         \n",
            "_________________________________________________________________\n",
            "dense_12 (Dense)             (None, 100)               10100     \n",
            "_________________________________________________________________\n",
            "batch_normalization_13 (Batc (None, 100)               400       \n",
            "_________________________________________________________________\n",
            "activation_12 (Activation)   (None, 100)               0         \n",
            "_________________________________________________________________\n",
            "dense_13 (Dense)             (None, 100)               10100     \n",
            "_________________________________________________________________\n",
            "batch_normalization_14 (Batc (None, 100)               400       \n",
            "_________________________________________________________________\n",
            "activation_13 (Activation)   (None, 100)               0         \n",
            "_________________________________________________________________\n",
            "dense_14 (Dense)             (None, 100)               10100     \n",
            "_________________________________________________________________\n",
            "batch_normalization_15 (Batc (None, 100)               400       \n",
            "_________________________________________________________________\n",
            "activation_14 (Activation)   (None, 100)               0         \n",
            "_________________________________________________________________\n",
            "dense_15 (Dense)             (None, 100)               10100     \n",
            "_________________________________________________________________\n",
            "batch_normalization_16 (Batc (None, 100)               400       \n",
            "_________________________________________________________________\n",
            "activation_15 (Activation)   (None, 100)               0         \n",
            "_________________________________________________________________\n",
            "dense_16 (Dense)             (None, 100)               10100     \n",
            "_________________________________________________________________\n",
            "batch_normalization_17 (Batc (None, 100)               400       \n",
            "_________________________________________________________________\n",
            "activation_16 (Activation)   (None, 100)               0         \n",
            "_________________________________________________________________\n",
            "dense_17 (Dense)             (None, 100)               10100     \n",
            "_________________________________________________________________\n",
            "batch_normalization_18 (Batc (None, 100)               400       \n",
            "_________________________________________________________________\n",
            "activation_17 (Activation)   (None, 100)               0         \n",
            "_________________________________________________________________\n",
            "dense_18 (Dense)             (None, 100)               10100     \n",
            "_________________________________________________________________\n",
            "batch_normalization_19 (Batc (None, 100)               400       \n",
            "_________________________________________________________________\n",
            "activation_18 (Activation)   (None, 100)               0         \n",
            "_________________________________________________________________\n",
            "dense_19 (Dense)             (None, 100)               10100     \n",
            "_________________________________________________________________\n",
            "batch_normalization_20 (Batc (None, 100)               400       \n",
            "_________________________________________________________________\n",
            "activation_19 (Activation)   (None, 100)               0         \n",
            "_________________________________________________________________\n",
            "dense_20 (Dense)             (None, 1)                 101       \n",
            "=================================================================\n",
            "Total params: 205,613\n",
            "Trainable params: 201,507\n",
            "Non-trainable params: 4,106\n",
            "_________________________________________________________________\n"
          ],
          "name": "stdout"
        }
      ]
    },
    {
      "cell_type": "markdown",
      "metadata": {
        "id": "-fxtBapSmzNE"
      },
      "source": [
        "It makes sense to first scale the label data (i.e., y_train), or else it will explode the weights connected to the output layer:"
      ]
    },
    {
      "cell_type": "code",
      "metadata": {
        "id": "C1eVxg5Rft7y"
      },
      "source": [
        "scaler = StandardScaler()\n",
        "y_train_scaled = scaler.fit_transform(y_train)\n",
        "y_valid_scaled = scaler.transform(y_valid)"
      ],
      "execution_count": 82,
      "outputs": []
    },
    {
      "cell_type": "code",
      "metadata": {
        "colab": {
          "base_uri": "https://localhost:8080/"
        },
        "id": "ygIZkquhOKj8",
        "outputId": "cc43b91d-1533-4100-9be9-069894c84648"
      },
      "source": [
        "optimizer = keras.optimizers.Adam(learning_rate=0.01)\n",
        "model.compile(loss='mse', optimizer=optimizer)\n",
        "early_stopping_cb = keras.callbacks.EarlyStopping(patience=20)\n",
        "model_checkpoint_cb = keras.callbacks.ModelCheckpoint('hdb_nn_model_v1.h5', monitor='val_loss', save_best_only=True)\n",
        "callbacks = [early_stopping_cb, model_checkpoint_cb]\n",
        "model.fit(X_train, y_train_scaled, epochs=100, validation_data=(X_valid, y_valid_scaled), callbacks=callbacks)"
      ],
      "execution_count": 83,
      "outputs": [
        {
          "output_type": "stream",
          "text": [
            "Epoch 1/100\n",
            "2098/2098 [==============================] - 37s 16ms/step - loss: 0.2949 - val_loss: 0.3352\n",
            "Epoch 2/100\n",
            "2098/2098 [==============================] - 32s 15ms/step - loss: 0.2455 - val_loss: 1.3266\n",
            "Epoch 3/100\n",
            "2098/2098 [==============================] - 33s 16ms/step - loss: 0.2322 - val_loss: 0.4062\n",
            "Epoch 4/100\n",
            "2098/2098 [==============================] - 32s 15ms/step - loss: 0.2239 - val_loss: 1.0954\n",
            "Epoch 5/100\n",
            "2098/2098 [==============================] - 34s 16ms/step - loss: 0.2172 - val_loss: 0.6386\n",
            "Epoch 6/100\n",
            "2098/2098 [==============================] - 33s 16ms/step - loss: 0.2073 - val_loss: 1.0198\n",
            "Epoch 7/100\n",
            "2098/2098 [==============================] - 33s 16ms/step - loss: 0.1965 - val_loss: 0.8250\n",
            "Epoch 8/100\n",
            "2098/2098 [==============================] - 33s 16ms/step - loss: 0.1912 - val_loss: 0.2293\n",
            "Epoch 9/100\n",
            "2098/2098 [==============================] - 33s 16ms/step - loss: 0.1864 - val_loss: 6.0478\n",
            "Epoch 10/100\n",
            "2098/2098 [==============================] - 33s 16ms/step - loss: 0.1776 - val_loss: 0.4631\n",
            "Epoch 11/100\n",
            "2098/2098 [==============================] - 34s 16ms/step - loss: 0.1747 - val_loss: 0.6756\n",
            "Epoch 12/100\n",
            "2098/2098 [==============================] - 31s 15ms/step - loss: 0.1731 - val_loss: 0.2534\n",
            "Epoch 13/100\n",
            "2098/2098 [==============================] - 31s 15ms/step - loss: 0.1698 - val_loss: 0.2353\n",
            "Epoch 14/100\n",
            "2098/2098 [==============================] - 34s 16ms/step - loss: 0.1663 - val_loss: 3.6304\n",
            "Epoch 15/100\n",
            "2098/2098 [==============================] - 34s 16ms/step - loss: 0.1641 - val_loss: 0.2330\n",
            "Epoch 16/100\n",
            "2098/2098 [==============================] - 32s 15ms/step - loss: 0.1610 - val_loss: 0.1755\n",
            "Epoch 17/100\n",
            "2098/2098 [==============================] - 34s 16ms/step - loss: 0.1590 - val_loss: 1.1504\n",
            "Epoch 18/100\n",
            "2098/2098 [==============================] - 32s 15ms/step - loss: 0.1561 - val_loss: 0.1811\n",
            "Epoch 19/100\n",
            "2098/2098 [==============================] - 34s 16ms/step - loss: 0.1560 - val_loss: 0.3577\n",
            "Epoch 20/100\n",
            "2098/2098 [==============================] - 33s 16ms/step - loss: 0.1539 - val_loss: 0.2339\n",
            "Epoch 21/100\n",
            "2098/2098 [==============================] - 32s 15ms/step - loss: 0.1528 - val_loss: 0.1704\n",
            "Epoch 22/100\n",
            "2098/2098 [==============================] - 33s 16ms/step - loss: 0.1531 - val_loss: 0.1633\n",
            "Epoch 23/100\n",
            "2098/2098 [==============================] - 33s 16ms/step - loss: 0.1607 - val_loss: 0.1525\n",
            "Epoch 24/100\n",
            "2098/2098 [==============================] - 32s 15ms/step - loss: 0.1508 - val_loss: 0.2570\n",
            "Epoch 25/100\n",
            "2098/2098 [==============================] - 32s 15ms/step - loss: 0.1491 - val_loss: 0.2685\n",
            "Epoch 26/100\n",
            "2098/2098 [==============================] - 32s 15ms/step - loss: 0.1486 - val_loss: 1.1651\n",
            "Epoch 27/100\n",
            "2098/2098 [==============================] - 32s 15ms/step - loss: 0.1492 - val_loss: 0.4382\n",
            "Epoch 28/100\n",
            "2098/2098 [==============================] - 33s 16ms/step - loss: 0.1469 - val_loss: 0.5211\n",
            "Epoch 29/100\n",
            "2098/2098 [==============================] - 32s 15ms/step - loss: 0.1466 - val_loss: 0.1753\n",
            "Epoch 30/100\n",
            "2098/2098 [==============================] - 34s 16ms/step - loss: 0.1453 - val_loss: 0.1512\n",
            "Epoch 31/100\n",
            "2098/2098 [==============================] - 33s 16ms/step - loss: 0.1470 - val_loss: 0.1690\n",
            "Epoch 32/100\n",
            "2098/2098 [==============================] - 32s 15ms/step - loss: 0.1435 - val_loss: 0.2699\n",
            "Epoch 33/100\n",
            "2098/2098 [==============================] - 31s 15ms/step - loss: 0.1424 - val_loss: 0.2597\n",
            "Epoch 34/100\n",
            "2098/2098 [==============================] - 31s 15ms/step - loss: 0.1462 - val_loss: 0.1508\n",
            "Epoch 35/100\n",
            "2098/2098 [==============================] - 33s 16ms/step - loss: 0.1429 - val_loss: 0.1794\n",
            "Epoch 36/100\n",
            "2098/2098 [==============================] - 33s 16ms/step - loss: 0.1428 - val_loss: 0.2477\n",
            "Epoch 37/100\n",
            "2098/2098 [==============================] - 34s 16ms/step - loss: 0.1408 - val_loss: 0.1538\n",
            "Epoch 38/100\n",
            "2098/2098 [==============================] - 32s 15ms/step - loss: 0.1413 - val_loss: 0.1985\n",
            "Epoch 39/100\n",
            "2098/2098 [==============================] - 33s 16ms/step - loss: 0.1414 - val_loss: 0.1523\n",
            "Epoch 40/100\n",
            "2098/2098 [==============================] - 32s 15ms/step - loss: 0.1394 - val_loss: 0.1681\n",
            "Epoch 41/100\n",
            "2098/2098 [==============================] - 34s 16ms/step - loss: 0.1421 - val_loss: 0.1968\n",
            "Epoch 42/100\n",
            "2098/2098 [==============================] - 32s 15ms/step - loss: 0.1383 - val_loss: 0.1935\n",
            "Epoch 43/100\n",
            "2098/2098 [==============================] - 34s 16ms/step - loss: 0.1389 - val_loss: 0.1532\n",
            "Epoch 44/100\n",
            "2098/2098 [==============================] - 34s 16ms/step - loss: 0.1370 - val_loss: 0.1554\n",
            "Epoch 45/100\n",
            "2098/2098 [==============================] - 33s 16ms/step - loss: 0.1393 - val_loss: 0.2028\n",
            "Epoch 46/100\n",
            "2098/2098 [==============================] - 33s 16ms/step - loss: 0.1392 - val_loss: 0.1625\n",
            "Epoch 47/100\n",
            "2098/2098 [==============================] - 35s 17ms/step - loss: 0.1372 - val_loss: 0.1876\n",
            "Epoch 48/100\n",
            "2098/2098 [==============================] - 34s 16ms/step - loss: 0.1379 - val_loss: 0.3202\n",
            "Epoch 49/100\n",
            "2098/2098 [==============================] - 35s 17ms/step - loss: 0.1366 - val_loss: 0.4707\n",
            "Epoch 50/100\n",
            "2098/2098 [==============================] - 34s 16ms/step - loss: 0.1364 - val_loss: 0.1612\n",
            "Epoch 51/100\n",
            "2098/2098 [==============================] - 35s 16ms/step - loss: 0.1358 - val_loss: 0.3911\n",
            "Epoch 52/100\n",
            "2098/2098 [==============================] - 32s 15ms/step - loss: 0.1340 - val_loss: 0.1496\n",
            "Epoch 53/100\n",
            "2098/2098 [==============================] - 31s 15ms/step - loss: 0.1356 - val_loss: 0.1469\n",
            "Epoch 54/100\n",
            "2098/2098 [==============================] - 33s 16ms/step - loss: 0.1358 - val_loss: 0.1487\n",
            "Epoch 55/100\n",
            "2098/2098 [==============================] - 32s 15ms/step - loss: 0.1357 - val_loss: 0.1737\n",
            "Epoch 56/100\n",
            "2098/2098 [==============================] - 33s 16ms/step - loss: 0.1353 - val_loss: 0.1468\n",
            "Epoch 57/100\n",
            "2098/2098 [==============================] - 32s 15ms/step - loss: 0.1349 - val_loss: 0.2354\n",
            "Epoch 58/100\n",
            "2098/2098 [==============================] - 32s 15ms/step - loss: 0.1347 - val_loss: 0.1604\n",
            "Epoch 59/100\n",
            "2098/2098 [==============================] - 34s 16ms/step - loss: 0.1334 - val_loss: 0.1361\n",
            "Epoch 60/100\n",
            "2098/2098 [==============================] - 34s 16ms/step - loss: 0.1330 - val_loss: 0.1515\n",
            "Epoch 61/100\n",
            "2098/2098 [==============================] - 34s 16ms/step - loss: 0.1329 - val_loss: 0.1510\n",
            "Epoch 62/100\n",
            "2098/2098 [==============================] - 31s 15ms/step - loss: 0.1334 - val_loss: 0.1427\n",
            "Epoch 63/100\n",
            "2098/2098 [==============================] - 31s 15ms/step - loss: 0.1321 - val_loss: 0.1575\n",
            "Epoch 64/100\n",
            "2098/2098 [==============================] - 33s 16ms/step - loss: 0.1328 - val_loss: 0.1544\n",
            "Epoch 65/100\n",
            "2098/2098 [==============================] - 33s 16ms/step - loss: 0.1319 - val_loss: 0.1608\n",
            "Epoch 66/100\n",
            "2098/2098 [==============================] - 31s 15ms/step - loss: 0.1321 - val_loss: 0.1519\n",
            "Epoch 67/100\n",
            "2098/2098 [==============================] - 31s 15ms/step - loss: 0.1319 - val_loss: 0.1817\n",
            "Epoch 68/100\n",
            "2098/2098 [==============================] - 33s 16ms/step - loss: 0.1323 - val_loss: 0.1860\n",
            "Epoch 69/100\n",
            "2098/2098 [==============================] - 33s 16ms/step - loss: 0.1310 - val_loss: 0.1432\n",
            "Epoch 70/100\n",
            "2098/2098 [==============================] - 33s 16ms/step - loss: 0.1305 - val_loss: 0.1330\n",
            "Epoch 71/100\n",
            "2098/2098 [==============================] - 34s 16ms/step - loss: 0.1297 - val_loss: 0.1425\n",
            "Epoch 72/100\n",
            "2098/2098 [==============================] - 33s 16ms/step - loss: 0.1313 - val_loss: 0.1378\n",
            "Epoch 73/100\n",
            "2098/2098 [==============================] - 33s 16ms/step - loss: 0.1296 - val_loss: 0.1715\n",
            "Epoch 74/100\n",
            "2098/2098 [==============================] - 34s 16ms/step - loss: 0.1305 - val_loss: 0.1299\n",
            "Epoch 75/100\n",
            "2098/2098 [==============================] - 33s 16ms/step - loss: 0.1297 - val_loss: 0.1298\n",
            "Epoch 76/100\n",
            "2098/2098 [==============================] - 34s 16ms/step - loss: 0.1294 - val_loss: 0.1372\n",
            "Epoch 77/100\n",
            "2098/2098 [==============================] - 33s 16ms/step - loss: 0.1288 - val_loss: 0.1485\n",
            "Epoch 78/100\n",
            "2098/2098 [==============================] - 32s 15ms/step - loss: 0.1293 - val_loss: 0.1395\n",
            "Epoch 79/100\n",
            "2098/2098 [==============================] - 34s 16ms/step - loss: 0.1292 - val_loss: 0.1351\n",
            "Epoch 80/100\n",
            "2098/2098 [==============================] - 33s 16ms/step - loss: 0.1289 - val_loss: 0.1422\n",
            "Epoch 81/100\n",
            "2098/2098 [==============================] - 33s 16ms/step - loss: 0.1284 - val_loss: 0.1396\n",
            "Epoch 82/100\n",
            "2098/2098 [==============================] - 33s 16ms/step - loss: 0.1279 - val_loss: 0.1562\n",
            "Epoch 83/100\n",
            "2098/2098 [==============================] - 34s 16ms/step - loss: 0.1275 - val_loss: 0.1338\n",
            "Epoch 84/100\n",
            "2098/2098 [==============================] - 36s 17ms/step - loss: 0.1282 - val_loss: 0.1586\n",
            "Epoch 85/100\n",
            "2098/2098 [==============================] - 34s 16ms/step - loss: 0.1271 - val_loss: 0.1621\n",
            "Epoch 86/100\n",
            "2098/2098 [==============================] - 33s 16ms/step - loss: 0.1281 - val_loss: 0.1749\n",
            "Epoch 87/100\n",
            "2098/2098 [==============================] - 33s 16ms/step - loss: 0.1282 - val_loss: 0.1546\n",
            "Epoch 88/100\n",
            "2098/2098 [==============================] - 33s 16ms/step - loss: 0.1274 - val_loss: 0.1373\n",
            "Epoch 89/100\n",
            "2098/2098 [==============================] - 34s 16ms/step - loss: 0.1282 - val_loss: 0.1515\n",
            "Epoch 90/100\n",
            "2098/2098 [==============================] - 34s 16ms/step - loss: 0.1268 - val_loss: 0.1331\n",
            "Epoch 91/100\n",
            "2098/2098 [==============================] - 34s 16ms/step - loss: 0.1276 - val_loss: 0.1341\n",
            "Epoch 92/100\n",
            "2098/2098 [==============================] - 34s 16ms/step - loss: 0.1273 - val_loss: 0.1402\n",
            "Epoch 93/100\n",
            "2098/2098 [==============================] - 33s 16ms/step - loss: 0.1259 - val_loss: 0.1345\n",
            "Epoch 94/100\n",
            "2098/2098 [==============================] - 34s 16ms/step - loss: 0.1259 - val_loss: 0.1326\n",
            "Epoch 95/100\n",
            "2098/2098 [==============================] - 33s 16ms/step - loss: 0.1259 - val_loss: 0.1374\n"
          ],
          "name": "stdout"
        },
        {
          "output_type": "execute_result",
          "data": {
            "text/plain": [
              "<keras.callbacks.History at 0x7fc31dde26d0>"
            ]
          },
          "metadata": {},
          "execution_count": 83
        }
      ]
    },
    {
      "cell_type": "code",
      "metadata": {
        "colab": {
          "base_uri": "https://localhost:8080/"
        },
        "id": "Q_i_y0f_OhFd",
        "outputId": "d5050cba-bf7d-41ca-be23-10fe0f380612"
      },
      "source": [
        "model = keras.models.load_model('hdb_nn_model_v1.h5')\n",
        "y_pred_scaled = model.predict(X_valid)\n",
        "y_pred = scaler.inverse_transform(y_pred_scaled)\n",
        "ann_mse = mean_squared_error(y_valid, y_pred)\n",
        "ann_rmse = np.sqrt(ann_mse)\n",
        "ann_rmse"
      ],
      "execution_count": 84,
      "outputs": [
        {
          "output_type": "execute_result",
          "data": {
            "text/plain": [
              "56458.218968060464"
            ]
          },
          "metadata": {},
          "execution_count": 84
        }
      ]
    },
    {
      "cell_type": "code",
      "metadata": {
        "colab": {
          "base_uri": "https://localhost:8080/"
        },
        "id": "S525t41bokVK",
        "outputId": "80a26faa-76a1-4196-fe14-78326ebaa9c4"
      },
      "source": [
        "y_pred_scaled = model.predict(X_train)\n",
        "y_pred = scaler.inverse_transform(y_pred_scaled)\n",
        "ann_mse = mean_squared_error(y_train, y_pred)\n",
        "ann_rmse = np.sqrt(ann_mse)\n",
        "ann_rmse"
      ],
      "execution_count": 85,
      "outputs": [
        {
          "output_type": "execute_result",
          "data": {
            "text/plain": [
              "55707.18484125946"
            ]
          },
          "metadata": {},
          "execution_count": 85
        }
      ]
    },
    {
      "cell_type": "markdown",
      "metadata": {
        "id": "Nrr182ARWO39"
      },
      "source": [
        "The model has become worse when using BatchNormalization(), and it takes much longer to train. Let's replace BatchNormalization() with SELU activation function, and making necessary adjustments to ensure the network self-normalizes:"
      ]
    },
    {
      "cell_type": "code",
      "metadata": {
        "id": "bdSrpQBQWFBc"
      },
      "source": [
        "keras.backend.clear_session()\n",
        "tf.random.set_seed(42)\n",
        "np.random.seed(42)"
      ],
      "execution_count": 86,
      "outputs": []
    },
    {
      "cell_type": "code",
      "metadata": {
        "id": "a3_R2w2LWj2t"
      },
      "source": [
        "model = keras.models.Sequential()\n",
        "model.add(keras.layers.Input(shape=X_train.shape[-1]))\n",
        "for _ in range(20):\n",
        "  model.add(keras.layers.Dense(100, activation='selu', kernel_initializer='lecun_normal'))\n",
        "model.add(keras.layers.Dense(1))"
      ],
      "execution_count": 87,
      "outputs": []
    },
    {
      "cell_type": "code",
      "metadata": {
        "colab": {
          "base_uri": "https://localhost:8080/"
        },
        "id": "lni2XffgWzl5",
        "outputId": "6a8b1138-fad3-4501-b1db-bcbcb8fcf48e"
      },
      "source": [
        "model.summary()"
      ],
      "execution_count": 88,
      "outputs": [
        {
          "output_type": "stream",
          "text": [
            "Model: \"sequential\"\n",
            "_________________________________________________________________\n",
            "Layer (type)                 Output Shape              Param #   \n",
            "=================================================================\n",
            "dense (Dense)                (None, 100)               5400      \n",
            "_________________________________________________________________\n",
            "dense_1 (Dense)              (None, 100)               10100     \n",
            "_________________________________________________________________\n",
            "dense_2 (Dense)              (None, 100)               10100     \n",
            "_________________________________________________________________\n",
            "dense_3 (Dense)              (None, 100)               10100     \n",
            "_________________________________________________________________\n",
            "dense_4 (Dense)              (None, 100)               10100     \n",
            "_________________________________________________________________\n",
            "dense_5 (Dense)              (None, 100)               10100     \n",
            "_________________________________________________________________\n",
            "dense_6 (Dense)              (None, 100)               10100     \n",
            "_________________________________________________________________\n",
            "dense_7 (Dense)              (None, 100)               10100     \n",
            "_________________________________________________________________\n",
            "dense_8 (Dense)              (None, 100)               10100     \n",
            "_________________________________________________________________\n",
            "dense_9 (Dense)              (None, 100)               10100     \n",
            "_________________________________________________________________\n",
            "dense_10 (Dense)             (None, 100)               10100     \n",
            "_________________________________________________________________\n",
            "dense_11 (Dense)             (None, 100)               10100     \n",
            "_________________________________________________________________\n",
            "dense_12 (Dense)             (None, 100)               10100     \n",
            "_________________________________________________________________\n",
            "dense_13 (Dense)             (None, 100)               10100     \n",
            "_________________________________________________________________\n",
            "dense_14 (Dense)             (None, 100)               10100     \n",
            "_________________________________________________________________\n",
            "dense_15 (Dense)             (None, 100)               10100     \n",
            "_________________________________________________________________\n",
            "dense_16 (Dense)             (None, 100)               10100     \n",
            "_________________________________________________________________\n",
            "dense_17 (Dense)             (None, 100)               10100     \n",
            "_________________________________________________________________\n",
            "dense_18 (Dense)             (None, 100)               10100     \n",
            "_________________________________________________________________\n",
            "dense_19 (Dense)             (None, 100)               10100     \n",
            "_________________________________________________________________\n",
            "dense_20 (Dense)             (None, 1)                 101       \n",
            "=================================================================\n",
            "Total params: 197,401\n",
            "Trainable params: 197,401\n",
            "Non-trainable params: 0\n",
            "_________________________________________________________________\n"
          ],
          "name": "stdout"
        }
      ]
    },
    {
      "cell_type": "code",
      "metadata": {
        "colab": {
          "base_uri": "https://localhost:8080/"
        },
        "id": "m-2tgaDUW1KI",
        "outputId": "ba114ae7-e653-4412-f830-4276e387823c"
      },
      "source": [
        "model.compile(loss='mse', optimizer='Adam')\n",
        "early_stopping_cb = keras.callbacks.EarlyStopping(patience=20)\n",
        "model_checkpoint_cb = keras.callbacks.ModelCheckpoint('hdb_nn_model_v2.h5', monitor='val_loss', save_best_only=True)\n",
        "callbacks = [early_stopping_cb, model_checkpoint_cb]\n",
        "model.fit(X_train, y_train, epochs=100, validation_data=(X_valid, y_valid), callbacks=callbacks)"
      ],
      "execution_count": 89,
      "outputs": [
        {
          "output_type": "stream",
          "text": [
            "Epoch 1/100\n",
            "2098/2098 [==============================] - 10s 4ms/step - loss: 11349295104.0000 - val_loss: 5887080448.0000\n",
            "Epoch 2/100\n",
            "2098/2098 [==============================] - 9s 4ms/step - loss: 8367144448.0000 - val_loss: 8346102784.0000\n",
            "Epoch 3/100\n",
            "2098/2098 [==============================] - 8s 4ms/step - loss: 6468882944.0000 - val_loss: 6003517952.0000\n",
            "Epoch 4/100\n",
            "2098/2098 [==============================] - 8s 4ms/step - loss: 5592128000.0000 - val_loss: 5208974848.0000\n",
            "Epoch 5/100\n",
            "2098/2098 [==============================] - 8s 4ms/step - loss: 5191501824.0000 - val_loss: 5116668928.0000\n",
            "Epoch 6/100\n",
            "2098/2098 [==============================] - 9s 4ms/step - loss: 4934207488.0000 - val_loss: 4628236800.0000\n",
            "Epoch 7/100\n",
            "2098/2098 [==============================] - 9s 4ms/step - loss: 4650633728.0000 - val_loss: 4623218688.0000\n",
            "Epoch 8/100\n",
            "2098/2098 [==============================] - 8s 4ms/step - loss: 4434606592.0000 - val_loss: 4132934912.0000\n",
            "Epoch 9/100\n",
            "2098/2098 [==============================] - 9s 4ms/step - loss: 4254831360.0000 - val_loss: 4954774528.0000\n",
            "Epoch 10/100\n",
            "2098/2098 [==============================] - 8s 4ms/step - loss: 4015718912.0000 - val_loss: 3898443520.0000\n",
            "Epoch 11/100\n",
            "2098/2098 [==============================] - 8s 4ms/step - loss: 3844681216.0000 - val_loss: 3613955328.0000\n",
            "Epoch 12/100\n",
            "2098/2098 [==============================] - 9s 4ms/step - loss: 3546332672.0000 - val_loss: 3929949952.0000\n",
            "Epoch 13/100\n",
            "2098/2098 [==============================] - 9s 4ms/step - loss: 3404286208.0000 - val_loss: 3507305728.0000\n",
            "Epoch 14/100\n",
            "2098/2098 [==============================] - 8s 4ms/step - loss: 3220028416.0000 - val_loss: 3286301440.0000\n",
            "Epoch 15/100\n",
            "2098/2098 [==============================] - 9s 4ms/step - loss: 3117213952.0000 - val_loss: 3034275072.0000\n",
            "Epoch 16/100\n",
            "2098/2098 [==============================] - 8s 4ms/step - loss: 3126358272.0000 - val_loss: 3858854400.0000\n",
            "Epoch 17/100\n",
            "2098/2098 [==============================] - 8s 4ms/step - loss: 2938447360.0000 - val_loss: 2760019968.0000\n",
            "Epoch 18/100\n",
            "2098/2098 [==============================] - 8s 4ms/step - loss: 2836363776.0000 - val_loss: 2945563904.0000\n",
            "Epoch 19/100\n",
            "2098/2098 [==============================] - 8s 4ms/step - loss: 2744641024.0000 - val_loss: 2710741760.0000\n",
            "Epoch 20/100\n",
            "2098/2098 [==============================] - 8s 4ms/step - loss: 2793556992.0000 - val_loss: 2810724864.0000\n",
            "Epoch 21/100\n",
            "2098/2098 [==============================] - 9s 4ms/step - loss: 2718505728.0000 - val_loss: 2632590080.0000\n",
            "Epoch 22/100\n",
            "2098/2098 [==============================] - 9s 4ms/step - loss: 2595220224.0000 - val_loss: 2490103552.0000\n",
            "Epoch 23/100\n",
            "2098/2098 [==============================] - 9s 4ms/step - loss: 2493604352.0000 - val_loss: 2506986496.0000\n",
            "Epoch 24/100\n",
            "2098/2098 [==============================] - 9s 4ms/step - loss: 2540142336.0000 - val_loss: 2488401664.0000\n",
            "Epoch 25/100\n",
            "2098/2098 [==============================] - 9s 4ms/step - loss: 2366977024.0000 - val_loss: 2478486528.0000\n",
            "Epoch 26/100\n",
            "2098/2098 [==============================] - 8s 4ms/step - loss: 2291539712.0000 - val_loss: 2801014272.0000\n",
            "Epoch 27/100\n",
            "2098/2098 [==============================] - 8s 4ms/step - loss: 2298691328.0000 - val_loss: 2287160320.0000\n",
            "Epoch 28/100\n",
            "2098/2098 [==============================] - 9s 4ms/step - loss: 2224165376.0000 - val_loss: 2257725696.0000\n",
            "Epoch 29/100\n",
            "2098/2098 [==============================] - 8s 4ms/step - loss: 2205522176.0000 - val_loss: 2204909824.0000\n",
            "Epoch 30/100\n",
            "2098/2098 [==============================] - 8s 4ms/step - loss: 2151430912.0000 - val_loss: 3176720640.0000\n",
            "Epoch 31/100\n",
            "2098/2098 [==============================] - 8s 4ms/step - loss: 2307717632.0000 - val_loss: 2623294464.0000\n",
            "Epoch 32/100\n",
            "2098/2098 [==============================] - 8s 4ms/step - loss: 2118368768.0000 - val_loss: 2053755008.0000\n",
            "Epoch 33/100\n",
            "2098/2098 [==============================] - 8s 4ms/step - loss: 2063726976.0000 - val_loss: 2076285568.0000\n",
            "Epoch 34/100\n",
            "2098/2098 [==============================] - 8s 4ms/step - loss: 2126645632.0000 - val_loss: 2125643648.0000\n",
            "Epoch 35/100\n",
            "2098/2098 [==============================] - 9s 4ms/step - loss: 2453615872.0000 - val_loss: 2298402304.0000\n",
            "Epoch 36/100\n",
            "2098/2098 [==============================] - 9s 4ms/step - loss: 2111945472.0000 - val_loss: 2529071360.0000\n",
            "Epoch 37/100\n",
            "2098/2098 [==============================] - 8s 4ms/step - loss: 2018629504.0000 - val_loss: 1986127360.0000\n",
            "Epoch 38/100\n",
            "2098/2098 [==============================] - 9s 4ms/step - loss: 1991151488.0000 - val_loss: 2290225408.0000\n",
            "Epoch 39/100\n",
            "2098/2098 [==============================] - 8s 4ms/step - loss: 1947506048.0000 - val_loss: 2166998272.0000\n",
            "Epoch 40/100\n",
            "2098/2098 [==============================] - 8s 4ms/step - loss: 1928701568.0000 - val_loss: 1933347200.0000\n",
            "Epoch 41/100\n",
            "2098/2098 [==============================] - 9s 4ms/step - loss: 1899635968.0000 - val_loss: 7123364352.0000\n",
            "Epoch 42/100\n",
            "2098/2098 [==============================] - 9s 4ms/step - loss: 2011344896.0000 - val_loss: 1901192320.0000\n",
            "Epoch 43/100\n",
            "2098/2098 [==============================] - 8s 4ms/step - loss: 1827183488.0000 - val_loss: 2249741568.0000\n",
            "Epoch 44/100\n",
            "2098/2098 [==============================] - 9s 4ms/step - loss: 1849723136.0000 - val_loss: 1854257280.0000\n",
            "Epoch 45/100\n",
            "2098/2098 [==============================] - 8s 4ms/step - loss: 1811404032.0000 - val_loss: 2306910976.0000\n",
            "Epoch 46/100\n",
            "2098/2098 [==============================] - 8s 4ms/step - loss: 1831427840.0000 - val_loss: 2214479360.0000\n",
            "Epoch 47/100\n",
            "2098/2098 [==============================] - 8s 4ms/step - loss: 1794303104.0000 - val_loss: 2236093184.0000\n",
            "Epoch 48/100\n",
            "2098/2098 [==============================] - 9s 4ms/step - loss: 1775605632.0000 - val_loss: 2106591872.0000\n",
            "Epoch 49/100\n",
            "2098/2098 [==============================] - 9s 4ms/step - loss: 1810470656.0000 - val_loss: 1949068160.0000\n",
            "Epoch 50/100\n",
            "2098/2098 [==============================] - 9s 4ms/step - loss: 1682551040.0000 - val_loss: 1921494528.0000\n",
            "Epoch 51/100\n",
            "2098/2098 [==============================] - 9s 4ms/step - loss: 1715799168.0000 - val_loss: 1716760448.0000\n",
            "Epoch 52/100\n",
            "2098/2098 [==============================] - 8s 4ms/step - loss: 1721336832.0000 - val_loss: 2714038784.0000\n",
            "Epoch 53/100\n",
            "2098/2098 [==============================] - 8s 4ms/step - loss: 1719529472.0000 - val_loss: 1698563712.0000\n",
            "Epoch 54/100\n",
            "2098/2098 [==============================] - 9s 4ms/step - loss: 1615146752.0000 - val_loss: 1863811456.0000\n",
            "Epoch 55/100\n",
            "2098/2098 [==============================] - 8s 4ms/step - loss: 1689105664.0000 - val_loss: 1825238016.0000\n",
            "Epoch 56/100\n",
            "2098/2098 [==============================] - 9s 4ms/step - loss: 4373588480.0000 - val_loss: 2636806144.0000\n",
            "Epoch 57/100\n",
            "2098/2098 [==============================] - 8s 4ms/step - loss: 2176811264.0000 - val_loss: 2198504960.0000\n",
            "Epoch 58/100\n",
            "2098/2098 [==============================] - 9s 4ms/step - loss: 1859672192.0000 - val_loss: 1848844800.0000\n",
            "Epoch 59/100\n",
            "2098/2098 [==============================] - 9s 4ms/step - loss: 1819929728.0000 - val_loss: 2071560448.0000\n",
            "Epoch 60/100\n",
            "2098/2098 [==============================] - 8s 4ms/step - loss: 1674928128.0000 - val_loss: 1729274752.0000\n",
            "Epoch 61/100\n",
            "2098/2098 [==============================] - 9s 4ms/step - loss: 71624957952.0000 - val_loss: 2365881088.0000\n",
            "Epoch 62/100\n",
            "2098/2098 [==============================] - 9s 4ms/step - loss: 1901818368.0000 - val_loss: 1824383488.0000\n",
            "Epoch 63/100\n",
            "2098/2098 [==============================] - 9s 4ms/step - loss: 1651122944.0000 - val_loss: 1799174528.0000\n",
            "Epoch 64/100\n",
            "2098/2098 [==============================] - 8s 4ms/step - loss: 1607803392.0000 - val_loss: 1757308672.0000\n",
            "Epoch 65/100\n",
            "2098/2098 [==============================] - 9s 4ms/step - loss: 1544850304.0000 - val_loss: 1718604288.0000\n",
            "Epoch 66/100\n",
            "2098/2098 [==============================] - 8s 4ms/step - loss: 1580545152.0000 - val_loss: 1641138432.0000\n",
            "Epoch 67/100\n",
            "2098/2098 [==============================] - 9s 4ms/step - loss: 1527168768.0000 - val_loss: 1732017792.0000\n",
            "Epoch 68/100\n",
            "2098/2098 [==============================] - 8s 4ms/step - loss: 1671777536.0000 - val_loss: 2227383296.0000\n",
            "Epoch 69/100\n",
            "2098/2098 [==============================] - 8s 4ms/step - loss: 1723426048.0000 - val_loss: 1779168640.0000\n",
            "Epoch 70/100\n",
            "2098/2098 [==============================] - 8s 4ms/step - loss: 1623605632.0000 - val_loss: 1709497856.0000\n",
            "Epoch 71/100\n",
            "2098/2098 [==============================] - 9s 4ms/step - loss: 1658920704.0000 - val_loss: 1804214912.0000\n",
            "Epoch 72/100\n",
            "2098/2098 [==============================] - 9s 4ms/step - loss: 1592966400.0000 - val_loss: 1904888320.0000\n",
            "Epoch 73/100\n",
            "2098/2098 [==============================] - 8s 4ms/step - loss: 1763210624.0000 - val_loss: 1745466496.0000\n",
            "Epoch 74/100\n",
            "2098/2098 [==============================] - 8s 4ms/step - loss: 1795516800.0000 - val_loss: 1719398016.0000\n",
            "Epoch 75/100\n",
            "2098/2098 [==============================] - 9s 4ms/step - loss: 1549075072.0000 - val_loss: 1674496384.0000\n",
            "Epoch 76/100\n",
            "2098/2098 [==============================] - 8s 4ms/step - loss: 1769214080.0000 - val_loss: 2362796800.0000\n",
            "Epoch 77/100\n",
            "2098/2098 [==============================] - 9s 4ms/step - loss: 1613150976.0000 - val_loss: 1617362816.0000\n",
            "Epoch 78/100\n",
            "2098/2098 [==============================] - 9s 4ms/step - loss: 1533308928.0000 - val_loss: 1969433728.0000\n",
            "Epoch 79/100\n",
            "2098/2098 [==============================] - 8s 4ms/step - loss: 1486010496.0000 - val_loss: 1852817408.0000\n",
            "Epoch 80/100\n",
            "2098/2098 [==============================] - 9s 4ms/step - loss: 1654729472.0000 - val_loss: 1558915584.0000\n",
            "Epoch 81/100\n",
            "2098/2098 [==============================] - 8s 4ms/step - loss: 1468978944.0000 - val_loss: 1831781376.0000\n",
            "Epoch 82/100\n",
            "2098/2098 [==============================] - 8s 4ms/step - loss: 1465511296.0000 - val_loss: 1610907264.0000\n",
            "Epoch 83/100\n",
            "2098/2098 [==============================] - 9s 4ms/step - loss: 1489229056.0000 - val_loss: 1774027776.0000\n",
            "Epoch 84/100\n",
            "2098/2098 [==============================] - 8s 4ms/step - loss: 1459032832.0000 - val_loss: 1591870208.0000\n",
            "Epoch 85/100\n",
            "2098/2098 [==============================] - 9s 4ms/step - loss: 1464035456.0000 - val_loss: 1604117632.0000\n",
            "Epoch 86/100\n",
            "2098/2098 [==============================] - 9s 4ms/step - loss: 1447397504.0000 - val_loss: 1651119616.0000\n",
            "Epoch 87/100\n",
            "2098/2098 [==============================] - 9s 4ms/step - loss: 1461121920.0000 - val_loss: 1784593280.0000\n",
            "Epoch 88/100\n",
            "2098/2098 [==============================] - 9s 4ms/step - loss: 1439832448.0000 - val_loss: 1541822208.0000\n",
            "Epoch 89/100\n",
            "2098/2098 [==============================] - 8s 4ms/step - loss: 1420227584.0000 - val_loss: 1570584320.0000\n",
            "Epoch 90/100\n",
            "2098/2098 [==============================] - 8s 4ms/step - loss: 1377499520.0000 - val_loss: 1536523008.0000\n",
            "Epoch 91/100\n",
            "2098/2098 [==============================] - 8s 4ms/step - loss: 1392133376.0000 - val_loss: 1637697280.0000\n",
            "Epoch 92/100\n",
            "2098/2098 [==============================] - 9s 4ms/step - loss: 1403605888.0000 - val_loss: 1625332096.0000\n",
            "Epoch 93/100\n",
            "2098/2098 [==============================] - 9s 4ms/step - loss: 1334975232.0000 - val_loss: 1685483008.0000\n",
            "Epoch 94/100\n",
            "2098/2098 [==============================] - 8s 4ms/step - loss: 1396753536.0000 - val_loss: 1598025088.0000\n",
            "Epoch 95/100\n",
            "2098/2098 [==============================] - 8s 4ms/step - loss: 1312357504.0000 - val_loss: 1525111040.0000\n",
            "Epoch 96/100\n",
            "2098/2098 [==============================] - 9s 4ms/step - loss: 1402361600.0000 - val_loss: 1610182144.0000\n",
            "Epoch 97/100\n",
            "2098/2098 [==============================] - 9s 4ms/step - loss: 1338672512.0000 - val_loss: 1561682816.0000\n",
            "Epoch 98/100\n",
            "2098/2098 [==============================] - 9s 4ms/step - loss: 1316072448.0000 - val_loss: 1707721216.0000\n",
            "Epoch 99/100\n",
            "2098/2098 [==============================] - 9s 4ms/step - loss: 1352546176.0000 - val_loss: 1652675968.0000\n",
            "Epoch 100/100\n",
            "2098/2098 [==============================] - 9s 4ms/step - loss: 1559123968.0000 - val_loss: 1570489344.0000\n"
          ],
          "name": "stdout"
        },
        {
          "output_type": "execute_result",
          "data": {
            "text/plain": [
              "<keras.callbacks.History at 0x7fc31d0df750>"
            ]
          },
          "metadata": {},
          "execution_count": 89
        }
      ]
    },
    {
      "cell_type": "markdown",
      "metadata": {
        "id": "JQEvpUeTn04i"
      },
      "source": [
        "Looks like the model has not finished converging yet, so we will train it more:"
      ]
    },
    {
      "cell_type": "code",
      "metadata": {
        "colab": {
          "base_uri": "https://localhost:8080/"
        },
        "id": "W6HbsK-0luu4",
        "outputId": "551a77c3-a681-4ed6-8514-5b529fb9d85e"
      },
      "source": [
        "model.fit(X_train, y_train, epochs=100, validation_data=(X_valid, y_valid), callbacks=callbacks)"
      ],
      "execution_count": 92,
      "outputs": [
        {
          "output_type": "stream",
          "text": [
            "Epoch 1/100\n",
            "2098/2098 [==============================] - 9s 4ms/step - loss: 1430051840.0000 - val_loss: 38430176182272.0000\n",
            "Epoch 2/100\n",
            "2098/2098 [==============================] - 8s 4ms/step - loss: 1456035456.0000 - val_loss: 1485338880.0000\n",
            "Epoch 3/100\n",
            "2098/2098 [==============================] - 9s 4ms/step - loss: 1363350272.0000 - val_loss: 1530226944.0000\n",
            "Epoch 4/100\n",
            "2098/2098 [==============================] - 9s 4ms/step - loss: 1292886784.0000 - val_loss: 1469161344.0000\n",
            "Epoch 5/100\n",
            "2098/2098 [==============================] - 9s 4ms/step - loss: 1705670656.0000 - val_loss: 1864783232.0000\n",
            "Epoch 6/100\n",
            "2098/2098 [==============================] - 9s 4ms/step - loss: 1540053632.0000 - val_loss: 1647202944.0000\n",
            "Epoch 7/100\n",
            "2098/2098 [==============================] - 9s 4ms/step - loss: 1337926272.0000 - val_loss: 1468339072.0000\n",
            "Epoch 8/100\n",
            "2098/2098 [==============================] - 8s 4ms/step - loss: 1326492800.0000 - val_loss: 1639182464.0000\n",
            "Epoch 9/100\n",
            "2098/2098 [==============================] - 8s 4ms/step - loss: 1600998400.0000 - val_loss: 1683367296.0000\n",
            "Epoch 10/100\n",
            "2098/2098 [==============================] - 9s 4ms/step - loss: 1373209216.0000 - val_loss: 1611820160.0000\n",
            "Epoch 11/100\n",
            "2098/2098 [==============================] - 8s 4ms/step - loss: 1364635776.0000 - val_loss: 1680584832.0000\n",
            "Epoch 12/100\n",
            "2098/2098 [==============================] - 8s 4ms/step - loss: 1902868224.0000 - val_loss: 1791495936.0000\n",
            "Epoch 13/100\n",
            "2098/2098 [==============================] - 9s 4ms/step - loss: 1521034368.0000 - val_loss: 140102477440614400.0000\n",
            "Epoch 14/100\n",
            "2098/2098 [==============================] - 8s 4ms/step - loss: 52019125551104.0000 - val_loss: 1870239616.0000\n",
            "Epoch 15/100\n",
            "2098/2098 [==============================] - 9s 4ms/step - loss: 1538988800.0000 - val_loss: 1842429696.0000\n",
            "Epoch 16/100\n",
            "2098/2098 [==============================] - 8s 4ms/step - loss: 1478376064.0000 - val_loss: 1744725376.0000\n",
            "Epoch 17/100\n",
            "2098/2098 [==============================] - 8s 4ms/step - loss: 1403224832.0000 - val_loss: 1622752000.0000\n",
            "Epoch 18/100\n",
            "2098/2098 [==============================] - 8s 4ms/step - loss: 1337742336.0000 - val_loss: 1582343808.0000\n",
            "Epoch 19/100\n",
            "2098/2098 [==============================] - 9s 4ms/step - loss: 1290231296.0000 - val_loss: 1451425664.0000\n",
            "Epoch 20/100\n",
            "2098/2098 [==============================] - 8s 4ms/step - loss: 1292799488.0000 - val_loss: 1770749952.0000\n",
            "Epoch 21/100\n",
            "2098/2098 [==============================] - 8s 4ms/step - loss: 1297002112.0000 - val_loss: 1460855424.0000\n",
            "Epoch 22/100\n",
            "2098/2098 [==============================] - 9s 4ms/step - loss: 1342861696.0000 - val_loss: 1655468800.0000\n",
            "Epoch 23/100\n",
            "2098/2098 [==============================] - 9s 4ms/step - loss: 1254011648.0000 - val_loss: 1471654400.0000\n",
            "Epoch 24/100\n",
            "2098/2098 [==============================] - 8s 4ms/step - loss: 1223124608.0000 - val_loss: 1459619072.0000\n",
            "Epoch 25/100\n",
            "2098/2098 [==============================] - 8s 4ms/step - loss: 1294960896.0000 - val_loss: 1500652544.0000\n",
            "Epoch 26/100\n",
            "2098/2098 [==============================] - 8s 4ms/step - loss: 1323196288.0000 - val_loss: 1497252608.0000\n",
            "Epoch 27/100\n",
            "2098/2098 [==============================] - 8s 4ms/step - loss: 2034849152.0000 - val_loss: 2518277376.0000\n",
            "Epoch 28/100\n",
            "2098/2098 [==============================] - 8s 4ms/step - loss: 2401174016.0000 - val_loss: 2838223872.0000\n",
            "Epoch 29/100\n",
            "2098/2098 [==============================] - 8s 4ms/step - loss: 2247416320.0000 - val_loss: 1941276672.0000\n",
            "Epoch 30/100\n",
            "2098/2098 [==============================] - 9s 4ms/step - loss: 1653716096.0000 - val_loss: 1650597632.0000\n",
            "Epoch 31/100\n",
            "2098/2098 [==============================] - 8s 4ms/step - loss: 1442229632.0000 - val_loss: 1578477056.0000\n",
            "Epoch 32/100\n",
            "2098/2098 [==============================] - 9s 4ms/step - loss: 1417127040.0000 - val_loss: 1609149440.0000\n",
            "Epoch 33/100\n",
            "2098/2098 [==============================] - 8s 4ms/step - loss: 1473633024.0000 - val_loss: 1716824064.0000\n",
            "Epoch 34/100\n",
            "2098/2098 [==============================] - 8s 4ms/step - loss: 1432293248.0000 - val_loss: 1614991232.0000\n",
            "Epoch 35/100\n",
            "2098/2098 [==============================] - 8s 4ms/step - loss: 1403051776.0000 - val_loss: 1753103360.0000\n",
            "Epoch 36/100\n",
            "2098/2098 [==============================] - 9s 4ms/step - loss: 1395605120.0000 - val_loss: 1753626752.0000\n",
            "Epoch 37/100\n",
            "2098/2098 [==============================] - 8s 4ms/step - loss: 1349995648.0000 - val_loss: 1514432512.0000\n",
            "Epoch 38/100\n",
            "2098/2098 [==============================] - 9s 4ms/step - loss: 1502685696.0000 - val_loss: 1653698304.0000\n",
            "Epoch 39/100\n",
            "2098/2098 [==============================] - 9s 4ms/step - loss: 1496301696.0000 - val_loss: 1724843264.0000\n"
          ],
          "name": "stdout"
        },
        {
          "output_type": "execute_result",
          "data": {
            "text/plain": [
              "<keras.callbacks.History at 0x7fc31c27ced0>"
            ]
          },
          "metadata": {},
          "execution_count": 92
        }
      ]
    },
    {
      "cell_type": "code",
      "metadata": {
        "colab": {
          "base_uri": "https://localhost:8080/"
        },
        "id": "3IqrXA3oXAsu",
        "outputId": "d5cb365b-4d15-4a67-838f-1292b323b934"
      },
      "source": [
        "model = keras.models.load_model('hdb_nn_model_v2.h5')\n",
        "y_pred = model.predict(X_valid)\n",
        "ann_mse = mean_squared_error(y_valid, y_pred)\n",
        "ann_rmse = np.sqrt(ann_mse)\n",
        "ann_rmse"
      ],
      "execution_count": 94,
      "outputs": [
        {
          "output_type": "execute_result",
          "data": {
            "text/plain": [
              "38097.57674859668"
            ]
          },
          "metadata": {},
          "execution_count": 94
        }
      ]
    },
    {
      "cell_type": "code",
      "metadata": {
        "id": "2SzpgP0PfOcx",
        "colab": {
          "base_uri": "https://localhost:8080/"
        },
        "outputId": "79407641-6ac0-4a3b-c937-50348e9253d1"
      },
      "source": [
        "y_pred = model.predict(X_train)\n",
        "ann_mse = mean_squared_error(y_train, y_pred)\n",
        "ann_rmse = np.sqrt(ann_mse)\n",
        "ann_rmse"
      ],
      "execution_count": 95,
      "outputs": [
        {
          "output_type": "execute_result",
          "data": {
            "text/plain": [
              "34072.1293776516"
            ]
          },
          "metadata": {},
          "execution_count": 95
        }
      ]
    },
    {
      "cell_type": "markdown",
      "metadata": {
        "id": "GTPTCxRAICU-"
      },
      "source": [
        "The first DNN model is still the best option, even if we replaced Batch Normalization() with SELU activation function."
      ]
    },
    {
      "cell_type": "markdown",
      "metadata": {
        "id": "avxcZ86wJBDE"
      },
      "source": [
        "We can further experiment the dataset with different configuration of the DNNs (e.g., different number of hidden layers with different number of neurons), or by changing the optimizer (e.g., RMSProp, Nadam), or even by tuning the learning rate.\n",
        "\n",
        "To conclude this part of the project, there is still room for improvement in terms of selecting the right Machine Learning model. We can do so by filtering out the top performance models, and by further tweaking their hyperparameters to achieve a better accuracy on predicting the resale price."
      ]
    }
  ]
}
